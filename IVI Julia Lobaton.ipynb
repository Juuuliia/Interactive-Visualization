{
 "cells": [
  {
   "cell_type": "code",
   "execution_count": 4,
   "metadata": {},
   "outputs": [],
   "source": [
    "# Module importieren\n",
    "import pandas as pd\n",
    "import matplotlib.pyplot as plt\n",
    "import plotly\n",
    "import plotly.express as px\n",
    "import numpy as np"
   ]
  },
  {
   "attachments": {},
   "cell_type": "markdown",
   "metadata": {},
   "source": [
    "# LO1: Performance"
   ]
  },
  {
   "cell_type": "code",
   "execution_count": 15,
   "metadata": {},
   "outputs": [],
   "source": [
    "# Create list with 100000 random numbers\n",
    "random_list = np.random.randint(0, 1000, 100000)\n",
    "# Create list with 100000 random numbers\n",
    "random_list2 = np.random.randint(0, 1000, 100000)"
   ]
  },
  {
   "cell_type": "code",
   "execution_count": 6,
   "metadata": {},
   "outputs": [
    {
     "name": "stdout",
     "output_type": "stream",
     "text": [
      "15 ms ± 3.61 ms per loop (mean ± std. dev. of 7 runs, 100 loops each)\n"
     ]
    },
    {
     "data": {
      "image/png": "[encoded data removed]",
      "text/plain": [
       "<Figure size 640x480 with 1 Axes>"
      ]
     },
     "metadata": {},
     "output_type": "display_data"
    }
   ],
   "source": [
    "# scatter plot and measure time\n",
    "%timeit plt.scatter(random_list, random_list2)"
   ]
  },
  {
   "cell_type": "markdown",
   "metadata": {},
   "source": [
    "# LO2: Dashboard design principles"
   ]
  },
  {
   "cell_type": "markdown",
   "metadata": {},
   "source": [
    "### Brushing and linking"
   ]
  },
  {
   "cell_type": "code",
   "execution_count": 7,
   "metadata": {},
   "outputs": [],
   "source": [
    "# Module importieren\n",
    "from bokeh.io import output_notebook, show\n",
    "from bokeh.plotting import figure\n",
    "from bokeh.layouts import gridplot\n",
    "from bokeh.models import ColumnDataSource\n",
    "\n",
    "# x und y für beide Grafiken definieren\n",
    "x = np.arange(0,21,1)\n",
    "y1 = x\n",
    "y2 = -x\n",
    "source = ColumnDataSource(data= dict(x=x, y1=y1, y2=y2))\n",
    "\n",
    "# Grafik 1\n",
    "positiv = figure(tools='lasso_select,box_select', width=400, height=400)\n",
    "positiv.circle(x=\"x\", y=\"y1\", size=10, color=\"pink\", source=source)\n",
    "positiv.title.text = \"0 - 20 Y-axis positive\"\n",
    "\n",
    "# Grafik 2\n",
    "negativ = figure(tools='lasso_select,box_select',width=400, height=400)\n",
    "negativ.circle(x=\"x\", y=\"y2\", size=10, color=\"forestgreen\", source=source)\n",
    "negativ.title.text = \"0 - 20 Y-axis negative\"\n",
    "\n",
    "plot = gridplot([[positiv, negativ]])\n",
    "show(plot)"
   ]
  },
  {
   "cell_type": "markdown",
   "metadata": {},
   "source": [
    "### Zoom and filter"
   ]
  },
  {
   "cell_type": "code",
   "execution_count": 8,
   "metadata": {},
   "outputs": [],
   "source": [
    "# Daten einlesen\n",
    "data = pd.read_excel(\"datasetswissvotes.xlsx\",sheet_name=1)"
   ]
  },
  {
   "cell_type": "code",
   "execution_count": 9,
   "metadata": {},
   "outputs": [
    {
     "name": "stderr",
     "output_type": "stream",
     "text": [
      "/var/folders/tc/0z__rljx2754mhb2y8pn92mh0000gn/T/ipykernel_6351/3273161268.py:2: UserWarning: Parsing dates in DD/MM/YYYY format when dayfirst=False (the default) was specified. This may lead to inconsistently parsed dates! Specify a format to ensure consistent parsing.\n",
      "  data[\"datum\"] = pd.to_datetime(data[\"datum\"])\n"
     ]
    }
   ],
   "source": [
    "# Datum Spalte als datatype Datum speichern\n",
    "data[\"datum\"] = pd.to_datetime(data[\"datum\"])"
   ]
  },
  {
   "cell_type": "code",
   "execution_count": 10,
   "metadata": {},
   "outputs": [],
   "source": [
    "# Dataset erstellen ab 01.01.1879 (benötigte Daten erst ab dann verfügbar)\n",
    "dataseit1879 = data[data[\"datum\"] >= \"01.01.1879\"]"
   ]
  },
  {
   "cell_type": "code",
   "execution_count": 11,
   "metadata": {},
   "outputs": [
    {
     "name": "stderr",
     "output_type": "stream",
     "text": [
      "/var/folders/tc/0z__rljx2754mhb2y8pn92mh0000gn/T/ipykernel_6351/3494018509.py:2: SettingWithCopyWarning: \n",
      "A value is trying to be set on a copy of a slice from a DataFrame.\n",
      "Try using .loc[row_indexer,col_indexer] = value instead\n",
      "\n",
      "See the caveats in the documentation: https://pandas.pydata.org/pandas-docs/stable/user_guide/indexing.html#returning-a-view-versus-a-copy\n",
      "  dataseit1879[\"annahme\"] = dataseit1879[\"annahme\"].replace([0], \"Rejection\")\n",
      "/var/folders/tc/0z__rljx2754mhb2y8pn92mh0000gn/T/ipykernel_6351/3494018509.py:3: SettingWithCopyWarning: \n",
      "A value is trying to be set on a copy of a slice from a DataFrame.\n",
      "Try using .loc[row_indexer,col_indexer] = value instead\n",
      "\n",
      "See the caveats in the documentation: https://pandas.pydata.org/pandas-docs/stable/user_guide/indexing.html#returning-a-view-versus-a-copy\n",
      "  dataseit1879[\"annahme\"] = dataseit1879[\"annahme\"].replace([1], \"Acceptance\")\n",
      "/var/folders/tc/0z__rljx2754mhb2y8pn92mh0000gn/T/ipykernel_6351/3494018509.py:4: SettingWithCopyWarning: \n",
      "A value is trying to be set on a copy of a slice from a DataFrame.\n",
      "Try using .loc[row_indexer,col_indexer] = value instead\n",
      "\n",
      "See the caveats in the documentation: https://pandas.pydata.org/pandas-docs/stable/user_guide/indexing.html#returning-a-view-versus-a-copy\n",
      "  dataseit1879[\"annahme\"] = dataseit1879[\"annahme\"].replace([\".\"], \"Obsolet\")\n"
     ]
    }
   ],
   "source": [
    "# Spaltennahmen und Inhalt anpassen\n",
    "dataseit1879[\"annahme\"] = dataseit1879[\"annahme\"].replace([0], \"Rejection\")\n",
    "dataseit1879[\"annahme\"] = dataseit1879[\"annahme\"].replace([1], \"Acceptance\")\n",
    "dataseit1879[\"annahme\"] = dataseit1879[\"annahme\"].replace([\".\"], \"Obsolet\")"
   ]
  },
  {
   "cell_type": "code",
   "execution_count": 12,
   "metadata": {},
   "outputs": [
    {
     "data": {
      "application/vnd.plotly.v1+json": {
       "config": {
        "plotlyServerURL": "https://plot.ly"
       },
       "data": [
        {
         "hovertemplate": "Result=Acceptance<br>Year=%{x}<br>Voter participation=%{y}<br>Prozentualer Anteil Ja-Stimmen=%{marker.size}<extra></extra>",
         "legendgroup": "Acceptance",
         "marker": {
          "color": "forestgreen",
          "size": [
           70.689725,
           52.472957,
           59.386711,
           65.855559,
           77.861865,
           52.855239,
           75.441363,
           60.280672,
           59.349604,
           58.058046,
           60.109909,
           55.834219,
           63.543147,
           65.10704,
           67.907727,
           72.247434,
           72.371671,
           76.274351,
           59.59194,
           70.35377,
           62.576213,
           55.216899,
           71.52127,
           63.483846,
           84.428785,
           54.361963,
           60.323726,
           62.348509,
           94.273924,
           53.156488,
           66.776344,
           83.606729,
           65.065049,
           71.590718,
           55.298982,
           56.288981,
           57.121433,
           71.355064,
           59.766262,
           62.190668,
           62.210873,
           65.394903,
           62.642757,
           70.675919,
           51.915057,
           66.789574,
           66.419858,
           60.577848,
           70.188869,
           53.883171,
           53.696358,
           54.157835,
           91.585619,
           68.8203066465705,
           53.460866,
           72.261163,
           69.058948,
           69.071334,
           52.916304,
           56.710664,
           76.313399,
           52.967465,
           80.000965,
           50.73696,
           55.28243,
           67.330058,
           69.464868,
           68.985185,
           54.046053,
           67.994267,
           62.807937,
           75.629026,
           81.323058,
           69.988757,
           77.541238,
           77.331042,
           62.672155,
           54.579715,
           61.260066,
           84.959959,
           59.893978,
           75.178169,
           62.262568,
           77.538642,
           56.342836,
           71.434253,
           66.703015,
           79.111036,
           63.690914,
           77.610354,
           78.476565,
           68.60929,
           79.469708,
           57.719347,
           55.54001,
           61.992201,
           68.06401,
           61.852489,
           55.934336,
           54.236623,
           74.626838,
           65.726446,
           92.696147,
           72.748544,
           58.467953,
           85.397584,
           83.345148,
           87.728084,
           73.950312,
           72.527567,
           64.50524,
           54.935833,
           59.758428,
           65.118793,
           70.391895,
           68.049184,
           83.952042,
           67.005074,
           85.52386,
           53.458589,
           55.962836,
           75.944025,
           75.616757,
           77.518386,
           52.02275,
           68.272196,
           70.345682,
           82.021674,
           61.017846,
           61.320781,
           57.84603,
           56.706917,
           59.425282,
           62.429734,
           65.584939,
           68.355179,
           54.814827,
           82.291228,
           68.501076,
           81.696727,
           56.044034,
           77.579854,
           68.857424,
           86.054948,
           51.55204,
           67.296818,
           71.041823,
           63.538384,
           60.268195,
           65.546835,
           68.95036,
           63.708576,
           56.131268,
           52.686685,
           60.812114,
           58.696546,
           52.981126,
           68.743756,
           82.087809,
           58.472088,
           52.994393,
           66.524904,
           72.311519,
           57.044134,
           58.846916,
           54.723569,
           64.368948,
           67.340443,
           65.712184,
           63.265594,
           56.992981,
           57.758952,
           54.519894,
           71.099599,
           52.796309,
           72.748156,
           55.68075,
           55.837491,
           56.421283,
           66.078123,
           73.825963,
           82.523299,
           73.113857,
           63.611212,
           58.011692,
           61.469632,
           53.574603,
           54.507929,
           72.459812,
           86.271577,
           75.162185,
           83.77002,
           80.548296,
           70.398901,
           66.65575,
           57.723156,
           62.586923,
           60.64868,
           68.47614,
           72.226234,
           67.13946,
           51.906868,
           61.067342,
           64.59388,
           54.648354,
           51.795936,
           72.906215,
           83.380354,
           60.711649,
           76.169142,
           91.639637,
           80.79886,
           53.945638,
           77.58696,
           82.176838,
           70.704572,
           57.201474,
           63.501376,
           79.430056,
           63.37773,
           74.674343,
           87.770894,
           55.942399,
           59.159532,
           70.585407,
           70.844448,
           54.42466,
           86.357727,
           67.192278,
           66.830689,
           50.991236,
           51.143414,
           64.200522,
           84.741696,
           54.611387,
           72.154512,
           56.09577,
           70.350614,
           77.355409,
           76.036723,
           80.557918,
           56.194186,
           55.450067,
           64.372491,
           73.811371,
           66.392039,
           54.626295,
           58.043707,
           55.977874,
           55.67055,
           50.564648,
           85.579438,
           67.966145,
           67.758625,
           53.419216,
           67.982211,
           59.086707,
           50.531669,
           51.874998,
           68.078696,
           59.611533,
           67.028182,
           50.149421,
           54.561991,
           67.876646,
           64.990522,
           57.502856,
           77.214387,
           53.42092,
           52.91424807853543,
           50.63249,
           87.087702,
           72.68592,
           68.284424,
           67.9594593969537,
           62.8899157574168,
           78.4471327027336,
           60.0027190393744,
           55.7922457789183,
           62.0190055754621,
           50.33183125052,
           88.0657393188516,
           63.5296031524936,
           61.929720141,
           50.080966719,
           57.013227514,
           62.419699003,
           66.782680756,
           65.5132854661127,
           60.4086412288401,
           61.9455421541823,
           58.2157216345062,
           78.7318498974312,
           84.1107167698097,
           72.9394119889057,
           73.59350341498802,
           64.72003914597514,
           66.38285426799747,
           63.74286230866064,
           63.092850657737706,
           60.34022936846426,
           50.13291549633909,
           51.194256721616995,
           51.64593073354967,
           60.20086604204855,
           56.58008393037489,
           64.09655412697528,
           60.98232102064955,
           62.01991361947139,
           56.65355801220022,
           58.41702736127939,
           60.20225583569828,
           71.48000394242187
          ],
          "sizemode": "area",
          "sizeref": 0.23568481,
          "symbol": "circle"
         },
         "mode": "markers",
         "name": "Acceptance",
         "orientation": "v",
         "showlegend": true,
         "type": "scatter",
         "x": [
          "1879-01-19T00:00:00",
          "1879-05-18T00:00:00",
          "1885-10-25T00:00:00",
          "1887-05-15T00:00:00",
          "1887-10-07T00:00:00",
          "1889-11-17T00:00:00",
          "1890-10-26T00:00:00",
          "1891-05-07T00:00:00",
          "1891-10-18T00:00:00",
          "1891-10-18T00:00:00",
          "1893-08-20T00:00:00",
          "1896-04-10T00:00:00",
          "1897-11-07T00:00:00",
          "1897-11-07T00:00:00",
          "1898-02-20T00:00:00",
          "1898-11-13T00:00:00",
          "1898-11-13T00:00:00",
          "1902-11-23T00:00:00",
          "1903-03-15T00:00:00",
          "1905-03-19T00:00:00",
          "1906-06-10T00:00:00",
          "1907-11-03T00:00:00",
          "1908-07-05T00:00:00",
          "1908-07-05T00:00:00",
          "1908-10-25T00:00:00",
          "1912-02-04T00:00:00",
          "1913-05-04T00:00:00",
          "1914-10-25T00:00:00",
          "1915-06-06T00:00:00",
          "1917-05-13T00:00:00",
          "1918-10-13T00:00:00",
          "1919-05-04T00:00:00",
          "1919-05-04T00:00:00",
          "1919-08-10T00:00:00",
          "1920-03-21T00:00:00",
          "1920-05-16T00:00:00",
          "1920-10-31T00:00:00",
          "1921-01-30T00:00:00",
          "1921-05-22T00:00:00",
          "1921-05-22T00:00:00",
          "1925-10-25T00:00:00",
          "1925-12-06T00:00:00",
          "1927-05-15T00:00:00",
          "1928-05-20T00:00:00",
          "1928-12-02T00:00:00",
          "1929-03-03T00:00:00",
          "1929-03-03T00:00:00",
          "1930-04-06T00:00:00",
          "1931-02-08T00:00:00",
          "1931-03-15T00:00:00",
          "1931-03-15T00:00:00",
          "1935-02-24T00:00:00",
          "1938-02-20T00:00:00",
          "1938-02-20T00:00:00",
          "1938-07-03T00:00:00",
          "1938-11-27T00:00:00",
          "1939-01-22T00:00:00",
          "1939-06-04T00:00:00",
          "1944-10-29T00:00:00",
          "1945-01-21T00:00:00",
          "1945-11-25T00:00:00",
          "1947-07-06T00:00:00",
          "1947-07-06T00:00:00",
          "1949-09-11T00:00:00",
          "1949-12-11T00:00:00",
          "1950-12-03T00:00:00",
          "1950-12-03T00:00:00",
          "1951-04-15T00:00:00",
          "1952-03-30T00:00:00",
          "1952-10-05T00:00:00",
          "1952-11-23T00:00:00",
          "1952-11-23T00:00:00",
          "1953-12-06T00:00:00",
          "1954-10-24T00:00:00",
          "1956-03-04T00:00:00",
          "1957-11-24T00:00:00",
          "1957-11-24T00:00:00",
          "1958-05-11T00:00:00",
          "1958-07-06T00:00:00",
          "1958-07-06T00:00:00",
          "1958-12-07T00:00:00",
          "1958-12-07T00:00:00",
          "1959-05-24T00:00:00",
          "1960-05-29T00:00:00",
          "1960-12-04T00:00:00",
          "1961-03-05T00:00:00",
          "1961-12-03T00:00:00",
          "1962-05-27T00:00:00",
          "1962-11-04T00:00:00",
          "1963-12-08T00:00:00",
          "1963-12-08T00:00:00",
          "1964-05-24T00:00:00",
          "1964-12-06T00:00:00",
          "1965-02-28T00:00:00",
          "1965-02-28T00:00:00",
          "1965-05-16T00:00:00",
          "1966-10-16T00:00:00",
          "1968-02-18T00:00:00",
          "1969-09-14T00:00:00",
          "1970-02-01T00:00:00",
          "1970-09-27T00:00:00",
          "1971-02-07T00:00:00",
          "1971-06-06T00:00:00",
          "1971-06-06T00:00:00",
          "1972-03-05T00:00:00",
          "1972-03-05T00:00:00",
          "1972-06-04T00:00:00",
          "1972-06-04T00:00:00",
          "1972-12-03T00:00:00",
          "1972-12-03T00:00:00",
          "1973-03-04T00:00:00",
          "1973-05-20T00:00:00",
          "1973-12-02T00:00:00",
          "1973-12-02T00:00:00",
          "1973-12-02T00:00:00",
          "1973-12-02T00:00:00",
          "1973-12-02T00:00:00",
          "1974-12-08T00:00:00",
          "1975-06-08T00:00:00",
          "1975-06-08T00:00:00",
          "1975-06-08T00:00:00",
          "1975-06-08T00:00:00",
          "1975-12-07T00:00:00",
          "1975-12-07T00:00:00",
          "1975-12-07T00:00:00",
          "1976-06-13T00:00:00",
          "1976-12-05T00:00:00",
          "1976-12-05T00:00:00",
          "1977-03-13T00:00:00",
          "1977-06-12T00:00:00",
          "1977-09-25T00:00:00",
          "1977-09-25T00:00:00",
          "1977-12-04T00:00:00",
          "1977-12-04T00:00:00",
          "1978-02-26T00:00:00",
          "1978-02-26T00:00:00",
          "1978-05-28T00:00:00",
          "1978-09-24T00:00:00",
          "1978-12-03T00:00:00",
          "1978-12-03T00:00:00",
          "1978-12-03T00:00:00",
          "1979-02-18T00:00:00",
          "1979-05-20T00:00:00",
          "1980-03-02T00:00:00",
          "1980-11-30T00:00:00",
          "1980-11-30T00:00:00",
          "1980-11-30T00:00:00",
          "1980-11-30T00:00:00",
          "1981-06-14T00:00:00",
          "1981-06-14T00:00:00",
          "1981-11-29T00:00:00",
          "1982-06-06T00:00:00",
          "1982-11-28T00:00:00",
          "1983-02-27T00:00:00",
          "1983-12-04T00:00:00",
          "1984-02-26T00:00:00",
          "1984-02-26T00:00:00",
          "1984-12-02T00:00:00",
          "1984-12-02T00:00:00",
          "1985-03-10T00:00:00",
          "1985-03-10T00:00:00",
          "1985-06-09T00:00:00",
          "1985-06-09T00:00:00",
          "1985-06-09T00:00:00",
          "1985-09-22T00:00:00",
          "1985-09-22T00:00:00",
          "1986-12-07T00:00:00",
          "1987-04-05T00:00:00",
          "1987-04-05T00:00:00",
          "1987-04-05T00:00:00",
          "1987-12-06T00:00:00",
          "1987-12-06T00:00:00",
          "1990-09-23T00:00:00",
          "1990-09-23T00:00:00",
          "1990-09-23T00:00:00",
          "1991-03-03T00:00:00",
          "1991-06-02T00:00:00",
          "1992-05-17T00:00:00",
          "1992-05-17T00:00:00",
          "1992-05-17T00:00:00",
          "1992-05-17T00:00:00",
          "1992-05-17T00:00:00",
          "1992-05-17T00:00:00",
          "1992-09-27T00:00:00",
          "1992-09-27T00:00:00",
          "1992-09-27T00:00:00",
          "1992-09-27T00:00:00",
          "1993-03-07T00:00:00",
          "1993-03-07T00:00:00",
          "1993-09-26T00:00:00",
          "1993-09-26T00:00:00",
          "1993-09-26T00:00:00",
          "1993-09-26T00:00:00",
          "1993-09-26T00:00:00",
          "1993-11-28T00:00:00",
          "1993-11-28T00:00:00",
          "1993-11-28T00:00:00",
          "1993-11-28T00:00:00",
          "1994-02-20T00:00:00",
          "1994-02-20T00:00:00",
          "1994-02-20T00:00:00",
          "1994-02-20T00:00:00",
          "1994-02-20T00:00:00",
          "1994-09-25T00:00:00",
          "1994-09-25T00:00:00",
          "1994-12-04T00:00:00",
          "1994-12-04T00:00:00",
          "1995-03-12T00:00:00",
          "1995-06-25T00:00:00",
          "1996-03-10T00:00:00",
          "1996-03-10T00:00:00",
          "1996-03-10T00:00:00",
          "1996-03-10T00:00:00",
          "1996-06-09T00:00:00",
          "1997-06-08T00:00:00",
          "1998-06-07T00:00:00",
          "1998-09-27T00:00:00",
          "1998-11-29T00:00:00",
          "1998-11-29T00:00:00",
          "1998-11-29T00:00:00",
          "1999-02-07T00:00:00",
          "1999-02-07T00:00:00",
          "1999-02-07T00:00:00",
          "1999-04-18T00:00:00",
          "1999-06-13T00:00:00",
          "1999-06-13T00:00:00",
          "1999-06-13T00:00:00",
          "2000-03-12T00:00:00",
          "2000-05-21T00:00:00",
          "2000-11-26T00:00:00",
          "2001-06-10T00:00:00",
          "2001-06-10T00:00:00",
          "2001-06-10T00:00:00",
          "2001-12-02T00:00:00",
          "2002-03-03T00:00:00",
          "2002-06-02T00:00:00",
          "2002-11-24T00:00:00",
          "2003-02-09T00:00:00",
          "2003-02-09T00:00:00",
          "2003-05-18T00:00:00",
          "2003-05-18T00:00:00",
          "2004-02-08T00:00:00",
          "2004-09-26T00:00:00",
          "2004-11-28T00:00:00",
          "2004-11-28T00:00:00",
          "2004-11-28T00:00:00",
          "2005-06-05T00:00:00",
          "2005-06-05T00:00:00",
          "2005-09-25T00:00:00",
          "2005-11-27T00:00:00",
          "2005-11-27T00:00:00",
          "2006-05-21T00:00:00",
          "2006-09-24T00:00:00",
          "2006-09-24T00:00:00",
          "2006-11-26T00:00:00",
          "2006-11-26T00:00:00",
          "2007-06-17T00:00:00",
          "2008-02-24T00:00:00",
          "2008-11-30T00:00:00",
          "2008-11-30T00:00:00",
          "2009-02-08T00:00:00",
          "2009-05-17T00:00:00",
          "2009-05-17T00:00:00",
          "2009-09-27T00:00:00",
          "2009-09-27T00:00:00",
          "2009-11-29T00:00:00",
          "2009-11-29T00:00:00",
          "2010-03-07T00:00:00",
          "2010-09-26T00:00:00",
          "2010-11-28T00:00:00",
          "2012-03-11T00:00:00",
          "2012-03-11T00:00:00",
          "2012-09-23T00:00:00",
          "2012-11-25T00:00:00",
          "2013-03-03T00:00:00",
          "2013-03-03T00:00:00",
          "2013-06-09T00:00:00",
          "2013-09-22T00:00:00",
          "2013-09-22T00:00:00",
          "2014-02-09T00:00:00",
          "2014-02-09T00:00:00",
          "2014-05-18T00:00:00",
          "2014-05-18T00:00:00",
          "2015-06-14T00:00:00",
          "2015-06-14T00:00:00",
          "2016-02-28T00:00:00",
          "2016-06-05T00:00:00",
          "2016-06-05T00:00:00",
          "2016-09-25T00:00:00",
          "2017-02-12T00:00:00",
          "2017-02-12T00:00:00",
          "2017-05-21T00:00:00",
          "2017-09-24T00:00:00",
          "2018-03-04T00:00:00",
          "2018-06-10T00:00:00",
          "2018-09-23T00:00:00",
          "2018-11-25T00:00:00",
          "2019-05-19T00:00:00",
          "2019-05-19T00:00:00",
          "2020-02-09T00:00:00",
          "2020-09-27T00:00:00",
          "2020-09-27T00:00:00",
          "2021-03-07T00:00:00",
          "2021-03-07T00:00:00",
          "2021-06-13T00:00:00",
          "2021-06-13T00:00:00",
          "2021-09-26T00:00:00",
          "2021-11-28T00:00:00",
          "2021-11-28T00:00:00",
          "2022-02-13T00:00:00",
          "2022-05-15T00:00:00",
          "2022-05-15T00:00:00",
          "2022-05-15T00:00:00"
         ],
         "xaxis": "x",
         "y": [
          61.900232,
          60.345928,
          60.420702,
          62.451385,
          42.398129,
          70.871186,
          59.748226,
          49.923639,
          61.965212,
          61.557035,
          49.181732,
          57.838923,
          38.665166,
          38.758347,
          78.07387,
          52.750196,
          52.800191,
          46.635108,
          73.278308,
          40.044745,
          51.405828,
          74.659297,
          48.702913,
          49.31375,
          48.286521,
          64.259448,
          36.035893,
          44.058857,
          56.016115,
          42.056886,
          49.480315,
          53.893543,
          53.764762,
          32.827423,
          60.232341,
          77.469594,
          68.103033,
          63.105339,
          38.567562,
          38.388711,
          67.95219,
          63.075245,
          55.312021,
          45.245902,
          55.522995,
          67.260018,
          67.260018,
          75.708271,
          41.832702,
          53.476592,
          53.476592,
          79.917752,
          54.326586,
          54.326586,
          57.055638,
          60.351939,
          46.550408,
          54.728811,
          50.922614,
          52.893195,
          55.531901,
          79.667653,
          79.667653,
          42.518793,
          72.00667,
          55.686666,
          55.687878,
          53.086507,
          64.146375,
          52.631942,
          56.423383,
          56.423383,
          59.148171,
          46.772866,
          49.401515,
          45.452207,
          45.487665,
          53.217158,
          42.337802,
          42.407735,
          46.236704,
          46.405758,
          42.860136,
          38.989803,
          49.794274,
          62.814192,
          45.886382,
          38.772605,
          36.312404,
          41.806982,
          41.746444,
          37.028999,
          39.201114,
          59.668954,
          59.704703,
          37.469183,
          47.867767,
          41.801812,
          32.941861,
          43.761281,
          43.771594,
          57.733509,
          37.852548,
          37.761535,
          35.711721,
          35.70675,
          26.7433,
          26.724765,
          52.942511,
          52.912942,
          27.507701,
          40.285268,
          35.027599,
          34.993931,
          35.012429,
          34.950821,
          34.989702,
          39.535685,
          36.823171,
          36.809703,
          36.819945,
          36.808117,
          30.903978,
          30.932952,
          31.082718,
          34.526367,
          44.838337,
          45.053236,
          44.956128,
          49.914563,
          51.622542,
          51.634821,
          38.108123,
          38.164348,
          48.306116,
          47.99809,
          48.700768,
          42.049348,
          43.151001,
          43.267978,
          43.164171,
          49.553406,
          37.638916,
          34.463517,
          42.058219,
          41.871674,
          41.893957,
          41.917078,
          33.942561,
          33.891,
          30.352505,
          35.178567,
          32.922512,
          32.415668,
          35.832453,
          52.76434,
          52.785479,
          37.537489,
          37.62286,
          34.383651,
          34.400801,
          35.245754,
          35.247612,
          35.316694,
          40.997013,
          41.097361,
          34.710302,
          42.381851,
          42.237334,
          42.261626,
          47.692889,
          47.670681,
          40.435647,
          40.339801,
          40.299483,
          31.285931,
          33.322568,
          38.800645,
          38.796684,
          39.207492,
          39.177486,
          39.214041,
          39.139094,
          45.896797,
          45.409879,
          45.670753,
          45.652533,
          51.276208,
          51.246964,
          39.849825,
          39.495919,
          39.888584,
          39.782167,
          39.741892,
          45.407513,
          45.380311,
          45.387561,
          45.385918,
          40.796239,
          40.777257,
          40.748292,
          40.833743,
          40.635256,
          45.508588,
          45.902622,
          43.983834,
          44.029685,
          37.855421,
          40.423473,
          31.031735,
          30.993839,
          30.922656,
          30.983186,
          31.416443,
          35.254933,
          40.920934,
          51.81462,
          38.306826,
          38.024368,
          38.105723,
          38.013773,
          37.979776,
          37.961485,
          35.901818,
          45.583276,
          45.620897,
          45.742648,
          41.922645,
          48.307272,
          41.533949,
          42.517845,
          42.498094,
          42.0496,
          37.821742,
          58.434196,
          41.815531,
          47.62366,
          28.713252,
          28.709825,
          49.560357,
          49.507782,
          45.539377,
          53.816061,
          36.862395,
          36.84281,
          37.03877,
          56.758951,
          56.637236,
          54.426669,
          42.239565,
          42.39343,
          27.866378,
          49.044309,
          49.050583,
          45.116395,
          45.141096,
          36.20206,
          38.624402,
          47.518305,
          47.14005,
          51.44473,
          38.800804,
          38.772825,
          41.009001,
          40.43187,
          52.626498,
          53.75915,
          45.485471,
          35.83637,
          52.926258,
          45.182451,
          44.766363,
          42.411125,
          27.596361,
          46.7409319606467,
          46.5083118500796,
          39.4282467140427,
          46.6693665256876,
          46.6780281456453,
          56.234773386936,
          56.5682358532689,
          55.8418232513961,
          56.1724704512551,
          43.512645486,
          43.645026134,
          63.46687918,
          46.681931543,
          46.788965098,
          42.9437120098897,
          46.8443650726228,
          46.617389439664,
          42.8877009740246,
          47.1119992971939,
          53.8675295719419,
          34.51640745698722,
          37.48499062069684,
          48.376555516180396,
          43.74048342850441,
          43.878961435171135,
          41.69495697836427,
          59.359032054404885,
          59.42527957217102,
          51.41515389336963,
          51.10337578303824,
          59.6560051293626,
          59.5657037974679,
          52.602638658580425,
          65.31169752999325,
          65.73155960554563,
          44.24117761887892,
          40.03,
          40.26,
          39.98
         ],
         "yaxis": "y"
        },
        {
         "hovertemplate": "Result=Rejection<br>Year=%{x}<br>Voter participation=%{y}<br>Prozentualer Anteil Ja-Stimmen=%{marker.size}<extra></extra>",
         "legendgroup": "Rejection",
         "marker": {
          "color": "pink",
          "size": [
           31.765755,
           47.478493,
           21.102346,
           35.09341,
           41.06158,
           47.889318,
           43.960745,
           38.546561,
           20.60234,
           31.115951,
           46.12872,
           19.751724,
           29.321046,
           41.161556,
           43.225824,
           41.980173,
           45.541904,
           19.880668,
           43.33478,
           30.214369,
           40.85536,
           35.040629,
           30.827783,
           24.379062,
           40.734948,
           47.538175,
           45.927385,
           49.809535,
           24.489976,
           33.57219,
           15.907553,
           38.078746,
           38.352927,
           44.634498,
           12.957123,
           11.012459,
           18.475512,
           26.76805,
           42.159256,
           42.368877,
           42.001707,
           49.624808,
           40.142485,
           2.67737,
           37.154116,
           32.654877,
           39.696363,
           49.886569,
           44.891931,
           46.185706,
           32.349196,
           42.838334,
           27.713918,
           31.317847,
           15.219343,
           11.5159252577365,
           28.92034,
           37.631033,
           44.271878,
           40.233721,
           32.434526,
           34.947729,
           33.654633,
           19.194104,
           31.188908,
           36.164699,
           38.512839,
           24.848025,
           46.286186,
           35.506152,
           27.011065,
           44.319166,
           12.449316,
           32.647533,
           46.083981,
           18.968248,
           43.744038,
           42.018674,
           15.488568,
           36.461333,
           42.041428,
           33.054256,
           44.046641,
           31.238104,
           50.23506,
           40.682429,
           36.92128,
           42.462445,
           38.745992,
           45.519985,
           48.094679,
           42.758268,
           25.894436,
           34.986395,
           33.078394,
           46.550506,
           29.440949,
           34.81596,
           31.675228,
           37.785934,
           41.974776,
           23.37222,
           32.694047,
           48.246463,
           34.483122,
           45.986055,
           48.922718,
           55.381481,
           28.948519,
           49.669448,
           15.625791,
           52.754402,
           34.191135,
           44.391824,
           26.708275,
           31.836976,
           52.765974,
           48.226429,
           32.380472,
           29.6092,
           42.220042,
           48.902697,
           43.551736,
           43.290067,
           24.296061,
           21.958305,
           29.540532,
           33.759551,
           21.884612,
           40.515498,
           42.23975,
           41.220843,
           39.028453,
           48.295314,
           44.362687,
           37.597395,
           38.67746,
           20.621889,
           47.906053,
           31.195557,
           43.316072,
           36.277647,
           44.021007,
           49.192236,
           40.955448,
           48.795408,
           34.591814,
           21.099284,
           16.222368,
           49.640177,
           21.589103,
           50.918754,
           44.833378,
           36.167416,
           26.957341,
           48.921248,
           45.02806,
           45.766533,
           15.776233,
           47.630265,
           34.783982,
           30.959724,
           43.110749,
           29.474745,
           24.33411,
           16.659317,
           39.301047,
           18.381991,
           38.159324,
           33.873529,
           40.56056,
           28.720577,
           45.512775,
           35.11893,
           30.778758,
           34.26871,
           32.698451,
           48.946825,
           35.592532,
           38.017752,
           28.511879,
           32.721619,
           31.366199,
           34.042557,
           46.660185,
           47.355597,
           47.129152,
           37.140246,
           45.647994,
           39.267327,
           43.634689,
           37.057368,
           27.583571,
           30.593742,
           49.664242,
           27.766086,
           44.714821,
           42.808272,
           25.256911,
           25.518935,
           50.982976,
           52.83838,
           42.770859,
           23.445747,
           49.122023,
           36.528336,
           33.592252,
           27.636159,
           46.438445,
           43.699644,
           39.391156,
           46.336122,
           32.967803,
           25.945111,
           22.501967,
           49.178969,
           29.34299,
           33.29118,
           24.59398,
           22.985413,
           41.47881,
           26.007774,
           41.317894,
           30.285986,
           38.992321,
           30.002712,
           17.970053,
           28.244261,
           21.333612,
           31.81696233861028,
           46.626261462209456,
           44.507562,
           36.195698,
           34.097841,
           39.472092,
           46.019939,
           37.620098,
           17.887956,
           23.150045,
           30.852533,
           20.302226,
           22.862334,
           21.902892,
           23.213812,
           34.110655,
           25.36563,
           18.248415,
           47.55902239105325,
           48.21588346347949,
           47.424851,
           49.906193,
           32.727382,
           37.646105,
           27.08562,
           37.670801,
           33.714921,
           41.597756,
           31.606912,
           37.201807,
           35.927445,
           32.100634,
           31.419533,
           34.123125,
           43.240984,
           48.366679,
           49.773763,
           41.735406,
           28.758047,
           31.91789,
           36.249442,
           24.799689,
           30.5172,
           41.377224,
           33.995068,
           36.747387,
           31.767154,
           29.502361,
           27.266964,
           45.79220892233989,
           41.536556,
           43.697371,
           44.194305,
           33.49898,
           43.920794,
           31.094077,
           24.715107,
           23.954145,
           47.394755,
           34.012867,
           54.3475463516759,
           23.6553319565734,
           26.7873607232506,
           34.6978631886927,
           41.5307265134954,
           39.5389867191057,
           30.1824408345545,
           23.7276478442164,
           46.5893043659189,
           28.4832258,
           38.1592509,
           40.799205,
           25.895631,
           22.724232,
           24.5803746416662,
           8.02500399179954,
           27.463116423,
           28.956837937,
           49.158788969,
           41.145184875,
           40.071468512,
           32.382318818,
           23.058258332,
           29.221426264,
           36.4335259370599,
           40.5998130789233,
           45.803574516023,
           40.9233526082815,
           49.9530046565399,
           47.3127110210577,
           28.4378400887543,
           24.281269227581568,
           38.69950608022288,
           31.61748092160055,
           45.2709745688987,
           33.73392028506579,
           36.339595633576074,
           42.9460565196021,
           38.29494926674495,
           48.06792936682059,
           36.76030389375715,
           50.731194712296,
           42.546888017074075,
           35.63720468949641,
           39.308087082224304,
           39.443828660721245,
           48.4073743178188,
           35.12231937649516,
           31.922602508296315,
           20.859277708592778,
           37.37179573972589,
           45.41873670160431
          ],
          "sizemode": "area",
          "sizeref": 0.23568481,
          "symbol": "circle"
         },
         "mode": "markers",
         "name": "Rejection",
         "orientation": "v",
         "showlegend": true,
         "type": "scatter",
         "x": [
          "1880-10-31T00:00:00",
          "1882-07-30T00:00:00",
          "1882-07-30T00:00:00",
          "1882-11-26T00:00:00",
          "1884-11-05T00:00:00",
          "1884-11-05T00:00:00",
          "1884-11-05T00:00:00",
          "1884-11-05T00:00:00",
          "1891-03-15T00:00:00",
          "1891-06-12T00:00:00",
          "1894-04-03T00:00:00",
          "1894-03-06T00:00:00",
          "1894-04-11T00:00:00",
          "1895-03-02T00:00:00",
          "1895-09-29T00:00:00",
          "1895-03-11T00:00:00",
          "1896-04-10T00:00:00",
          "1896-04-10T00:00:00",
          "1897-02-28T00:00:00",
          "1900-05-20T00:00:00",
          "1900-11-04T00:00:00",
          "1900-11-04T00:00:00",
          "1903-10-25T00:00:00",
          "1903-10-25T00:00:00",
          "1903-10-25T00:00:00",
          "1910-10-23T00:00:00",
          "1918-06-02T00:00:00",
          "1920-03-21T00:00:00",
          "1920-03-21T00:00:00",
          "1921-01-30T00:00:00",
          "1922-06-11T00:00:00",
          "1922-06-11T00:00:00",
          "1922-06-11T00:00:00",
          "1922-09-24T00:00:00",
          "1922-12-03T00:00:00",
          "1923-02-18T00:00:00",
          "1923-02-18T00:00:00",
          "1923-04-15T00:00:00",
          "1923-06-03T00:00:00",
          "1924-02-17T00:00:00",
          "1925-05-24T00:00:00",
          "1926-12-05T00:00:00",
          "1927-05-15T00:00:00",
          "1929-03-03T00:00:00",
          "1929-05-12T00:00:00",
          "1929-05-12T00:00:00",
          "1931-12-06T00:00:00",
          "1931-12-06T00:00:00",
          "1933-05-28T00:00:00",
          "1934-03-11T00:00:00",
          "1935-05-05T00:00:00",
          "1935-06-02T00:00:00",
          "1935-09-08T00:00:00",
          "1937-11-28T00:00:00",
          "1938-02-20T00:00:00",
          "1938-02-20T00:00:00",
          "1939-01-22T00:00:00",
          "1939-12-03T00:00:00",
          "1940-12-01T00:00:00",
          "1941-03-09T00:00:00",
          "1942-01-25T00:00:00",
          "1942-05-03T00:00:00",
          "1946-02-10T00:00:00",
          "1946-12-08T00:00:00",
          "1947-05-18T00:00:00",
          "1948-03-14T00:00:00",
          "1949-05-22T00:00:00",
          "1949-05-22T00:00:00",
          "1950-01-29T00:00:00",
          "1950-06-04T00:00:00",
          "1950-10-01T00:00:00",
          "1951-02-25T00:00:00",
          "1951-04-15T00:00:00",
          "1951-07-08T00:00:00",
          "1952-03-02T00:00:00",
          "1952-04-20T00:00:00",
          "1952-05-18T00:00:00",
          "1952-07-06T00:00:00",
          "1952-10-05T00:00:00",
          "1953-04-19T00:00:00",
          "1953-12-06T00:00:00",
          "1954-06-20T00:00:00",
          "1954-06-20T00:00:00",
          "1954-12-05T00:00:00",
          "1955-03-13T00:00:00",
          "1955-03-13T00:00:00",
          "1956-05-13T00:00:00",
          "1956-05-13T00:00:00",
          "1956-09-30T00:00:00",
          "1956-09-30T00:00:00",
          "1957-03-03T00:00:00",
          "1957-03-03T00:00:00",
          "1958-01-26T00:00:00",
          "1958-10-26T00:00:00",
          "1959-02-01T00:00:00",
          "1961-03-05T00:00:00",
          "1961-10-22T00:00:00",
          "1962-04-01T00:00:00",
          "1962-05-27T00:00:00",
          "1963-05-26T00:00:00",
          "1964-02-02T00:00:00",
          "1966-10-16T00:00:00",
          "1967-07-02T00:00:00",
          "1968-05-19T00:00:00",
          "1969-06-01T00:00:00",
          "1970-06-07T00:00:00",
          "1970-09-27T00:00:00",
          "1970-11-15T00:00:00",
          "1972-03-05T00:00:00",
          "1972-09-24T00:00:00",
          "1972-12-03T00:00:00",
          "1973-03-04T00:00:00",
          "1974-10-20T00:00:00",
          "1974-12-08T00:00:00",
          "1974-12-08T00:00:00",
          "1974-12-08T00:00:00",
          "1975-03-02T00:00:00",
          "1975-06-08T00:00:00",
          "1976-03-21T00:00:00",
          "1976-03-21T00:00:00",
          "1976-03-21T00:00:00",
          "1976-06-13T00:00:00",
          "1976-06-13T00:00:00",
          "1976-09-26T00:00:00",
          "1976-09-26T00:00:00",
          "1976-12-05T00:00:00",
          "1977-03-13T00:00:00",
          "1977-03-13T00:00:00",
          "1977-03-13T00:00:00",
          "1977-06-12T00:00:00",
          "1977-09-25T00:00:00",
          "1977-09-25T00:00:00",
          "1977-09-25T00:00:00",
          "1977-09-25T00:00:00",
          "1977-12-04T00:00:00",
          "1977-12-04T00:00:00",
          "1978-02-26T00:00:00",
          "1978-02-26T00:00:00",
          "1978-05-28T00:00:00",
          "1978-05-28T00:00:00",
          "1978-05-28T00:00:00",
          "1978-05-28T00:00:00",
          "1978-12-03T00:00:00",
          "1979-02-18T00:00:00",
          "1979-02-18T00:00:00",
          "1979-02-18T00:00:00",
          "1979-05-20T00:00:00",
          "1980-03-02T00:00:00",
          "1981-04-05T00:00:00",
          "1982-06-06T00:00:00",
          "1982-11-28T00:00:00",
          "1983-02-27T00:00:00",
          "1983-12-04T00:00:00",
          "1984-02-26T00:00:00",
          "1984-05-20T00:00:00",
          "1984-05-20T00:00:00",
          "1984-09-23T00:00:00",
          "1984-09-23T00:00:00",
          "1984-12-02T00:00:00",
          "1985-03-10T00:00:00",
          "1985-03-10T00:00:00",
          "1985-06-09T00:00:00",
          "1985-09-22T00:00:00",
          "1985-12-01T00:00:00",
          "1986-03-16T00:00:00",
          "1986-09-28T00:00:00",
          "1986-09-28T00:00:00",
          "1986-09-28T00:00:00",
          "1986-09-28T00:00:00",
          "1986-12-07T00:00:00",
          "1987-04-05T00:00:00",
          "1987-12-06T00:00:00",
          "1988-06-12T00:00:00",
          "1988-06-12T00:00:00",
          "1988-12-04T00:00:00",
          "1988-12-04T00:00:00",
          "1988-12-04T00:00:00",
          "1989-06-04T00:00:00",
          "1989-11-26T00:00:00",
          "1989-11-26T00:00:00",
          "1990-04-01T00:00:00",
          "1990-04-01T00:00:00",
          "1990-04-01T00:00:00",
          "1990-04-01T00:00:00",
          "1990-04-01T00:00:00",
          "1990-04-01T00:00:00",
          "1990-09-23T00:00:00",
          "1991-03-03T00:00:00",
          "1991-06-02T00:00:00",
          "1992-02-16T00:00:00",
          "1992-02-16T00:00:00",
          "1992-05-17T00:00:00",
          "1992-09-27T00:00:00",
          "1992-09-27T00:00:00",
          "1992-12-06T00:00:00",
          "1993-03-07T00:00:00",
          "1993-06-06T00:00:00",
          "1993-06-06T00:00:00",
          "1993-11-28T00:00:00",
          "1993-11-28T00:00:00",
          "1994-06-12T00:00:00",
          "1994-06-12T00:00:00",
          "1994-06-12T00:00:00",
          "1994-12-04T00:00:00",
          "1995-03-12T00:00:00",
          "1995-03-12T00:00:00",
          "1995-03-12T00:00:00",
          "1995-06-25T00:00:00",
          "1995-06-25T00:00:00",
          "1996-03-10T00:00:00",
          "1996-06-09T00:00:00",
          "1996-12-01T00:00:00",
          "1996-12-01T00:00:00",
          "1997-06-08T00:00:00",
          "1997-06-08T00:00:00",
          "1997-09-28T00:00:00",
          "1997-09-28T00:00:00",
          "1998-06-07T00:00:00",
          "1998-06-07T00:00:00",
          "1998-09-27T00:00:00",
          "1998-09-27T00:00:00",
          "1998-11-29T00:00:00",
          "1999-02-07T00:00:00",
          "1999-06-13T00:00:00",
          "1999-06-13T00:00:00",
          "2000-03-12T00:00:00",
          "2000-03-12T00:00:00",
          "2000-03-12T00:00:00",
          "2000-03-12T00:00:00",
          "2000-09-24T00:00:00",
          "2000-09-24T00:00:00",
          "2000-09-24T00:00:00",
          "2000-09-24T00:00:00",
          "2000-09-24T00:00:00",
          "2000-11-26T00:00:00",
          "2000-11-26T00:00:00",
          "2000-11-26T00:00:00",
          "2000-11-26T00:00:00",
          "2001-03-04T00:00:00",
          "2001-03-04T00:00:00",
          "2001-03-04T00:00:00",
          "2001-12-02T00:00:00",
          "2001-12-02T00:00:00",
          "2001-12-02T00:00:00",
          "2001-12-02T00:00:00",
          "2002-03-03T00:00:00",
          "2002-06-02T00:00:00",
          "2002-09-22T00:00:00",
          "2002-09-22T00:00:00",
          "2002-09-22T00:00:00",
          "2002-11-24T00:00:00",
          "2003-05-18T00:00:00",
          "2003-05-18T00:00:00",
          "2003-05-18T00:00:00",
          "2003-05-18T00:00:00",
          "2003-05-18T00:00:00",
          "2003-05-18T00:00:00",
          "2003-05-18T00:00:00",
          "2004-02-08T00:00:00",
          "2004-02-08T00:00:00",
          "2004-05-16T00:00:00",
          "2004-05-16T00:00:00",
          "2004-05-16T00:00:00",
          "2004-09-26T00:00:00",
          "2004-09-26T00:00:00",
          "2004-09-26T00:00:00",
          "2006-09-24T00:00:00",
          "2007-03-11T00:00:00",
          "2008-02-24T00:00:00",
          "2008-06-01T00:00:00",
          "2008-06-01T00:00:00",
          "2008-06-01T00:00:00",
          "2008-11-30T00:00:00",
          "2008-11-30T00:00:00",
          "2008-11-30T00:00:00",
          "2009-11-29T00:00:00",
          "2010-03-07T00:00:00",
          "2010-03-07T00:00:00",
          "2010-11-28T00:00:00",
          "2010-11-28T00:00:00",
          "2011-02-13T00:00:00",
          "2012-03-11T00:00:00",
          "2012-03-11T00:00:00",
          "2012-03-11T00:00:00",
          "2012-06-17T00:00:00",
          "2012-06-17T00:00:00",
          "2012-06-17T00:00:00",
          "2012-09-23T00:00:00",
          "2012-09-23T00:00:00",
          "2013-03-03T00:00:00",
          "2013-06-09T00:00:00",
          "2013-09-22T00:00:00",
          "2013-11-24T00:00:00",
          "2013-11-24T00:00:00",
          "2013-11-24T00:00:00",
          "2014-02-09T00:00:00",
          "2014-05-18T00:00:00",
          "2014-05-18T00:00:00",
          "2014-09-28T00:00:00",
          "2014-09-28T00:00:00",
          "2014-11-30T00:00:00",
          "2014-11-30T00:00:00",
          "2014-11-30T00:00:00",
          "2015-03-08T00:00:00",
          "2015-03-08T00:00:00",
          "2015-06-14T00:00:00",
          "2015-06-14T00:00:00",
          "2016-02-28T00:00:00",
          "2016-02-28T00:00:00",
          "2016-02-28T00:00:00",
          "2016-06-05T00:00:00",
          "2016-06-05T00:00:00",
          "2016-06-05T00:00:00",
          "2016-09-25T00:00:00",
          "2016-09-25T00:00:00",
          "2016-11-27T00:00:00",
          "2017-02-12T00:00:00",
          "2017-09-24T00:00:00",
          "2017-09-24T00:00:00",
          "2018-03-04T00:00:00",
          "2018-06-10T00:00:00",
          "2018-09-23T00:00:00",
          "2018-09-23T00:00:00",
          "2018-11-25T00:00:00",
          "2018-11-25T00:00:00",
          "2019-02-10T00:00:00",
          "2020-02-09T00:00:00",
          "2020-09-27T00:00:00",
          "2020-09-27T00:00:00",
          "2020-09-27T00:00:00",
          "2020-11-29T00:00:00",
          "2020-11-29T00:00:00",
          "2021-03-07T00:00:00",
          "2021-06-13T00:00:00",
          "2021-06-13T00:00:00",
          "2021-06-13T00:00:00",
          "2021-09-26T00:00:00",
          "2021-11-28T00:00:00",
          "2022-02-13T00:00:00",
          "2022-02-13T00:00:00",
          "2022-02-13T00:00:00"
         ],
         "xaxis": "x",
         "y": [
          59.420084,
          46.953872,
          50.746558,
          75.640278,
          60.088381,
          60.088381,
          60.088381,
          60.088381,
          68.613927,
          64.261264,
          46.791036,
          57.589121,
          72.852445,
          46.327665,
          48.627554,
          67.875048,
          57.6035,
          57.584593,
          64.604483,
          66.737965,
          58.762656,
          58.814445,
          53.232956,
          53.253006,
          53.09847,
          62.346375,
          65.396177,
          60.293883,
          60.232341,
          63.105339,
          45.599603,
          45.599603,
          45.599603,
          70.310116,
          86.259764,
          53.238028,
          53.425971,
          65.760219,
          64.577784,
          76.984381,
          68.235294,
          72.711438,
          57.853788,
          67.260018,
          65.084716,
          66.407361,
          78.1472,
          78.1472,
          80.508986,
          78.987382,
          63.167386,
          84.353114,
          60.896058,
          65.939003,
          54.326586,
          54.326586,
          46.550408,
          63.871149,
          63.613821,
          61.429123,
          61.971646,
          51.486147,
          65.208615,
          50.131897,
          59.430337,
          56.551591,
          61.047776,
          61.047776,
          52.815975,
          55.344333,
          43.67242,
          52.40431,
          53.086507,
          37.577275,
          40.090397,
          49.120894,
          53.910372,
          44.196107,
          52.631942,
          52.650216,
          60.283543,
          40.948781,
          40.65712,
          51.878811,
          55.534772,
          55.534772,
          52.087475,
          52.641086,
          43.950778,
          43.833777,
          53.103022,
          52.949254,
          51.800622,
          61.838584,
          66.721128,
          63.258731,
          40.100725,
          55.600588,
          38.783071,
          48.797023,
          44.276267,
          48.043969,
          37.978388,
          36.923293,
          33.919614,
          74.715263,
          43.813279,
          40.948148,
          35.711721,
          33.091959,
          52.942511,
          27.502335,
          70.332273,
          39.577427,
          39.72262,
          39.72262,
          28.379377,
          36.788574,
          39.449096,
          39.449096,
          39.307235,
          34.571383,
          34.523385,
          33.508392,
          33.540733,
          45.156113,
          45.197933,
          45.222183,
          44.956128,
          50.009748,
          51.586493,
          51.586493,
          51.673599,
          51.9271,
          38.290631,
          38.282431,
          48.199307,
          48.334899,
          49.012658,
          48.870778,
          48.90647,
          49.127449,
          43.276352,
          49.584252,
          49.553819,
          49.580115,
          37.658701,
          34.666881,
          39.882064,
          35.177017,
          32.922512,
          32.383943,
          35.868708,
          52.768939,
          42.519575,
          42.480164,
          41.643242,
          41.616995,
          37.641001,
          34.402204,
          34.59971,
          35.722986,
          40.865204,
          37.968208,
          50.705335,
          34.74303,
          34.74303,
          34.816331,
          34.897222,
          34.741674,
          42.418217,
          47.663882,
          41.896843,
          42.021166,
          52.828533,
          52.862742,
          52.837681,
          35.959431,
          69.18242,
          69.150945,
          41.124328,
          41.09366,
          41.128903,
          41.058094,
          40.817911,
          40.733352,
          40.41611,
          31.235389,
          33.270224,
          44.402384,
          44.500203,
          39.204814,
          45.550892,
          45.476912,
          78.742727,
          51.230508,
          55.579307,
          55.584045,
          45.486668,
          45.497553,
          46.619786,
          46.754388,
          46.776892,
          43.978922,
          37.934589,
          37.935898,
          37.922765,
          40.348491,
          40.346466,
          31.016211,
          31.339443,
          46.747217,
          46.721785,
          35.442769,
          35.470268,
          40.618785,
          40.822937,
          41.322727,
          40.989862,
          51.585945,
          51.636977,
          38.364468,
          38.1757,
          45.641278,
          45.947432,
          42.104589,
          42.186922,
          42.200379,
          42.379855,
          44.703433,
          44.703433,
          44.891117,
          45.270205,
          44.809603,
          41.663963,
          41.716472,
          41.716451,
          41.661271,
          55.799099,
          55.711416,
          55.799526,
          37.845636,
          37.92608,
          37.853126,
          37.846994,
          58.261664,
          41.698696,
          45.171543,
          45.171543,
          44.796074,
          47.928103,
          49.584178,
          49.808118,
          49.681562,
          49.69441,
          49.719993,
          49.593506,
          49.562193,
          45.576113,
          45.417194,
          50.819193,
          50.837867,
          50.847017,
          53.830643,
          53.841902,
          53.545082,
          48.881836,
          45.947063,
          38.74401,
          45.180636,
          44.851395,
          44.811095,
          47.636065,
          47.216121,
          47.340565,
          53.38613,
          45.820878,
          45.752815,
          52.926258,
          52.361964,
          49.124724,
          44.987318,
          45.417008,
          44.857255,
          38.531848,
          38.525362,
          38.652141,
          42.526785,
          42.811004,
          46.6108826713863,
          39.5164354765723,
          46.8903918189652,
          53.6327584106415,
          53.587466867228,
          53.6129469633529,
          56.414945580898,
          56.3573846966993,
          56.3233165066987,
          46.9608029,
          47.1799958,
          49.904945,
          49.979876,
          49.812178,
          42.0724210342029,
          42.0577682249073,
          43.447347829,
          43.708785365,
          63.249091577,
          63.730868154,
          62.912651312,
          46.769673838,
          46.954888753,
          46.776769258,
          42.9985234134388,
          43.1302884513442,
          45.3837204225599,
          46.6073785605516,
          47.3944804409215,
          47.3853789531912,
          54.8377786310375,
          34.55372091055197,
          37.52175771078859,
          37.46913827733065,
          48.30010908006196,
          48.4087464020459,
          37.92033395946436,
          41.67935630868769,
          59.49076248544521,
          59.34455918366455,
          59.20780420882004,
          47.03690123186078,
          46.94798961666647,
          51.28749914951414,
          59.77530530039583,
          59.763502391541714,
          59.70031143336886,
          52.233941782529534,
          64.68059296948543,
          44.19993059220753,
          44.02818245573446,
          44.14294028760854
         ],
         "yaxis": "y"
        },
        {
         "hovertemplate": "Result=Obsolet<br>Year=%{x}<br>Voter participation=%{y}<br>Prozentualer Anteil Ja-Stimmen=%{marker.size}<extra></extra>",
         "legendgroup": "Obsolet",
         "marker": {
          "color": "gray",
          "size": [
           34.56253086475858,
           48.30279308379251,
           49.63147640014801
          ],
          "sizemode": "area",
          "sizeref": 0.23568481,
          "symbol": "circle"
         },
         "mode": "markers",
         "name": "Obsolet",
         "orientation": "v",
         "showlegend": true,
         "type": "scatter",
         "x": [
          "2000-09-24T00:00:00",
          "2002-09-22T00:00:00",
          "2010-11-28T00:00:00"
         ],
         "xaxis": "x",
         "y": [
          44.703433,
          45.171543,
          52.926258
         ],
         "yaxis": "y"
        }
       ],
       "layout": {
        "legend": {
         "itemsizing": "constant",
         "title": {
          "text": "Result"
         },
         "tracegroupgap": 0
        },
        "template": {
         "data": {
          "bar": [
           {
            "error_x": {
             "color": "#2a3f5f"
            },
            "error_y": {
             "color": "#2a3f5f"
            },
            "marker": {
             "line": {
              "color": "#E5ECF6",
              "width": 0.5
             },
             "pattern": {
              "fillmode": "overlay",
              "size": 10,
              "solidity": 0.2
             }
            },
            "type": "bar"
           }
          ],
          "barpolar": [
           {
            "marker": {
             "line": {
              "color": "#E5ECF6",
              "width": 0.5
             },
             "pattern": {
              "fillmode": "overlay",
              "size": 10,
              "solidity": 0.2
             }
            },
            "type": "barpolar"
           }
          ],
          "carpet": [
           {
            "aaxis": {
             "endlinecolor": "#2a3f5f",
             "gridcolor": "white",
             "linecolor": "white",
             "minorgridcolor": "white",
             "startlinecolor": "#2a3f5f"
            },
            "baxis": {
             "endlinecolor": "#2a3f5f",
             "gridcolor": "white",
             "linecolor": "white",
             "minorgridcolor": "white",
             "startlinecolor": "#2a3f5f"
            },
            "type": "carpet"
           }
          ],
          "choropleth": [
           {
            "colorbar": {
             "outlinewidth": 0,
             "ticks": ""
            },
            "type": "choropleth"
           }
          ],
          "contour": [
           {
            "colorbar": {
             "outlinewidth": 0,
             "ticks": ""
            },
            "colorscale": [
             [
              0,
              "#0d0887"
             ],
             [
              0.1111111111111111,
              "#46039f"
             ],
             [
              0.2222222222222222,
              "#7201a8"
             ],
             [
              0.3333333333333333,
              "#9c179e"
             ],
             [
              0.4444444444444444,
              "#bd3786"
             ],
             [
              0.5555555555555556,
              "#d8576b"
             ],
             [
              0.6666666666666666,
              "#ed7953"
             ],
             [
              0.7777777777777778,
              "#fb9f3a"
             ],
             [
              0.8888888888888888,
              "#fdca26"
             ],
             [
              1,
              "#f0f921"
             ]
            ],
            "type": "contour"
           }
          ],
          "contourcarpet": [
           {
            "colorbar": {
             "outlinewidth": 0,
             "ticks": ""
            },
            "type": "contourcarpet"
           }
          ],
          "heatmap": [
           {
            "colorbar": {
             "outlinewidth": 0,
             "ticks": ""
            },
            "colorscale": [
             [
              0,
              "#0d0887"
             ],
             [
              0.1111111111111111,
              "#46039f"
             ],
             [
              0.2222222222222222,
              "#7201a8"
             ],
             [
              0.3333333333333333,
              "#9c179e"
             ],
             [
              0.4444444444444444,
              "#bd3786"
             ],
             [
              0.5555555555555556,
              "#d8576b"
             ],
             [
              0.6666666666666666,
              "#ed7953"
             ],
             [
              0.7777777777777778,
              "#fb9f3a"
             ],
             [
              0.8888888888888888,
              "#fdca26"
             ],
             [
              1,
              "#f0f921"
             ]
            ],
            "type": "heatmap"
           }
          ],
          "heatmapgl": [
           {
            "colorbar": {
             "outlinewidth": 0,
             "ticks": ""
            },
            "colorscale": [
             [
              0,
              "#0d0887"
             ],
             [
              0.1111111111111111,
              "#46039f"
             ],
             [
              0.2222222222222222,
              "#7201a8"
             ],
             [
              0.3333333333333333,
              "#9c179e"
             ],
             [
              0.4444444444444444,
              "#bd3786"
             ],
             [
              0.5555555555555556,
              "#d8576b"
             ],
             [
              0.6666666666666666,
              "#ed7953"
             ],
             [
              0.7777777777777778,
              "#fb9f3a"
             ],
             [
              0.8888888888888888,
              "#fdca26"
             ],
             [
              1,
              "#f0f921"
             ]
            ],
            "type": "heatmapgl"
           }
          ],
          "histogram": [
           {
            "marker": {
             "pattern": {
              "fillmode": "overlay",
              "size": 10,
              "solidity": 0.2
             }
            },
            "type": "histogram"
           }
          ],
          "histogram2d": [
           {
            "colorbar": {
             "outlinewidth": 0,
             "ticks": ""
            },
            "colorscale": [
             [
              0,
              "#0d0887"
             ],
             [
              0.1111111111111111,
              "#46039f"
             ],
             [
              0.2222222222222222,
              "#7201a8"
             ],
             [
              0.3333333333333333,
              "#9c179e"
             ],
             [
              0.4444444444444444,
              "#bd3786"
             ],
             [
              0.5555555555555556,
              "#d8576b"
             ],
             [
              0.6666666666666666,
              "#ed7953"
             ],
             [
              0.7777777777777778,
              "#fb9f3a"
             ],
             [
              0.8888888888888888,
              "#fdca26"
             ],
             [
              1,
              "#f0f921"
             ]
            ],
            "type": "histogram2d"
           }
          ],
          "histogram2dcontour": [
           {
            "colorbar": {
             "outlinewidth": 0,
             "ticks": ""
            },
            "colorscale": [
             [
              0,
              "#0d0887"
             ],
             [
              0.1111111111111111,
              "#46039f"
             ],
             [
              0.2222222222222222,
              "#7201a8"
             ],
             [
              0.3333333333333333,
              "#9c179e"
             ],
             [
              0.4444444444444444,
              "#bd3786"
             ],
             [
              0.5555555555555556,
              "#d8576b"
             ],
             [
              0.6666666666666666,
              "#ed7953"
             ],
             [
              0.7777777777777778,
              "#fb9f3a"
             ],
             [
              0.8888888888888888,
              "#fdca26"
             ],
             [
              1,
              "#f0f921"
             ]
            ],
            "type": "histogram2dcontour"
           }
          ],
          "mesh3d": [
           {
            "colorbar": {
             "outlinewidth": 0,
             "ticks": ""
            },
            "type": "mesh3d"
           }
          ],
          "parcoords": [
           {
            "line": {
             "colorbar": {
              "outlinewidth": 0,
              "ticks": ""
             }
            },
            "type": "parcoords"
           }
          ],
          "pie": [
           {
            "automargin": true,
            "type": "pie"
           }
          ],
          "scatter": [
           {
            "fillpattern": {
             "fillmode": "overlay",
             "size": 10,
             "solidity": 0.2
            },
            "type": "scatter"
           }
          ],
          "scatter3d": [
           {
            "line": {
             "colorbar": {
              "outlinewidth": 0,
              "ticks": ""
             }
            },
            "marker": {
             "colorbar": {
              "outlinewidth": 0,
              "ticks": ""
             }
            },
            "type": "scatter3d"
           }
          ],
          "scattercarpet": [
           {
            "marker": {
             "colorbar": {
              "outlinewidth": 0,
              "ticks": ""
             }
            },
            "type": "scattercarpet"
           }
          ],
          "scattergeo": [
           {
            "marker": {
             "colorbar": {
              "outlinewidth": 0,
              "ticks": ""
             }
            },
            "type": "scattergeo"
           }
          ],
          "scattergl": [
           {
            "marker": {
             "colorbar": {
              "outlinewidth": 0,
              "ticks": ""
             }
            },
            "type": "scattergl"
           }
          ],
          "scattermapbox": [
           {
            "marker": {
             "colorbar": {
              "outlinewidth": 0,
              "ticks": ""
             }
            },
            "type": "scattermapbox"
           }
          ],
          "scatterpolar": [
           {
            "marker": {
             "colorbar": {
              "outlinewidth": 0,
              "ticks": ""
             }
            },
            "type": "scatterpolar"
           }
          ],
          "scatterpolargl": [
           {
            "marker": {
             "colorbar": {
              "outlinewidth": 0,
              "ticks": ""
             }
            },
            "type": "scatterpolargl"
           }
          ],
          "scatterternary": [
           {
            "marker": {
             "colorbar": {
              "outlinewidth": 0,
              "ticks": ""
             }
            },
            "type": "scatterternary"
           }
          ],
          "surface": [
           {
            "colorbar": {
             "outlinewidth": 0,
             "ticks": ""
            },
            "colorscale": [
             [
              0,
              "#0d0887"
             ],
             [
              0.1111111111111111,
              "#46039f"
             ],
             [
              0.2222222222222222,
              "#7201a8"
             ],
             [
              0.3333333333333333,
              "#9c179e"
             ],
             [
              0.4444444444444444,
              "#bd3786"
             ],
             [
              0.5555555555555556,
              "#d8576b"
             ],
             [
              0.6666666666666666,
              "#ed7953"
             ],
             [
              0.7777777777777778,
              "#fb9f3a"
             ],
             [
              0.8888888888888888,
              "#fdca26"
             ],
             [
              1,
              "#f0f921"
             ]
            ],
            "type": "surface"
           }
          ],
          "table": [
           {
            "cells": {
             "fill": {
              "color": "#EBF0F8"
             },
             "line": {
              "color": "white"
             }
            },
            "header": {
             "fill": {
              "color": "#C8D4E3"
             },
             "line": {
              "color": "white"
             }
            },
            "type": "table"
           }
          ]
         },
         "layout": {
          "annotationdefaults": {
           "arrowcolor": "#2a3f5f",
           "arrowhead": 0,
           "arrowwidth": 1
          },
          "autotypenumbers": "strict",
          "coloraxis": {
           "colorbar": {
            "outlinewidth": 0,
            "ticks": ""
           }
          },
          "colorscale": {
           "diverging": [
            [
             0,
             "#8e0152"
            ],
            [
             0.1,
             "#c51b7d"
            ],
            [
             0.2,
             "#de77ae"
            ],
            [
             0.3,
             "#f1b6da"
            ],
            [
             0.4,
             "#fde0ef"
            ],
            [
             0.5,
             "#f7f7f7"
            ],
            [
             0.6,
             "#e6f5d0"
            ],
            [
             0.7,
             "#b8e186"
            ],
            [
             0.8,
             "#7fbc41"
            ],
            [
             0.9,
             "#4d9221"
            ],
            [
             1,
             "#276419"
            ]
           ],
           "sequential": [
            [
             0,
             "#0d0887"
            ],
            [
             0.1111111111111111,
             "#46039f"
            ],
            [
             0.2222222222222222,
             "#7201a8"
            ],
            [
             0.3333333333333333,
             "#9c179e"
            ],
            [
             0.4444444444444444,
             "#bd3786"
            ],
            [
             0.5555555555555556,
             "#d8576b"
            ],
            [
             0.6666666666666666,
             "#ed7953"
            ],
            [
             0.7777777777777778,
             "#fb9f3a"
            ],
            [
             0.8888888888888888,
             "#fdca26"
            ],
            [
             1,
             "#f0f921"
            ]
           ],
           "sequentialminus": [
            [
             0,
             "#0d0887"
            ],
            [
             0.1111111111111111,
             "#46039f"
            ],
            [
             0.2222222222222222,
             "#7201a8"
            ],
            [
             0.3333333333333333,
             "#9c179e"
            ],
            [
             0.4444444444444444,
             "#bd3786"
            ],
            [
             0.5555555555555556,
             "#d8576b"
            ],
            [
             0.6666666666666666,
             "#ed7953"
            ],
            [
             0.7777777777777778,
             "#fb9f3a"
            ],
            [
             0.8888888888888888,
             "#fdca26"
            ],
            [
             1,
             "#f0f921"
            ]
           ]
          },
          "colorway": [
           "#636efa",
           "#EF553B",
           "#00cc96",
           "#ab63fa",
           "#FFA15A",
           "#19d3f3",
           "#FF6692",
           "#B6E880",
           "#FF97FF",
           "#FECB52"
          ],
          "font": {
           "color": "#2a3f5f"
          },
          "geo": {
           "bgcolor": "white",
           "lakecolor": "white",
           "landcolor": "#E5ECF6",
           "showlakes": true,
           "showland": true,
           "subunitcolor": "white"
          },
          "hoverlabel": {
           "align": "left"
          },
          "hovermode": "closest",
          "mapbox": {
           "style": "light"
          },
          "paper_bgcolor": "white",
          "plot_bgcolor": "#E5ECF6",
          "polar": {
           "angularaxis": {
            "gridcolor": "white",
            "linecolor": "white",
            "ticks": ""
           },
           "bgcolor": "#E5ECF6",
           "radialaxis": {
            "gridcolor": "white",
            "linecolor": "white",
            "ticks": ""
           }
          },
          "scene": {
           "xaxis": {
            "backgroundcolor": "#E5ECF6",
            "gridcolor": "white",
            "gridwidth": 2,
            "linecolor": "white",
            "showbackground": true,
            "ticks": "",
            "zerolinecolor": "white"
           },
           "yaxis": {
            "backgroundcolor": "#E5ECF6",
            "gridcolor": "white",
            "gridwidth": 2,
            "linecolor": "white",
            "showbackground": true,
            "ticks": "",
            "zerolinecolor": "white"
           },
           "zaxis": {
            "backgroundcolor": "#E5ECF6",
            "gridcolor": "white",
            "gridwidth": 2,
            "linecolor": "white",
            "showbackground": true,
            "ticks": "",
            "zerolinecolor": "white"
           }
          },
          "shapedefaults": {
           "line": {
            "color": "#2a3f5f"
           }
          },
          "ternary": {
           "aaxis": {
            "gridcolor": "white",
            "linecolor": "white",
            "ticks": ""
           },
           "baxis": {
            "gridcolor": "white",
            "linecolor": "white",
            "ticks": ""
           },
           "bgcolor": "#E5ECF6",
           "caxis": {
            "gridcolor": "white",
            "linecolor": "white",
            "ticks": ""
           }
          },
          "title": {
           "x": 0.05
          },
          "xaxis": {
           "automargin": true,
           "gridcolor": "white",
           "linecolor": "white",
           "ticks": "",
           "title": {
            "standoff": 15
           },
           "zerolinecolor": "white",
           "zerolinewidth": 2
          },
          "yaxis": {
           "automargin": true,
           "gridcolor": "white",
           "linecolor": "white",
           "ticks": "",
           "title": {
            "standoff": 15
           },
           "zerolinecolor": "white",
           "zerolinewidth": 2
          }
         }
        },
        "title": {
         "text": "Votes since 01.01.1879"
        },
        "xaxis": {
         "anchor": "y",
         "domain": [
          0,
          1
         ],
         "title": {
          "text": "Year"
         }
        },
        "yaxis": {
         "anchor": "x",
         "domain": [
          0,
          1
         ],
         "title": {
          "text": "Voter participation"
         }
        }
       }
      }
     },
     "metadata": {},
     "output_type": "display_data"
    }
   ],
   "source": [
    "# Plot erstellen\n",
    "fig = px.scatter(dataseit1879, x=\"datum\", y=\"bet\", color=\"annahme\",size=\"volkja-proz\",\n",
    "    labels={\"datum\":\"Year\",\n",
    "    \"bet\":\"Voter participation\",\n",
    "    \"annahme\":\"Result\",\n",
    "    \"volkja-proz\":\"Prozentualer Anteil Ja-Stimmen\"},\n",
    "    title = \"Votes since 01.01.1879\",\n",
    "color_discrete_sequence= [\"forestgreen\", \"pink\", \"gray\"],\n",
    "                )\n",
    "fig.show()"
   ]
  },
  {
   "cell_type": "markdown",
   "metadata": {},
   "source": [
    "# LO3: HCI Basics"
   ]
  },
  {
   "cell_type": "markdown",
   "metadata": {},
   "source": [
    "### Animated transitions"
   ]
  },
  {
   "cell_type": "code",
   "execution_count": 13,
   "metadata": {},
   "outputs": [],
   "source": [
    "# Daten einlesen\n",
    "# quelle : https://opendata.swiss/en/dataset/covid-19-schweiz/resource/ce8c184f-e1fb-4adf-b0a2-c1bc9ec8471a\n",
    "data2 = pd.read_csv(\"PopulationAgeRangeSexData.csv\")\n",
    "\n",
    "# Neuen Datensatz ohne CH / FL / CHFL erstellen\n",
    "data2 = data2[(data2[\"geoRegion\"]!=\"CH\") & (data2[\"geoRegion\"] !=\"CHFL\") & (data2[\"geoRegion\"] != \"FL\")]"
   ]
  },
  {
   "cell_type": "code",
   "execution_count": 14,
   "metadata": {},
   "outputs": [
    {
     "data": {
      "application/vnd.plotly.v1+json": {
       "config": {
        "plotlyServerURL": "https://plot.ly"
       },
       "data": [
        {
         "alignmentgroup": "True",
         "hovertemplate": "Age group=%{x}<br>Canton=AG<br>Population=%{y}<extra></extra>",
         "ids": [
          "0 - 9",
          "0 - 9"
         ],
         "legendgroup": "0 - 9",
         "marker": {
          "color": "#636efa",
          "pattern": {
           "shape": ""
          }
         },
         "name": "0 - 9",
         "offsetgroup": "0 - 9",
         "orientation": "v",
         "showlegend": true,
         "textposition": "auto",
         "type": "bar",
         "x": [
          "0 - 9",
          "0 - 9"
         ],
         "xaxis": "x",
         "y": [
          37362,
          34831
         ],
         "yaxis": "y"
        },
        {
         "alignmentgroup": "True",
         "hovertemplate": "Age group=%{x}<br>Canton=AG<br>Population=%{y}<extra></extra>",
         "ids": [
          "10 - 19",
          "10 - 19"
         ],
         "legendgroup": "10 - 19",
         "marker": {
          "color": "#EF553B",
          "pattern": {
           "shape": ""
          }
         },
         "name": "10 - 19",
         "offsetgroup": "10 - 19",
         "orientation": "v",
         "showlegend": true,
         "textposition": "auto",
         "type": "bar",
         "x": [
          "10 - 19",
          "10 - 19"
         ],
         "xaxis": "x",
         "y": [
          35144,
          33106
         ],
         "yaxis": "y"
        },
        {
         "alignmentgroup": "True",
         "hovertemplate": "Age group=%{x}<br>Canton=AG<br>Population=%{y}<extra></extra>",
         "ids": [
          "20 - 29",
          "20 - 29"
         ],
         "legendgroup": "20 - 29",
         "marker": {
          "color": "#00cc96",
          "pattern": {
           "shape": ""
          }
         },
         "name": "20 - 29",
         "offsetgroup": "20 - 29",
         "orientation": "v",
         "showlegend": true,
         "textposition": "auto",
         "type": "bar",
         "x": [
          "20 - 29",
          "20 - 29"
         ],
         "xaxis": "x",
         "y": [
          41439,
          39102
         ],
         "yaxis": "y"
        },
        {
         "alignmentgroup": "True",
         "hovertemplate": "Age group=%{x}<br>Canton=AG<br>Population=%{y}<extra></extra>",
         "ids": [
          "30 - 39",
          "30 - 39"
         ],
         "legendgroup": "30 - 39",
         "marker": {
          "color": "#ab63fa",
          "pattern": {
           "shape": ""
          }
         },
         "name": "30 - 39",
         "offsetgroup": "30 - 39",
         "orientation": "v",
         "showlegend": true,
         "textposition": "auto",
         "type": "bar",
         "x": [
          "30 - 39",
          "30 - 39"
         ],
         "xaxis": "x",
         "y": [
          50581,
          48506
         ],
         "yaxis": "y"
        },
        {
         "alignmentgroup": "True",
         "hovertemplate": "Age group=%{x}<br>Canton=AG<br>Population=%{y}<extra></extra>",
         "ids": [
          "40 - 49",
          "40 - 49"
         ],
         "legendgroup": "40 - 49",
         "marker": {
          "color": "#FFA15A",
          "pattern": {
           "shape": ""
          }
         },
         "name": "40 - 49",
         "offsetgroup": "40 - 49",
         "orientation": "v",
         "showlegend": true,
         "textposition": "auto",
         "type": "bar",
         "x": [
          "40 - 49",
          "40 - 49"
         ],
         "xaxis": "x",
         "y": [
          48683,
          46873
         ],
         "yaxis": "y"
        },
        {
         "alignmentgroup": "True",
         "hovertemplate": "Age group=%{x}<br>Canton=AG<br>Population=%{y}<extra></extra>",
         "ids": [
          "50 - 59",
          "50 - 59"
         ],
         "legendgroup": "50 - 59",
         "marker": {
          "color": "#19d3f3",
          "pattern": {
           "shape": ""
          }
         },
         "name": "50 - 59",
         "offsetgroup": "50 - 59",
         "orientation": "v",
         "showlegend": true,
         "textposition": "auto",
         "type": "bar",
         "x": [
          "50 - 59",
          "50 - 59"
         ],
         "xaxis": "x",
         "y": [
          54730,
          52756
         ],
         "yaxis": "y"
        },
        {
         "alignmentgroup": "True",
         "hovertemplate": "Age group=%{x}<br>Canton=AG<br>Population=%{y}<extra></extra>",
         "ids": [
          "60 - 69",
          "60 - 69"
         ],
         "legendgroup": "60 - 69",
         "marker": {
          "color": "#FF6692",
          "pattern": {
           "shape": ""
          }
         },
         "name": "60 - 69",
         "offsetgroup": "60 - 69",
         "orientation": "v",
         "showlegend": true,
         "textposition": "auto",
         "type": "bar",
         "x": [
          "60 - 69",
          "60 - 69"
         ],
         "xaxis": "x",
         "y": [
          40278,
          41028
         ],
         "yaxis": "y"
        },
        {
         "alignmentgroup": "True",
         "hovertemplate": "Age group=%{x}<br>Canton=AG<br>Population=%{y}<extra></extra>",
         "ids": [
          "70 - 79",
          "70 - 79"
         ],
         "legendgroup": "70 - 79",
         "marker": {
          "color": "#B6E880",
          "pattern": {
           "shape": ""
          }
         },
         "name": "70 - 79",
         "offsetgroup": "70 - 79",
         "orientation": "v",
         "showlegend": true,
         "textposition": "auto",
         "type": "bar",
         "x": [
          "70 - 79",
          "70 - 79"
         ],
         "xaxis": "x",
         "y": [
          27627,
          29679
         ],
         "yaxis": "y"
        },
        {
         "alignmentgroup": "True",
         "hovertemplate": "Age group=%{x}<br>Canton=AG<br>Population=%{y}<extra></extra>",
         "ids": [
          "80+",
          "80+"
         ],
         "legendgroup": "80+",
         "marker": {
          "color": "#FF97FF",
          "pattern": {
           "shape": ""
          }
         },
         "name": "80+",
         "offsetgroup": "80+",
         "orientation": "v",
         "showlegend": true,
         "textposition": "auto",
         "type": "bar",
         "x": [
          "80+",
          "80+"
         ],
         "xaxis": "x",
         "y": [
          12970,
          19377
         ],
         "yaxis": "y"
        }
       ],
       "frames": [
        {
         "data": [
          {
           "alignmentgroup": "True",
           "hovertemplate": "Age group=%{x}<br>Canton=AG<br>Population=%{y}<extra></extra>",
           "ids": [
            "0 - 9",
            "0 - 9"
           ],
           "legendgroup": "0 - 9",
           "marker": {
            "color": "#636efa",
            "pattern": {
             "shape": ""
            }
           },
           "name": "0 - 9",
           "offsetgroup": "0 - 9",
           "orientation": "v",
           "showlegend": true,
           "textposition": "auto",
           "type": "bar",
           "x": [
            "0 - 9",
            "0 - 9"
           ],
           "xaxis": "x",
           "y": [
            37362,
            34831
           ],
           "yaxis": "y"
          },
          {
           "alignmentgroup": "True",
           "hovertemplate": "Age group=%{x}<br>Canton=AG<br>Population=%{y}<extra></extra>",
           "ids": [
            "10 - 19",
            "10 - 19"
           ],
           "legendgroup": "10 - 19",
           "marker": {
            "color": "#EF553B",
            "pattern": {
             "shape": ""
            }
           },
           "name": "10 - 19",
           "offsetgroup": "10 - 19",
           "orientation": "v",
           "showlegend": true,
           "textposition": "auto",
           "type": "bar",
           "x": [
            "10 - 19",
            "10 - 19"
           ],
           "xaxis": "x",
           "y": [
            35144,
            33106
           ],
           "yaxis": "y"
          },
          {
           "alignmentgroup": "True",
           "hovertemplate": "Age group=%{x}<br>Canton=AG<br>Population=%{y}<extra></extra>",
           "ids": [
            "20 - 29",
            "20 - 29"
           ],
           "legendgroup": "20 - 29",
           "marker": {
            "color": "#00cc96",
            "pattern": {
             "shape": ""
            }
           },
           "name": "20 - 29",
           "offsetgroup": "20 - 29",
           "orientation": "v",
           "showlegend": true,
           "textposition": "auto",
           "type": "bar",
           "x": [
            "20 - 29",
            "20 - 29"
           ],
           "xaxis": "x",
           "y": [
            41439,
            39102
           ],
           "yaxis": "y"
          },
          {
           "alignmentgroup": "True",
           "hovertemplate": "Age group=%{x}<br>Canton=AG<br>Population=%{y}<extra></extra>",
           "ids": [
            "30 - 39",
            "30 - 39"
           ],
           "legendgroup": "30 - 39",
           "marker": {
            "color": "#ab63fa",
            "pattern": {
             "shape": ""
            }
           },
           "name": "30 - 39",
           "offsetgroup": "30 - 39",
           "orientation": "v",
           "showlegend": true,
           "textposition": "auto",
           "type": "bar",
           "x": [
            "30 - 39",
            "30 - 39"
           ],
           "xaxis": "x",
           "y": [
            50581,
            48506
           ],
           "yaxis": "y"
          },
          {
           "alignmentgroup": "True",
           "hovertemplate": "Age group=%{x}<br>Canton=AG<br>Population=%{y}<extra></extra>",
           "ids": [
            "40 - 49",
            "40 - 49"
           ],
           "legendgroup": "40 - 49",
           "marker": {
            "color": "#FFA15A",
            "pattern": {
             "shape": ""
            }
           },
           "name": "40 - 49",
           "offsetgroup": "40 - 49",
           "orientation": "v",
           "showlegend": true,
           "textposition": "auto",
           "type": "bar",
           "x": [
            "40 - 49",
            "40 - 49"
           ],
           "xaxis": "x",
           "y": [
            48683,
            46873
           ],
           "yaxis": "y"
          },
          {
           "alignmentgroup": "True",
           "hovertemplate": "Age group=%{x}<br>Canton=AG<br>Population=%{y}<extra></extra>",
           "ids": [
            "50 - 59",
            "50 - 59"
           ],
           "legendgroup": "50 - 59",
           "marker": {
            "color": "#19d3f3",
            "pattern": {
             "shape": ""
            }
           },
           "name": "50 - 59",
           "offsetgroup": "50 - 59",
           "orientation": "v",
           "showlegend": true,
           "textposition": "auto",
           "type": "bar",
           "x": [
            "50 - 59",
            "50 - 59"
           ],
           "xaxis": "x",
           "y": [
            54730,
            52756
           ],
           "yaxis": "y"
          },
          {
           "alignmentgroup": "True",
           "hovertemplate": "Age group=%{x}<br>Canton=AG<br>Population=%{y}<extra></extra>",
           "ids": [
            "60 - 69",
            "60 - 69"
           ],
           "legendgroup": "60 - 69",
           "marker": {
            "color": "#FF6692",
            "pattern": {
             "shape": ""
            }
           },
           "name": "60 - 69",
           "offsetgroup": "60 - 69",
           "orientation": "v",
           "showlegend": true,
           "textposition": "auto",
           "type": "bar",
           "x": [
            "60 - 69",
            "60 - 69"
           ],
           "xaxis": "x",
           "y": [
            40278,
            41028
           ],
           "yaxis": "y"
          },
          {
           "alignmentgroup": "True",
           "hovertemplate": "Age group=%{x}<br>Canton=AG<br>Population=%{y}<extra></extra>",
           "ids": [
            "70 - 79",
            "70 - 79"
           ],
           "legendgroup": "70 - 79",
           "marker": {
            "color": "#B6E880",
            "pattern": {
             "shape": ""
            }
           },
           "name": "70 - 79",
           "offsetgroup": "70 - 79",
           "orientation": "v",
           "showlegend": true,
           "textposition": "auto",
           "type": "bar",
           "x": [
            "70 - 79",
            "70 - 79"
           ],
           "xaxis": "x",
           "y": [
            27627,
            29679
           ],
           "yaxis": "y"
          },
          {
           "alignmentgroup": "True",
           "hovertemplate": "Age group=%{x}<br>Canton=AG<br>Population=%{y}<extra></extra>",
           "ids": [
            "80+",
            "80+"
           ],
           "legendgroup": "80+",
           "marker": {
            "color": "#FF97FF",
            "pattern": {
             "shape": ""
            }
           },
           "name": "80+",
           "offsetgroup": "80+",
           "orientation": "v",
           "showlegend": true,
           "textposition": "auto",
           "type": "bar",
           "x": [
            "80+",
            "80+"
           ],
           "xaxis": "x",
           "y": [
            12970,
            19377
           ],
           "yaxis": "y"
          }
         ],
         "name": "AG"
        },
        {
         "data": [
          {
           "alignmentgroup": "True",
           "hovertemplate": "Age group=%{x}<br>Canton=AI<br>Population=%{y}<extra></extra>",
           "ids": [
            "0 - 9",
            "0 - 9"
           ],
           "legendgroup": "0 - 9",
           "marker": {
            "color": "#636efa",
            "pattern": {
             "shape": ""
            }
           },
           "name": "0 - 9",
           "offsetgroup": "0 - 9",
           "orientation": "v",
           "showlegend": true,
           "textposition": "auto",
           "type": "bar",
           "x": [
            "0 - 9",
            "0 - 9"
           ],
           "xaxis": "x",
           "y": [
            877,
            878
           ],
           "yaxis": "y"
          },
          {
           "alignmentgroup": "True",
           "hovertemplate": "Age group=%{x}<br>Canton=AI<br>Population=%{y}<extra></extra>",
           "ids": [
            "10 - 19",
            "10 - 19"
           ],
           "legendgroup": "10 - 19",
           "marker": {
            "color": "#EF553B",
            "pattern": {
             "shape": ""
            }
           },
           "name": "10 - 19",
           "offsetgroup": "10 - 19",
           "orientation": "v",
           "showlegend": true,
           "textposition": "auto",
           "type": "bar",
           "x": [
            "10 - 19",
            "10 - 19"
           ],
           "xaxis": "x",
           "y": [
            861,
            798
           ],
           "yaxis": "y"
          },
          {
           "alignmentgroup": "True",
           "hovertemplate": "Age group=%{x}<br>Canton=AI<br>Population=%{y}<extra></extra>",
           "ids": [
            "20 - 29",
            "20 - 29"
           ],
           "legendgroup": "20 - 29",
           "marker": {
            "color": "#00cc96",
            "pattern": {
             "shape": ""
            }
           },
           "name": "20 - 29",
           "offsetgroup": "20 - 29",
           "orientation": "v",
           "showlegend": true,
           "textposition": "auto",
           "type": "bar",
           "x": [
            "20 - 29",
            "20 - 29"
           ],
           "xaxis": "x",
           "y": [
            1135,
            943
           ],
           "yaxis": "y"
          },
          {
           "alignmentgroup": "True",
           "hovertemplate": "Age group=%{x}<br>Canton=AI<br>Population=%{y}<extra></extra>",
           "ids": [
            "30 - 39",
            "30 - 39"
           ],
           "legendgroup": "30 - 39",
           "marker": {
            "color": "#ab63fa",
            "pattern": {
             "shape": ""
            }
           },
           "name": "30 - 39",
           "offsetgroup": "30 - 39",
           "orientation": "v",
           "showlegend": true,
           "textposition": "auto",
           "type": "bar",
           "x": [
            "30 - 39",
            "30 - 39"
           ],
           "xaxis": "x",
           "y": [
            1084,
            993
           ],
           "yaxis": "y"
          },
          {
           "alignmentgroup": "True",
           "hovertemplate": "Age group=%{x}<br>Canton=AI<br>Population=%{y}<extra></extra>",
           "ids": [
            "40 - 49",
            "40 - 49"
           ],
           "legendgroup": "40 - 49",
           "marker": {
            "color": "#FFA15A",
            "pattern": {
             "shape": ""
            }
           },
           "name": "40 - 49",
           "offsetgroup": "40 - 49",
           "orientation": "v",
           "showlegend": true,
           "textposition": "auto",
           "type": "bar",
           "x": [
            "40 - 49",
            "40 - 49"
           ],
           "xaxis": "x",
           "y": [
            995,
            960
           ],
           "yaxis": "y"
          },
          {
           "alignmentgroup": "True",
           "hovertemplate": "Age group=%{x}<br>Canton=AI<br>Population=%{y}<extra></extra>",
           "ids": [
            "50 - 59",
            "50 - 59"
           ],
           "legendgroup": "50 - 59",
           "marker": {
            "color": "#19d3f3",
            "pattern": {
             "shape": ""
            }
           },
           "name": "50 - 59",
           "offsetgroup": "50 - 59",
           "orientation": "v",
           "showlegend": true,
           "textposition": "auto",
           "type": "bar",
           "x": [
            "50 - 59",
            "50 - 59"
           ],
           "xaxis": "x",
           "y": [
            1242,
            1210
           ],
           "yaxis": "y"
          },
          {
           "alignmentgroup": "True",
           "hovertemplate": "Age group=%{x}<br>Canton=AI<br>Population=%{y}<extra></extra>",
           "ids": [
            "60 - 69",
            "60 - 69"
           ],
           "legendgroup": "60 - 69",
           "marker": {
            "color": "#FF6692",
            "pattern": {
             "shape": ""
            }
           },
           "name": "60 - 69",
           "offsetgroup": "60 - 69",
           "orientation": "v",
           "showlegend": true,
           "textposition": "auto",
           "type": "bar",
           "x": [
            "60 - 69",
            "60 - 69"
           ],
           "xaxis": "x",
           "y": [
            1030,
            931
           ],
           "yaxis": "y"
          },
          {
           "alignmentgroup": "True",
           "hovertemplate": "Age group=%{x}<br>Canton=AI<br>Population=%{y}<extra></extra>",
           "ids": [
            "70 - 79",
            "70 - 79"
           ],
           "legendgroup": "70 - 79",
           "marker": {
            "color": "#B6E880",
            "pattern": {
             "shape": ""
            }
           },
           "name": "70 - 79",
           "offsetgroup": "70 - 79",
           "orientation": "v",
           "showlegend": true,
           "textposition": "auto",
           "type": "bar",
           "x": [
            "70 - 79",
            "70 - 79"
           ],
           "xaxis": "x",
           "y": [
            741,
            651
           ],
           "yaxis": "y"
          },
          {
           "alignmentgroup": "True",
           "hovertemplate": "Age group=%{x}<br>Canton=AI<br>Population=%{y}<extra></extra>",
           "ids": [
            "80+",
            "80+"
           ],
           "legendgroup": "80+",
           "marker": {
            "color": "#FF97FF",
            "pattern": {
             "shape": ""
            }
           },
           "name": "80+",
           "offsetgroup": "80+",
           "orientation": "v",
           "showlegend": true,
           "textposition": "auto",
           "type": "bar",
           "x": [
            "80+",
            "80+"
           ],
           "xaxis": "x",
           "y": [
            396,
            568
           ],
           "yaxis": "y"
          }
         ],
         "name": "AI"
        },
        {
         "data": [
          {
           "alignmentgroup": "True",
           "hovertemplate": "Age group=%{x}<br>Canton=AR<br>Population=%{y}<extra></extra>",
           "ids": [
            "0 - 9",
            "0 - 9"
           ],
           "legendgroup": "0 - 9",
           "marker": {
            "color": "#636efa",
            "pattern": {
             "shape": ""
            }
           },
           "name": "0 - 9",
           "offsetgroup": "0 - 9",
           "orientation": "v",
           "showlegend": true,
           "textposition": "auto",
           "type": "bar",
           "x": [
            "0 - 9",
            "0 - 9"
           ],
           "xaxis": "x",
           "y": [
            3042,
            2870
           ],
           "yaxis": "y"
          },
          {
           "alignmentgroup": "True",
           "hovertemplate": "Age group=%{x}<br>Canton=AR<br>Population=%{y}<extra></extra>",
           "ids": [
            "10 - 19",
            "10 - 19"
           ],
           "legendgroup": "10 - 19",
           "marker": {
            "color": "#EF553B",
            "pattern": {
             "shape": ""
            }
           },
           "name": "10 - 19",
           "offsetgroup": "10 - 19",
           "orientation": "v",
           "showlegend": true,
           "textposition": "auto",
           "type": "bar",
           "x": [
            "10 - 19",
            "10 - 19"
           ],
           "xaxis": "x",
           "y": [
            2695,
            2556
           ],
           "yaxis": "y"
          },
          {
           "alignmentgroup": "True",
           "hovertemplate": "Age group=%{x}<br>Canton=AR<br>Population=%{y}<extra></extra>",
           "ids": [
            "20 - 29",
            "20 - 29"
           ],
           "legendgroup": "20 - 29",
           "marker": {
            "color": "#00cc96",
            "pattern": {
             "shape": ""
            }
           },
           "name": "20 - 29",
           "offsetgroup": "20 - 29",
           "orientation": "v",
           "showlegend": true,
           "textposition": "auto",
           "type": "bar",
           "x": [
            "20 - 29",
            "20 - 29"
           ],
           "xaxis": "x",
           "y": [
            3276,
            2753
           ],
           "yaxis": "y"
          },
          {
           "alignmentgroup": "True",
           "hovertemplate": "Age group=%{x}<br>Canton=AR<br>Population=%{y}<extra></extra>",
           "ids": [
            "30 - 39",
            "30 - 39"
           ],
           "legendgroup": "30 - 39",
           "marker": {
            "color": "#ab63fa",
            "pattern": {
             "shape": ""
            }
           },
           "name": "30 - 39",
           "offsetgroup": "30 - 39",
           "orientation": "v",
           "showlegend": true,
           "textposition": "auto",
           "type": "bar",
           "x": [
            "30 - 39",
            "30 - 39"
           ],
           "xaxis": "x",
           "y": [
            3620,
            3556
           ],
           "yaxis": "y"
          },
          {
           "alignmentgroup": "True",
           "hovertemplate": "Age group=%{x}<br>Canton=AR<br>Population=%{y}<extra></extra>",
           "ids": [
            "40 - 49",
            "40 - 49"
           ],
           "legendgroup": "40 - 49",
           "marker": {
            "color": "#FFA15A",
            "pattern": {
             "shape": ""
            }
           },
           "name": "40 - 49",
           "offsetgroup": "40 - 49",
           "orientation": "v",
           "showlegend": true,
           "textposition": "auto",
           "type": "bar",
           "x": [
            "40 - 49",
            "40 - 49"
           ],
           "xaxis": "x",
           "y": [
            3592,
            3430
           ],
           "yaxis": "y"
          },
          {
           "alignmentgroup": "True",
           "hovertemplate": "Age group=%{x}<br>Canton=AR<br>Population=%{y}<extra></extra>",
           "ids": [
            "50 - 59",
            "50 - 59"
           ],
           "legendgroup": "50 - 59",
           "marker": {
            "color": "#19d3f3",
            "pattern": {
             "shape": ""
            }
           },
           "name": "50 - 59",
           "offsetgroup": "50 - 59",
           "orientation": "v",
           "showlegend": true,
           "textposition": "auto",
           "type": "bar",
           "x": [
            "50 - 59",
            "50 - 59"
           ],
           "xaxis": "x",
           "y": [
            4403,
            4367
           ],
           "yaxis": "y"
          },
          {
           "alignmentgroup": "True",
           "hovertemplate": "Age group=%{x}<br>Canton=AR<br>Population=%{y}<extra></extra>",
           "ids": [
            "60 - 69",
            "60 - 69"
           ],
           "legendgroup": "60 - 69",
           "marker": {
            "color": "#FF6692",
            "pattern": {
             "shape": ""
            }
           },
           "name": "60 - 69",
           "offsetgroup": "60 - 69",
           "orientation": "v",
           "showlegend": true,
           "textposition": "auto",
           "type": "bar",
           "x": [
            "60 - 69",
            "60 - 69"
           ],
           "xaxis": "x",
           "y": [
            3628,
            3534
           ],
           "yaxis": "y"
          },
          {
           "alignmentgroup": "True",
           "hovertemplate": "Age group=%{x}<br>Canton=AR<br>Population=%{y}<extra></extra>",
           "ids": [
            "70 - 79",
            "70 - 79"
           ],
           "legendgroup": "70 - 79",
           "marker": {
            "color": "#B6E880",
            "pattern": {
             "shape": ""
            }
           },
           "name": "70 - 79",
           "offsetgroup": "70 - 79",
           "orientation": "v",
           "showlegend": true,
           "textposition": "auto",
           "type": "bar",
           "x": [
            "70 - 79",
            "70 - 79"
           ],
           "xaxis": "x",
           "y": [
            2460,
            2518
           ],
           "yaxis": "y"
          },
          {
           "alignmentgroup": "True",
           "hovertemplate": "Age group=%{x}<br>Canton=AR<br>Population=%{y}<extra></extra>",
           "ids": [
            "80+",
            "80+"
           ],
           "legendgroup": "80+",
           "marker": {
            "color": "#FF97FF",
            "pattern": {
             "shape": ""
            }
           },
           "name": "80+",
           "offsetgroup": "80+",
           "orientation": "v",
           "showlegend": true,
           "textposition": "auto",
           "type": "bar",
           "x": [
            "80+",
            "80+"
           ],
           "xaxis": "x",
           "y": [
            1167,
            1842
           ],
           "yaxis": "y"
          }
         ],
         "name": "AR"
        },
        {
         "data": [
          {
           "alignmentgroup": "True",
           "hovertemplate": "Age group=%{x}<br>Canton=BE<br>Population=%{y}<extra></extra>",
           "ids": [
            "0 - 9",
            "0 - 9"
           ],
           "legendgroup": "0 - 9",
           "marker": {
            "color": "#636efa",
            "pattern": {
             "shape": ""
            }
           },
           "name": "0 - 9",
           "offsetgroup": "0 - 9",
           "orientation": "v",
           "showlegend": true,
           "textposition": "auto",
           "type": "bar",
           "x": [
            "0 - 9",
            "0 - 9"
           ],
           "xaxis": "x",
           "y": [
            51944,
            49313
           ],
           "yaxis": "y"
          },
          {
           "alignmentgroup": "True",
           "hovertemplate": "Age group=%{x}<br>Canton=BE<br>Population=%{y}<extra></extra>",
           "ids": [
            "10 - 19",
            "10 - 19"
           ],
           "legendgroup": "10 - 19",
           "marker": {
            "color": "#EF553B",
            "pattern": {
             "shape": ""
            }
           },
           "name": "10 - 19",
           "offsetgroup": "10 - 19",
           "orientation": "v",
           "showlegend": true,
           "textposition": "auto",
           "type": "bar",
           "x": [
            "10 - 19",
            "10 - 19"
           ],
           "xaxis": "x",
           "y": [
            49708,
            47170
           ],
           "yaxis": "y"
          },
          {
           "alignmentgroup": "True",
           "hovertemplate": "Age group=%{x}<br>Canton=BE<br>Population=%{y}<extra></extra>",
           "ids": [
            "20 - 29",
            "20 - 29"
           ],
           "legendgroup": "20 - 29",
           "marker": {
            "color": "#00cc96",
            "pattern": {
             "shape": ""
            }
           },
           "name": "20 - 29",
           "offsetgroup": "20 - 29",
           "orientation": "v",
           "showlegend": true,
           "textposition": "auto",
           "type": "bar",
           "x": [
            "20 - 29",
            "20 - 29"
           ],
           "xaxis": "x",
           "y": [
            59710,
            58063
           ],
           "yaxis": "y"
          },
          {
           "alignmentgroup": "True",
           "hovertemplate": "Age group=%{x}<br>Canton=BE<br>Population=%{y}<extra></extra>",
           "ids": [
            "30 - 39",
            "30 - 39"
           ],
           "legendgroup": "30 - 39",
           "marker": {
            "color": "#ab63fa",
            "pattern": {
             "shape": ""
            }
           },
           "name": "30 - 39",
           "offsetgroup": "30 - 39",
           "orientation": "v",
           "showlegend": true,
           "textposition": "auto",
           "type": "bar",
           "x": [
            "30 - 39",
            "30 - 39"
           ],
           "xaxis": "x",
           "y": [
            71265,
            71384
           ],
           "yaxis": "y"
          },
          {
           "alignmentgroup": "True",
           "hovertemplate": "Age group=%{x}<br>Canton=BE<br>Population=%{y}<extra></extra>",
           "ids": [
            "40 - 49",
            "40 - 49"
           ],
           "legendgroup": "40 - 49",
           "marker": {
            "color": "#FFA15A",
            "pattern": {
             "shape": ""
            }
           },
           "name": "40 - 49",
           "offsetgroup": "40 - 49",
           "orientation": "v",
           "showlegend": true,
           "textposition": "auto",
           "type": "bar",
           "x": [
            "40 - 49",
            "40 - 49"
           ],
           "xaxis": "x",
           "y": [
            68662,
            68512
           ],
           "yaxis": "y"
          },
          {
           "alignmentgroup": "True",
           "hovertemplate": "Age group=%{x}<br>Canton=BE<br>Population=%{y}<extra></extra>",
           "ids": [
            "50 - 59",
            "50 - 59"
           ],
           "legendgroup": "50 - 59",
           "marker": {
            "color": "#19d3f3",
            "pattern": {
             "shape": ""
            }
           },
           "name": "50 - 59",
           "offsetgroup": "50 - 59",
           "orientation": "v",
           "showlegend": true,
           "textposition": "auto",
           "type": "bar",
           "x": [
            "50 - 59",
            "50 - 59"
           ],
           "xaxis": "x",
           "y": [
            77917,
            78550
           ],
           "yaxis": "y"
          },
          {
           "alignmentgroup": "True",
           "hovertemplate": "Age group=%{x}<br>Canton=BE<br>Population=%{y}<extra></extra>",
           "ids": [
            "60 - 69",
            "60 - 69"
           ],
           "legendgroup": "60 - 69",
           "marker": {
            "color": "#FF6692",
            "pattern": {
             "shape": ""
            }
           },
           "name": "60 - 69",
           "offsetgroup": "60 - 69",
           "orientation": "v",
           "showlegend": true,
           "textposition": "auto",
           "type": "bar",
           "x": [
            "60 - 69",
            "60 - 69"
           ],
           "xaxis": "x",
           "y": [
            62147,
            65077
           ],
           "yaxis": "y"
          },
          {
           "alignmentgroup": "True",
           "hovertemplate": "Age group=%{x}<br>Canton=BE<br>Population=%{y}<extra></extra>",
           "ids": [
            "70 - 79",
            "70 - 79"
           ],
           "legendgroup": "70 - 79",
           "marker": {
            "color": "#B6E880",
            "pattern": {
             "shape": ""
            }
           },
           "name": "70 - 79",
           "offsetgroup": "70 - 79",
           "orientation": "v",
           "showlegend": true,
           "textposition": "auto",
           "type": "bar",
           "x": [
            "70 - 79",
            "70 - 79"
           ],
           "xaxis": "x",
           "y": [
            47493,
            54181
           ],
           "yaxis": "y"
          },
          {
           "alignmentgroup": "True",
           "hovertemplate": "Age group=%{x}<br>Canton=BE<br>Population=%{y}<extra></extra>",
           "ids": [
            "80+",
            "80+"
           ],
           "legendgroup": "80+",
           "marker": {
            "color": "#FF97FF",
            "pattern": {
             "shape": ""
            }
           },
           "name": "80+",
           "offsetgroup": "80+",
           "orientation": "v",
           "showlegend": true,
           "textposition": "auto",
           "type": "bar",
           "x": [
            "80+",
            "80+"
           ],
           "xaxis": "x",
           "y": [
            23454,
            38582
           ],
           "yaxis": "y"
          }
         ],
         "name": "BE"
        },
        {
         "data": [
          {
           "alignmentgroup": "True",
           "hovertemplate": "Age group=%{x}<br>Canton=BL<br>Population=%{y}<extra></extra>",
           "ids": [
            "0 - 9",
            "0 - 9"
           ],
           "legendgroup": "0 - 9",
           "marker": {
            "color": "#636efa",
            "pattern": {
             "shape": ""
            }
           },
           "name": "0 - 9",
           "offsetgroup": "0 - 9",
           "orientation": "v",
           "showlegend": true,
           "textposition": "auto",
           "type": "bar",
           "x": [
            "0 - 9",
            "0 - 9"
           ],
           "xaxis": "x",
           "y": [
            14197,
            13402
           ],
           "yaxis": "y"
          },
          {
           "alignmentgroup": "True",
           "hovertemplate": "Age group=%{x}<br>Canton=BL<br>Population=%{y}<extra></extra>",
           "ids": [
            "10 - 19",
            "10 - 19"
           ],
           "legendgroup": "10 - 19",
           "marker": {
            "color": "#EF553B",
            "pattern": {
             "shape": ""
            }
           },
           "name": "10 - 19",
           "offsetgroup": "10 - 19",
           "orientation": "v",
           "showlegend": true,
           "textposition": "auto",
           "type": "bar",
           "x": [
            "10 - 19",
            "10 - 19"
           ],
           "xaxis": "x",
           "y": [
            14514,
            13640
           ],
           "yaxis": "y"
          },
          {
           "alignmentgroup": "True",
           "hovertemplate": "Age group=%{x}<br>Canton=BL<br>Population=%{y}<extra></extra>",
           "ids": [
            "20 - 29",
            "20 - 29"
           ],
           "legendgroup": "20 - 29",
           "marker": {
            "color": "#00cc96",
            "pattern": {
             "shape": ""
            }
           },
           "name": "20 - 29",
           "offsetgroup": "20 - 29",
           "orientation": "v",
           "showlegend": true,
           "textposition": "auto",
           "type": "bar",
           "x": [
            "20 - 29",
            "20 - 29"
           ],
           "xaxis": "x",
           "y": [
            15550,
            14724
           ],
           "yaxis": "y"
          },
          {
           "alignmentgroup": "True",
           "hovertemplate": "Age group=%{x}<br>Canton=BL<br>Population=%{y}<extra></extra>",
           "ids": [
            "30 - 39",
            "30 - 39"
           ],
           "legendgroup": "30 - 39",
           "marker": {
            "color": "#ab63fa",
            "pattern": {
             "shape": ""
            }
           },
           "name": "30 - 39",
           "offsetgroup": "30 - 39",
           "orientation": "v",
           "showlegend": true,
           "textposition": "auto",
           "type": "bar",
           "x": [
            "30 - 39",
            "30 - 39"
           ],
           "xaxis": "x",
           "y": [
            17661,
            17929
           ],
           "yaxis": "y"
          },
          {
           "alignmentgroup": "True",
           "hovertemplate": "Age group=%{x}<br>Canton=BL<br>Population=%{y}<extra></extra>",
           "ids": [
            "40 - 49",
            "40 - 49"
           ],
           "legendgroup": "40 - 49",
           "marker": {
            "color": "#FFA15A",
            "pattern": {
             "shape": ""
            }
           },
           "name": "40 - 49",
           "offsetgroup": "40 - 49",
           "orientation": "v",
           "showlegend": true,
           "textposition": "auto",
           "type": "bar",
           "x": [
            "40 - 49",
            "40 - 49"
           ],
           "xaxis": "x",
           "y": [
            19223,
            19658
           ],
           "yaxis": "y"
          },
          {
           "alignmentgroup": "True",
           "hovertemplate": "Age group=%{x}<br>Canton=BL<br>Population=%{y}<extra></extra>",
           "ids": [
            "50 - 59",
            "50 - 59"
           ],
           "legendgroup": "50 - 59",
           "marker": {
            "color": "#19d3f3",
            "pattern": {
             "shape": ""
            }
           },
           "name": "50 - 59",
           "offsetgroup": "50 - 59",
           "orientation": "v",
           "showlegend": true,
           "textposition": "auto",
           "type": "bar",
           "x": [
            "50 - 59",
            "50 - 59"
           ],
           "xaxis": "x",
           "y": [
            22725,
            23203
           ],
           "yaxis": "y"
          },
          {
           "alignmentgroup": "True",
           "hovertemplate": "Age group=%{x}<br>Canton=BL<br>Population=%{y}<extra></extra>",
           "ids": [
            "60 - 69",
            "60 - 69"
           ],
           "legendgroup": "60 - 69",
           "marker": {
            "color": "#FF6692",
            "pattern": {
             "shape": ""
            }
           },
           "name": "60 - 69",
           "offsetgroup": "60 - 69",
           "orientation": "v",
           "showlegend": true,
           "textposition": "auto",
           "type": "bar",
           "x": [
            "60 - 69",
            "60 - 69"
           ],
           "xaxis": "x",
           "y": [
            17466,
            18194
           ],
           "yaxis": "y"
          },
          {
           "alignmentgroup": "True",
           "hovertemplate": "Age group=%{x}<br>Canton=BL<br>Population=%{y}<extra></extra>",
           "ids": [
            "70 - 79",
            "70 - 79"
           ],
           "legendgroup": "70 - 79",
           "marker": {
            "color": "#B6E880",
            "pattern": {
             "shape": ""
            }
           },
           "name": "70 - 79",
           "offsetgroup": "70 - 79",
           "orientation": "v",
           "showlegend": true,
           "textposition": "auto",
           "type": "bar",
           "x": [
            "70 - 79",
            "70 - 79"
           ],
           "xaxis": "x",
           "y": [
            13571,
            15824
           ],
           "yaxis": "y"
          },
          {
           "alignmentgroup": "True",
           "hovertemplate": "Age group=%{x}<br>Canton=BL<br>Population=%{y}<extra></extra>",
           "ids": [
            "80+",
            "80+"
           ],
           "legendgroup": "80+",
           "marker": {
            "color": "#FF97FF",
            "pattern": {
             "shape": ""
            }
           },
           "name": "80+",
           "offsetgroup": "80+",
           "orientation": "v",
           "showlegend": true,
           "textposition": "auto",
           "type": "bar",
           "x": [
            "80+",
            "80+"
           ],
           "xaxis": "x",
           "y": [
            7860,
            11628
           ],
           "yaxis": "y"
          }
         ],
         "name": "BL"
        },
        {
         "data": [
          {
           "alignmentgroup": "True",
           "hovertemplate": "Age group=%{x}<br>Canton=BS<br>Population=%{y}<extra></extra>",
           "ids": [
            "0 - 9",
            "0 - 9"
           ],
           "legendgroup": "0 - 9",
           "marker": {
            "color": "#636efa",
            "pattern": {
             "shape": ""
            }
           },
           "name": "0 - 9",
           "offsetgroup": "0 - 9",
           "orientation": "v",
           "showlegend": true,
           "textposition": "auto",
           "type": "bar",
           "x": [
            "0 - 9",
            "0 - 9"
           ],
           "xaxis": "x",
           "y": [
            9595,
            8995
           ],
           "yaxis": "y"
          },
          {
           "alignmentgroup": "True",
           "hovertemplate": "Age group=%{x}<br>Canton=BS<br>Population=%{y}<extra></extra>",
           "ids": [
            "10 - 19",
            "10 - 19"
           ],
           "legendgroup": "10 - 19",
           "marker": {
            "color": "#EF553B",
            "pattern": {
             "shape": ""
            }
           },
           "name": "10 - 19",
           "offsetgroup": "10 - 19",
           "orientation": "v",
           "showlegend": true,
           "textposition": "auto",
           "type": "bar",
           "x": [
            "10 - 19",
            "10 - 19"
           ],
           "xaxis": "x",
           "y": [
            8060,
            7568
           ],
           "yaxis": "y"
          },
          {
           "alignmentgroup": "True",
           "hovertemplate": "Age group=%{x}<br>Canton=BS<br>Population=%{y}<extra></extra>",
           "ids": [
            "20 - 29",
            "20 - 29"
           ],
           "legendgroup": "20 - 29",
           "marker": {
            "color": "#00cc96",
            "pattern": {
             "shape": ""
            }
           },
           "name": "20 - 29",
           "offsetgroup": "20 - 29",
           "orientation": "v",
           "showlegend": true,
           "textposition": "auto",
           "type": "bar",
           "x": [
            "20 - 29",
            "20 - 29"
           ],
           "xaxis": "x",
           "y": [
            11590,
            11905
           ],
           "yaxis": "y"
          },
          {
           "alignmentgroup": "True",
           "hovertemplate": "Age group=%{x}<br>Canton=BS<br>Population=%{y}<extra></extra>",
           "ids": [
            "30 - 39",
            "30 - 39"
           ],
           "legendgroup": "30 - 39",
           "marker": {
            "color": "#ab63fa",
            "pattern": {
             "shape": ""
            }
           },
           "name": "30 - 39",
           "offsetgroup": "30 - 39",
           "orientation": "v",
           "showlegend": true,
           "textposition": "auto",
           "type": "bar",
           "x": [
            "30 - 39",
            "30 - 39"
           ],
           "xaxis": "x",
           "y": [
            16822,
            17105
           ],
           "yaxis": "y"
          },
          {
           "alignmentgroup": "True",
           "hovertemplate": "Age group=%{x}<br>Canton=BS<br>Population=%{y}<extra></extra>",
           "ids": [
            "40 - 49",
            "40 - 49"
           ],
           "legendgroup": "40 - 49",
           "marker": {
            "color": "#FFA15A",
            "pattern": {
             "shape": ""
            }
           },
           "name": "40 - 49",
           "offsetgroup": "40 - 49",
           "orientation": "v",
           "showlegend": true,
           "textposition": "auto",
           "type": "bar",
           "x": [
            "40 - 49",
            "40 - 49"
           ],
           "xaxis": "x",
           "y": [
            13918,
            13454
           ],
           "yaxis": "y"
          },
          {
           "alignmentgroup": "True",
           "hovertemplate": "Age group=%{x}<br>Canton=BS<br>Population=%{y}<extra></extra>",
           "ids": [
            "50 - 59",
            "50 - 59"
           ],
           "legendgroup": "50 - 59",
           "marker": {
            "color": "#19d3f3",
            "pattern": {
             "shape": ""
            }
           },
           "name": "50 - 59",
           "offsetgroup": "50 - 59",
           "orientation": "v",
           "showlegend": true,
           "textposition": "auto",
           "type": "bar",
           "x": [
            "50 - 59",
            "50 - 59"
           ],
           "xaxis": "x",
           "y": [
            13648,
            13610
           ],
           "yaxis": "y"
          },
          {
           "alignmentgroup": "True",
           "hovertemplate": "Age group=%{x}<br>Canton=BS<br>Population=%{y}<extra></extra>",
           "ids": [
            "60 - 69",
            "60 - 69"
           ],
           "legendgroup": "60 - 69",
           "marker": {
            "color": "#FF6692",
            "pattern": {
             "shape": ""
            }
           },
           "name": "60 - 69",
           "offsetgroup": "60 - 69",
           "orientation": "v",
           "showlegend": true,
           "textposition": "auto",
           "type": "bar",
           "x": [
            "60 - 69",
            "60 - 69"
           ],
           "xaxis": "x",
           "y": [
            10254,
            10884
           ],
           "yaxis": "y"
          },
          {
           "alignmentgroup": "True",
           "hovertemplate": "Age group=%{x}<br>Canton=BS<br>Population=%{y}<extra></extra>",
           "ids": [
            "70 - 79",
            "70 - 79"
           ],
           "legendgroup": "70 - 79",
           "marker": {
            "color": "#B6E880",
            "pattern": {
             "shape": ""
            }
           },
           "name": "70 - 79",
           "offsetgroup": "70 - 79",
           "orientation": "v",
           "showlegend": true,
           "textposition": "auto",
           "type": "bar",
           "x": [
            "70 - 79",
            "70 - 79"
           ],
           "xaxis": "x",
           "y": [
            7244,
            8997
           ],
           "yaxis": "y"
          },
          {
           "alignmentgroup": "True",
           "hovertemplate": "Age group=%{x}<br>Canton=BS<br>Population=%{y}<extra></extra>",
           "ids": [
            "80+",
            "80+"
           ],
           "legendgroup": "80+",
           "marker": {
            "color": "#FF97FF",
            "pattern": {
             "shape": ""
            }
           },
           "name": "80+",
           "offsetgroup": "80+",
           "orientation": "v",
           "showlegend": true,
           "textposition": "auto",
           "type": "bar",
           "x": [
            "80+",
            "80+"
           ],
           "xaxis": "x",
           "y": [
            4490,
            8596
           ],
           "yaxis": "y"
          }
         ],
         "name": "BS"
        },
        {
         "data": [
          {
           "alignmentgroup": "True",
           "hovertemplate": "Age group=%{x}<br>Canton=FR<br>Population=%{y}<extra></extra>",
           "ids": [
            "0 - 9",
            "0 - 9"
           ],
           "legendgroup": "0 - 9",
           "marker": {
            "color": "#636efa",
            "pattern": {
             "shape": ""
            }
           },
           "name": "0 - 9",
           "offsetgroup": "0 - 9",
           "orientation": "v",
           "showlegend": true,
           "textposition": "auto",
           "type": "bar",
           "x": [
            "0 - 9",
            "0 - 9"
           ],
           "xaxis": "x",
           "y": [
            18472,
            17191
           ],
           "yaxis": "y"
          },
          {
           "alignmentgroup": "True",
           "hovertemplate": "Age group=%{x}<br>Canton=FR<br>Population=%{y}<extra></extra>",
           "ids": [
            "10 - 19",
            "10 - 19"
           ],
           "legendgroup": "10 - 19",
           "marker": {
            "color": "#EF553B",
            "pattern": {
             "shape": ""
            }
           },
           "name": "10 - 19",
           "offsetgroup": "10 - 19",
           "orientation": "v",
           "showlegend": true,
           "textposition": "auto",
           "type": "bar",
           "x": [
            "10 - 19",
            "10 - 19"
           ],
           "xaxis": "x",
           "y": [
            18326,
            17577
           ],
           "yaxis": "y"
          },
          {
           "alignmentgroup": "True",
           "hovertemplate": "Age group=%{x}<br>Canton=FR<br>Population=%{y}<extra></extra>",
           "ids": [
            "20 - 29",
            "20 - 29"
           ],
           "legendgroup": "20 - 29",
           "marker": {
            "color": "#00cc96",
            "pattern": {
             "shape": ""
            }
           },
           "name": "20 - 29",
           "offsetgroup": "20 - 29",
           "orientation": "v",
           "showlegend": true,
           "textposition": "auto",
           "type": "bar",
           "x": [
            "20 - 29",
            "20 - 29"
           ],
           "xaxis": "x",
           "y": [
            21997,
            20926
           ],
           "yaxis": "y"
          },
          {
           "alignmentgroup": "True",
           "hovertemplate": "Age group=%{x}<br>Canton=FR<br>Population=%{y}<extra></extra>",
           "ids": [
            "30 - 39",
            "30 - 39"
           ],
           "legendgroup": "30 - 39",
           "marker": {
            "color": "#ab63fa",
            "pattern": {
             "shape": ""
            }
           },
           "name": "30 - 39",
           "offsetgroup": "30 - 39",
           "orientation": "v",
           "showlegend": true,
           "textposition": "auto",
           "type": "bar",
           "x": [
            "30 - 39",
            "30 - 39"
           ],
           "xaxis": "x",
           "y": [
            23057,
            22563
           ],
           "yaxis": "y"
          },
          {
           "alignmentgroup": "True",
           "hovertemplate": "Age group=%{x}<br>Canton=FR<br>Population=%{y}<extra></extra>",
           "ids": [
            "40 - 49",
            "40 - 49"
           ],
           "legendgroup": "40 - 49",
           "marker": {
            "color": "#FFA15A",
            "pattern": {
             "shape": ""
            }
           },
           "name": "40 - 49",
           "offsetgroup": "40 - 49",
           "orientation": "v",
           "showlegend": true,
           "textposition": "auto",
           "type": "bar",
           "x": [
            "40 - 49",
            "40 - 49"
           ],
           "xaxis": "x",
           "y": [
            22731,
            22580
           ],
           "yaxis": "y"
          },
          {
           "alignmentgroup": "True",
           "hovertemplate": "Age group=%{x}<br>Canton=FR<br>Population=%{y}<extra></extra>",
           "ids": [
            "50 - 59",
            "50 - 59"
           ],
           "legendgroup": "50 - 59",
           "marker": {
            "color": "#19d3f3",
            "pattern": {
             "shape": ""
            }
           },
           "name": "50 - 59",
           "offsetgroup": "50 - 59",
           "orientation": "v",
           "showlegend": true,
           "textposition": "auto",
           "type": "bar",
           "x": [
            "50 - 59",
            "50 - 59"
           ],
           "xaxis": "x",
           "y": [
            24543,
            24071
           ],
           "yaxis": "y"
          },
          {
           "alignmentgroup": "True",
           "hovertemplate": "Age group=%{x}<br>Canton=FR<br>Population=%{y}<extra></extra>",
           "ids": [
            "60 - 69",
            "60 - 69"
           ],
           "legendgroup": "60 - 69",
           "marker": {
            "color": "#FF6692",
            "pattern": {
             "shape": ""
            }
           },
           "name": "60 - 69",
           "offsetgroup": "60 - 69",
           "orientation": "v",
           "showlegend": true,
           "textposition": "auto",
           "type": "bar",
           "x": [
            "60 - 69",
            "60 - 69"
           ],
           "xaxis": "x",
           "y": [
            17062,
            16956
           ],
           "yaxis": "y"
          },
          {
           "alignmentgroup": "True",
           "hovertemplate": "Age group=%{x}<br>Canton=FR<br>Population=%{y}<extra></extra>",
           "ids": [
            "70 - 79",
            "70 - 79"
           ],
           "legendgroup": "70 - 79",
           "marker": {
            "color": "#B6E880",
            "pattern": {
             "shape": ""
            }
           },
           "name": "70 - 79",
           "offsetgroup": "70 - 79",
           "orientation": "v",
           "showlegend": true,
           "textposition": "auto",
           "type": "bar",
           "x": [
            "70 - 79",
            "70 - 79"
           ],
           "xaxis": "x",
           "y": [
            11680,
            12809
           ],
           "yaxis": "y"
          },
          {
           "alignmentgroup": "True",
           "hovertemplate": "Age group=%{x}<br>Canton=FR<br>Population=%{y}<extra></extra>",
           "ids": [
            "80+",
            "80+"
           ],
           "legendgroup": "80+",
           "marker": {
            "color": "#FF97FF",
            "pattern": {
             "shape": ""
            }
           },
           "name": "80+",
           "offsetgroup": "80+",
           "orientation": "v",
           "showlegend": true,
           "textposition": "auto",
           "type": "bar",
           "x": [
            "80+",
            "80+"
           ],
           "xaxis": "x",
           "y": [
            5117,
            7838
           ],
           "yaxis": "y"
          }
         ],
         "name": "FR"
        },
        {
         "data": [
          {
           "alignmentgroup": "True",
           "hovertemplate": "Age group=%{x}<br>Canton=GE<br>Population=%{y}<extra></extra>",
           "ids": [
            "0 - 9",
            "0 - 9"
           ],
           "legendgroup": "0 - 9",
           "marker": {
            "color": "#636efa",
            "pattern": {
             "shape": ""
            }
           },
           "name": "0 - 9",
           "offsetgroup": "0 - 9",
           "orientation": "v",
           "showlegend": true,
           "textposition": "auto",
           "type": "bar",
           "x": [
            "0 - 9",
            "0 - 9"
           ],
           "xaxis": "x",
           "y": [
            27334,
            25749
           ],
           "yaxis": "y"
          },
          {
           "alignmentgroup": "True",
           "hovertemplate": "Age group=%{x}<br>Canton=GE<br>Population=%{y}<extra></extra>",
           "ids": [
            "10 - 19",
            "10 - 19"
           ],
           "legendgroup": "10 - 19",
           "marker": {
            "color": "#EF553B",
            "pattern": {
             "shape": ""
            }
           },
           "name": "10 - 19",
           "offsetgroup": "10 - 19",
           "orientation": "v",
           "showlegend": true,
           "textposition": "auto",
           "type": "bar",
           "x": [
            "10 - 19",
            "10 - 19"
           ],
           "xaxis": "x",
           "y": [
            27142,
            26263
           ],
           "yaxis": "y"
          },
          {
           "alignmentgroup": "True",
           "hovertemplate": "Age group=%{x}<br>Canton=GE<br>Population=%{y}<extra></extra>",
           "ids": [
            "20 - 29",
            "20 - 29"
           ],
           "legendgroup": "20 - 29",
           "marker": {
            "color": "#00cc96",
            "pattern": {
             "shape": ""
            }
           },
           "name": "20 - 29",
           "offsetgroup": "20 - 29",
           "orientation": "v",
           "showlegend": true,
           "textposition": "auto",
           "type": "bar",
           "x": [
            "20 - 29",
            "20 - 29"
           ],
           "xaxis": "x",
           "y": [
            32267,
            32413
           ],
           "yaxis": "y"
          },
          {
           "alignmentgroup": "True",
           "hovertemplate": "Age group=%{x}<br>Canton=GE<br>Population=%{y}<extra></extra>",
           "ids": [
            "30 - 39",
            "30 - 39"
           ],
           "legendgroup": "30 - 39",
           "marker": {
            "color": "#ab63fa",
            "pattern": {
             "shape": ""
            }
           },
           "name": "30 - 39",
           "offsetgroup": "30 - 39",
           "orientation": "v",
           "showlegend": true,
           "textposition": "auto",
           "type": "bar",
           "x": [
            "30 - 39",
            "30 - 39"
           ],
           "xaxis": "x",
           "y": [
            37506,
            38793
           ],
           "yaxis": "y"
          },
          {
           "alignmentgroup": "True",
           "hovertemplate": "Age group=%{x}<br>Canton=GE<br>Population=%{y}<extra></extra>",
           "ids": [
            "40 - 49",
            "40 - 49"
           ],
           "legendgroup": "40 - 49",
           "marker": {
            "color": "#FFA15A",
            "pattern": {
             "shape": ""
            }
           },
           "name": "40 - 49",
           "offsetgroup": "40 - 49",
           "orientation": "v",
           "showlegend": true,
           "textposition": "auto",
           "type": "bar",
           "x": [
            "40 - 49",
            "40 - 49"
           ],
           "xaxis": "x",
           "y": [
            37512,
            39066
           ],
           "yaxis": "y"
          },
          {
           "alignmentgroup": "True",
           "hovertemplate": "Age group=%{x}<br>Canton=GE<br>Population=%{y}<extra></extra>",
           "ids": [
            "50 - 59",
            "50 - 59"
           ],
           "legendgroup": "50 - 59",
           "marker": {
            "color": "#19d3f3",
            "pattern": {
             "shape": ""
            }
           },
           "name": "50 - 59",
           "offsetgroup": "50 - 59",
           "orientation": "v",
           "showlegend": true,
           "textposition": "auto",
           "type": "bar",
           "x": [
            "50 - 59",
            "50 - 59"
           ],
           "xaxis": "x",
           "y": [
            35307,
            36926
           ],
           "yaxis": "y"
          },
          {
           "alignmentgroup": "True",
           "hovertemplate": "Age group=%{x}<br>Canton=GE<br>Population=%{y}<extra></extra>",
           "ids": [
            "60 - 69",
            "60 - 69"
           ],
           "legendgroup": "60 - 69",
           "marker": {
            "color": "#FF6692",
            "pattern": {
             "shape": ""
            }
           },
           "name": "60 - 69",
           "offsetgroup": "60 - 69",
           "orientation": "v",
           "showlegend": true,
           "textposition": "auto",
           "type": "bar",
           "x": [
            "60 - 69",
            "60 - 69"
           ],
           "xaxis": "x",
           "y": [
            22821,
            24723
           ],
           "yaxis": "y"
          },
          {
           "alignmentgroup": "True",
           "hovertemplate": "Age group=%{x}<br>Canton=GE<br>Population=%{y}<extra></extra>",
           "ids": [
            "70 - 79",
            "70 - 79"
           ],
           "legendgroup": "70 - 79",
           "marker": {
            "color": "#B6E880",
            "pattern": {
             "shape": ""
            }
           },
           "name": "70 - 79",
           "offsetgroup": "70 - 79",
           "orientation": "v",
           "showlegend": true,
           "textposition": "auto",
           "type": "bar",
           "x": [
            "70 - 79",
            "70 - 79"
           ],
           "xaxis": "x",
           "y": [
            15859,
            20990
           ],
           "yaxis": "y"
          },
          {
           "alignmentgroup": "True",
           "hovertemplate": "Age group=%{x}<br>Canton=GE<br>Population=%{y}<extra></extra>",
           "ids": [
            "80+",
            "80+"
           ],
           "legendgroup": "80+",
           "marker": {
            "color": "#FF97FF",
            "pattern": {
             "shape": ""
            }
           },
           "name": "80+",
           "offsetgroup": "80+",
           "orientation": "v",
           "showlegend": true,
           "textposition": "auto",
           "type": "bar",
           "x": [
            "80+",
            "80+"
           ],
           "xaxis": "x",
           "y": [
            9572,
            16100
           ],
           "yaxis": "y"
          }
         ],
         "name": "GE"
        },
        {
         "data": [
          {
           "alignmentgroup": "True",
           "hovertemplate": "Age group=%{x}<br>Canton=GL<br>Population=%{y}<extra></extra>",
           "ids": [
            "0 - 9",
            "0 - 9"
           ],
           "legendgroup": "0 - 9",
           "marker": {
            "color": "#636efa",
            "pattern": {
             "shape": ""
            }
           },
           "name": "0 - 9",
           "offsetgroup": "0 - 9",
           "orientation": "v",
           "showlegend": true,
           "textposition": "auto",
           "type": "bar",
           "x": [
            "0 - 9",
            "0 - 9"
           ],
           "xaxis": "x",
           "y": [
            2036,
            1973
           ],
           "yaxis": "y"
          },
          {
           "alignmentgroup": "True",
           "hovertemplate": "Age group=%{x}<br>Canton=GL<br>Population=%{y}<extra></extra>",
           "ids": [
            "10 - 19",
            "10 - 19"
           ],
           "legendgroup": "10 - 19",
           "marker": {
            "color": "#EF553B",
            "pattern": {
             "shape": ""
            }
           },
           "name": "10 - 19",
           "offsetgroup": "10 - 19",
           "orientation": "v",
           "showlegend": true,
           "textposition": "auto",
           "type": "bar",
           "x": [
            "10 - 19",
            "10 - 19"
           ],
           "xaxis": "x",
           "y": [
            1962,
            1850
           ],
           "yaxis": "y"
          },
          {
           "alignmentgroup": "True",
           "hovertemplate": "Age group=%{x}<br>Canton=GL<br>Population=%{y}<extra></extra>",
           "ids": [
            "20 - 29",
            "20 - 29"
           ],
           "legendgroup": "20 - 29",
           "marker": {
            "color": "#00cc96",
            "pattern": {
             "shape": ""
            }
           },
           "name": "20 - 29",
           "offsetgroup": "20 - 29",
           "orientation": "v",
           "showlegend": true,
           "textposition": "auto",
           "type": "bar",
           "x": [
            "20 - 29",
            "20 - 29"
           ],
           "xaxis": "x",
           "y": [
            2521,
            2247
           ],
           "yaxis": "y"
          },
          {
           "alignmentgroup": "True",
           "hovertemplate": "Age group=%{x}<br>Canton=GL<br>Population=%{y}<extra></extra>",
           "ids": [
            "30 - 39",
            "30 - 39"
           ],
           "legendgroup": "30 - 39",
           "marker": {
            "color": "#ab63fa",
            "pattern": {
             "shape": ""
            }
           },
           "name": "30 - 39",
           "offsetgroup": "30 - 39",
           "orientation": "v",
           "showlegend": true,
           "textposition": "auto",
           "type": "bar",
           "x": [
            "30 - 39",
            "30 - 39"
           ],
           "xaxis": "x",
           "y": [
            2936,
            2676
           ],
           "yaxis": "y"
          },
          {
           "alignmentgroup": "True",
           "hovertemplate": "Age group=%{x}<br>Canton=GL<br>Population=%{y}<extra></extra>",
           "ids": [
            "40 - 49",
            "40 - 49"
           ],
           "legendgroup": "40 - 49",
           "marker": {
            "color": "#FFA15A",
            "pattern": {
             "shape": ""
            }
           },
           "name": "40 - 49",
           "offsetgroup": "40 - 49",
           "orientation": "v",
           "showlegend": true,
           "textposition": "auto",
           "type": "bar",
           "x": [
            "40 - 49",
            "40 - 49"
           ],
           "xaxis": "x",
           "y": [
            2701,
            2507
           ],
           "yaxis": "y"
          },
          {
           "alignmentgroup": "True",
           "hovertemplate": "Age group=%{x}<br>Canton=GL<br>Population=%{y}<extra></extra>",
           "ids": [
            "50 - 59",
            "50 - 59"
           ],
           "legendgroup": "50 - 59",
           "marker": {
            "color": "#19d3f3",
            "pattern": {
             "shape": ""
            }
           },
           "name": "50 - 59",
           "offsetgroup": "50 - 59",
           "orientation": "v",
           "showlegend": true,
           "textposition": "auto",
           "type": "bar",
           "x": [
            "50 - 59",
            "50 - 59"
           ],
           "xaxis": "x",
           "y": [
            3159,
            3048
           ],
           "yaxis": "y"
          },
          {
           "alignmentgroup": "True",
           "hovertemplate": "Age group=%{x}<br>Canton=GL<br>Population=%{y}<extra></extra>",
           "ids": [
            "60 - 69",
            "60 - 69"
           ],
           "legendgroup": "60 - 69",
           "marker": {
            "color": "#FF6692",
            "pattern": {
             "shape": ""
            }
           },
           "name": "60 - 69",
           "offsetgroup": "60 - 69",
           "orientation": "v",
           "showlegend": true,
           "textposition": "auto",
           "type": "bar",
           "x": [
            "60 - 69",
            "60 - 69"
           ],
           "xaxis": "x",
           "y": [
            2650,
            2594
           ],
           "yaxis": "y"
          },
          {
           "alignmentgroup": "True",
           "hovertemplate": "Age group=%{x}<br>Canton=GL<br>Population=%{y}<extra></extra>",
           "ids": [
            "70 - 79",
            "70 - 79"
           ],
           "legendgroup": "70 - 79",
           "marker": {
            "color": "#B6E880",
            "pattern": {
             "shape": ""
            }
           },
           "name": "70 - 79",
           "offsetgroup": "70 - 79",
           "orientation": "v",
           "showlegend": true,
           "textposition": "auto",
           "type": "bar",
           "x": [
            "70 - 79",
            "70 - 79"
           ],
           "xaxis": "x",
           "y": [
            1800,
            1924
           ],
           "yaxis": "y"
          },
          {
           "alignmentgroup": "True",
           "hovertemplate": "Age group=%{x}<br>Canton=GL<br>Population=%{y}<extra></extra>",
           "ids": [
            "80+",
            "80+"
           ],
           "legendgroup": "80+",
           "marker": {
            "color": "#FF97FF",
            "pattern": {
             "shape": ""
            }
           },
           "name": "80+",
           "offsetgroup": "80+",
           "orientation": "v",
           "showlegend": true,
           "textposition": "auto",
           "type": "bar",
           "x": [
            "80+",
            "80+"
           ],
           "xaxis": "x",
           "y": [
            860,
            1407
           ],
           "yaxis": "y"
          }
         ],
         "name": "GL"
        },
        {
         "data": [
          {
           "alignmentgroup": "True",
           "hovertemplate": "Age group=%{x}<br>Canton=GR<br>Population=%{y}<extra></extra>",
           "ids": [
            "0 - 9",
            "0 - 9"
           ],
           "legendgroup": "0 - 9",
           "marker": {
            "color": "#636efa",
            "pattern": {
             "shape": ""
            }
           },
           "name": "0 - 9",
           "offsetgroup": "0 - 9",
           "orientation": "v",
           "showlegend": true,
           "textposition": "auto",
           "type": "bar",
           "x": [
            "0 - 9",
            "0 - 9"
           ],
           "xaxis": "x",
           "y": [
            8989,
            8476
           ],
           "yaxis": "y"
          },
          {
           "alignmentgroup": "True",
           "hovertemplate": "Age group=%{x}<br>Canton=GR<br>Population=%{y}<extra></extra>",
           "ids": [
            "10 - 19",
            "10 - 19"
           ],
           "legendgroup": "10 - 19",
           "marker": {
            "color": "#EF553B",
            "pattern": {
             "shape": ""
            }
           },
           "name": "10 - 19",
           "offsetgroup": "10 - 19",
           "orientation": "v",
           "showlegend": true,
           "textposition": "auto",
           "type": "bar",
           "x": [
            "10 - 19",
            "10 - 19"
           ],
           "xaxis": "x",
           "y": [
            9155,
            8541
           ],
           "yaxis": "y"
          },
          {
           "alignmentgroup": "True",
           "hovertemplate": "Age group=%{x}<br>Canton=GR<br>Population=%{y}<extra></extra>",
           "ids": [
            "20 - 29",
            "20 - 29"
           ],
           "legendgroup": "20 - 29",
           "marker": {
            "color": "#00cc96",
            "pattern": {
             "shape": ""
            }
           },
           "name": "20 - 29",
           "offsetgroup": "20 - 29",
           "orientation": "v",
           "showlegend": true,
           "textposition": "auto",
           "type": "bar",
           "x": [
            "20 - 29",
            "20 - 29"
           ],
           "xaxis": "x",
           "y": [
            11858,
            10930
           ],
           "yaxis": "y"
          },
          {
           "alignmentgroup": "True",
           "hovertemplate": "Age group=%{x}<br>Canton=GR<br>Population=%{y}<extra></extra>",
           "ids": [
            "30 - 39",
            "30 - 39"
           ],
           "legendgroup": "30 - 39",
           "marker": {
            "color": "#ab63fa",
            "pattern": {
             "shape": ""
            }
           },
           "name": "30 - 39",
           "offsetgroup": "30 - 39",
           "orientation": "v",
           "showlegend": true,
           "textposition": "auto",
           "type": "bar",
           "x": [
            "30 - 39",
            "30 - 39"
           ],
           "xaxis": "x",
           "y": [
            13303,
            12554
           ],
           "yaxis": "y"
          },
          {
           "alignmentgroup": "True",
           "hovertemplate": "Age group=%{x}<br>Canton=GR<br>Population=%{y}<extra></extra>",
           "ids": [
            "40 - 49",
            "40 - 49"
           ],
           "legendgroup": "40 - 49",
           "marker": {
            "color": "#FFA15A",
            "pattern": {
             "shape": ""
            }
           },
           "name": "40 - 49",
           "offsetgroup": "40 - 49",
           "orientation": "v",
           "showlegend": true,
           "textposition": "auto",
           "type": "bar",
           "x": [
            "40 - 49",
            "40 - 49"
           ],
           "xaxis": "x",
           "y": [
            13281,
            12907
           ],
           "yaxis": "y"
          },
          {
           "alignmentgroup": "True",
           "hovertemplate": "Age group=%{x}<br>Canton=GR<br>Population=%{y}<extra></extra>",
           "ids": [
            "50 - 59",
            "50 - 59"
           ],
           "legendgroup": "50 - 59",
           "marker": {
            "color": "#19d3f3",
            "pattern": {
             "shape": ""
            }
           },
           "name": "50 - 59",
           "offsetgroup": "50 - 59",
           "orientation": "v",
           "showlegend": true,
           "textposition": "auto",
           "type": "bar",
           "x": [
            "50 - 59",
            "50 - 59"
           ],
           "xaxis": "x",
           "y": [
            16138,
            15651
           ],
           "yaxis": "y"
          },
          {
           "alignmentgroup": "True",
           "hovertemplate": "Age group=%{x}<br>Canton=GR<br>Population=%{y}<extra></extra>",
           "ids": [
            "60 - 69",
            "60 - 69"
           ],
           "legendgroup": "60 - 69",
           "marker": {
            "color": "#FF6692",
            "pattern": {
             "shape": ""
            }
           },
           "name": "60 - 69",
           "offsetgroup": "60 - 69",
           "orientation": "v",
           "showlegend": true,
           "textposition": "auto",
           "type": "bar",
           "x": [
            "60 - 69",
            "60 - 69"
           ],
           "xaxis": "x",
           "y": [
            13156,
            13170
           ],
           "yaxis": "y"
          },
          {
           "alignmentgroup": "True",
           "hovertemplate": "Age group=%{x}<br>Canton=GR<br>Population=%{y}<extra></extra>",
           "ids": [
            "70 - 79",
            "70 - 79"
           ],
           "legendgroup": "70 - 79",
           "marker": {
            "color": "#B6E880",
            "pattern": {
             "shape": ""
            }
           },
           "name": "70 - 79",
           "offsetgroup": "70 - 79",
           "orientation": "v",
           "showlegend": true,
           "textposition": "auto",
           "type": "bar",
           "x": [
            "70 - 79",
            "70 - 79"
           ],
           "xaxis": "x",
           "y": [
            9703,
            10409
           ],
           "yaxis": "y"
          },
          {
           "alignmentgroup": "True",
           "hovertemplate": "Age group=%{x}<br>Canton=GR<br>Population=%{y}<extra></extra>",
           "ids": [
            "80+",
            "80+"
           ],
           "legendgroup": "80+",
           "marker": {
            "color": "#FF97FF",
            "pattern": {
             "shape": ""
            }
           },
           "name": "80+",
           "offsetgroup": "80+",
           "orientation": "v",
           "showlegend": true,
           "textposition": "auto",
           "type": "bar",
           "x": [
            "80+",
            "80+"
           ],
           "xaxis": "x",
           "y": [
            4706,
            7169
           ],
           "yaxis": "y"
          }
         ],
         "name": "GR"
        },
        {
         "data": [
          {
           "alignmentgroup": "True",
           "hovertemplate": "Age group=%{x}<br>Canton=JU<br>Population=%{y}<extra></extra>",
           "ids": [
            "0 - 9",
            "0 - 9"
           ],
           "legendgroup": "0 - 9",
           "marker": {
            "color": "#636efa",
            "pattern": {
             "shape": ""
            }
           },
           "name": "0 - 9",
           "offsetgroup": "0 - 9",
           "orientation": "v",
           "showlegend": true,
           "textposition": "auto",
           "type": "bar",
           "x": [
            "0 - 9",
            "0 - 9"
           ],
           "xaxis": "x",
           "y": [
            3751,
            3536
           ],
           "yaxis": "y"
          },
          {
           "alignmentgroup": "True",
           "hovertemplate": "Age group=%{x}<br>Canton=JU<br>Population=%{y}<extra></extra>",
           "ids": [
            "10 - 19",
            "10 - 19"
           ],
           "legendgroup": "10 - 19",
           "marker": {
            "color": "#EF553B",
            "pattern": {
             "shape": ""
            }
           },
           "name": "10 - 19",
           "offsetgroup": "10 - 19",
           "orientation": "v",
           "showlegend": true,
           "textposition": "auto",
           "type": "bar",
           "x": [
            "10 - 19",
            "10 - 19"
           ],
           "xaxis": "x",
           "y": [
            4113,
            3843
           ],
           "yaxis": "y"
          },
          {
           "alignmentgroup": "True",
           "hovertemplate": "Age group=%{x}<br>Canton=JU<br>Population=%{y}<extra></extra>",
           "ids": [
            "20 - 29",
            "20 - 29"
           ],
           "legendgroup": "20 - 29",
           "marker": {
            "color": "#00cc96",
            "pattern": {
             "shape": ""
            }
           },
           "name": "20 - 29",
           "offsetgroup": "20 - 29",
           "orientation": "v",
           "showlegend": true,
           "textposition": "auto",
           "type": "bar",
           "x": [
            "20 - 29",
            "20 - 29"
           ],
           "xaxis": "x",
           "y": [
            4761,
            4302
           ],
           "yaxis": "y"
          },
          {
           "alignmentgroup": "True",
           "hovertemplate": "Age group=%{x}<br>Canton=JU<br>Population=%{y}<extra></extra>",
           "ids": [
            "30 - 39",
            "30 - 39"
           ],
           "legendgroup": "30 - 39",
           "marker": {
            "color": "#ab63fa",
            "pattern": {
             "shape": ""
            }
           },
           "name": "30 - 39",
           "offsetgroup": "30 - 39",
           "orientation": "v",
           "showlegend": true,
           "textposition": "auto",
           "type": "bar",
           "x": [
            "30 - 39",
            "30 - 39"
           ],
           "xaxis": "x",
           "y": [
            4482,
            4290
           ],
           "yaxis": "y"
          },
          {
           "alignmentgroup": "True",
           "hovertemplate": "Age group=%{x}<br>Canton=JU<br>Population=%{y}<extra></extra>",
           "ids": [
            "40 - 49",
            "40 - 49"
           ],
           "legendgroup": "40 - 49",
           "marker": {
            "color": "#FFA15A",
            "pattern": {
             "shape": ""
            }
           },
           "name": "40 - 49",
           "offsetgroup": "40 - 49",
           "orientation": "v",
           "showlegend": true,
           "textposition": "auto",
           "type": "bar",
           "x": [
            "40 - 49",
            "40 - 49"
           ],
           "xaxis": "x",
           "y": [
            4449,
            4651
           ],
           "yaxis": "y"
          },
          {
           "alignmentgroup": "True",
           "hovertemplate": "Age group=%{x}<br>Canton=JU<br>Population=%{y}<extra></extra>",
           "ids": [
            "50 - 59",
            "50 - 59"
           ],
           "legendgroup": "50 - 59",
           "marker": {
            "color": "#19d3f3",
            "pattern": {
             "shape": ""
            }
           },
           "name": "50 - 59",
           "offsetgroup": "50 - 59",
           "orientation": "v",
           "showlegend": true,
           "textposition": "auto",
           "type": "bar",
           "x": [
            "50 - 59",
            "50 - 59"
           ],
           "xaxis": "x",
           "y": [
            5389,
            5454
           ],
           "yaxis": "y"
          },
          {
           "alignmentgroup": "True",
           "hovertemplate": "Age group=%{x}<br>Canton=JU<br>Population=%{y}<extra></extra>",
           "ids": [
            "60 - 69",
            "60 - 69"
           ],
           "legendgroup": "60 - 69",
           "marker": {
            "color": "#FF6692",
            "pattern": {
             "shape": ""
            }
           },
           "name": "60 - 69",
           "offsetgroup": "60 - 69",
           "orientation": "v",
           "showlegend": true,
           "textposition": "auto",
           "type": "bar",
           "x": [
            "60 - 69",
            "60 - 69"
           ],
           "xaxis": "x",
           "y": [
            4492,
            4669
           ],
           "yaxis": "y"
          },
          {
           "alignmentgroup": "True",
           "hovertemplate": "Age group=%{x}<br>Canton=JU<br>Population=%{y}<extra></extra>",
           "ids": [
            "70 - 79",
            "70 - 79"
           ],
           "legendgroup": "70 - 79",
           "marker": {
            "color": "#B6E880",
            "pattern": {
             "shape": ""
            }
           },
           "name": "70 - 79",
           "offsetgroup": "70 - 79",
           "orientation": "v",
           "showlegend": true,
           "textposition": "auto",
           "type": "bar",
           "x": [
            "70 - 79",
            "70 - 79"
           ],
           "xaxis": "x",
           "y": [
            3372,
            3710
           ],
           "yaxis": "y"
          },
          {
           "alignmentgroup": "True",
           "hovertemplate": "Age group=%{x}<br>Canton=JU<br>Population=%{y}<extra></extra>",
           "ids": [
            "80+",
            "80+"
           ],
           "legendgroup": "80+",
           "marker": {
            "color": "#FF97FF",
            "pattern": {
             "shape": ""
            }
           },
           "name": "80+",
           "offsetgroup": "80+",
           "orientation": "v",
           "showlegend": true,
           "textposition": "auto",
           "type": "bar",
           "x": [
            "80+",
            "80+"
           ],
           "xaxis": "x",
           "y": [
            1665,
            2780
           ],
           "yaxis": "y"
          }
         ],
         "name": "JU"
        },
        {
         "data": [
          {
           "alignmentgroup": "True",
           "hovertemplate": "Age group=%{x}<br>Canton=LU<br>Population=%{y}<extra></extra>",
           "ids": [
            "0 - 9",
            "0 - 9"
           ],
           "legendgroup": "0 - 9",
           "marker": {
            "color": "#636efa",
            "pattern": {
             "shape": ""
            }
           },
           "name": "0 - 9",
           "offsetgroup": "0 - 9",
           "orientation": "v",
           "showlegend": true,
           "textposition": "auto",
           "type": "bar",
           "x": [
            "0 - 9",
            "0 - 9"
           ],
           "xaxis": "x",
           "y": [
            22385,
            20947
           ],
           "yaxis": "y"
          },
          {
           "alignmentgroup": "True",
           "hovertemplate": "Age group=%{x}<br>Canton=LU<br>Population=%{y}<extra></extra>",
           "ids": [
            "10 - 19",
            "10 - 19"
           ],
           "legendgroup": "10 - 19",
           "marker": {
            "color": "#EF553B",
            "pattern": {
             "shape": ""
            }
           },
           "name": "10 - 19",
           "offsetgroup": "10 - 19",
           "orientation": "v",
           "showlegend": true,
           "textposition": "auto",
           "type": "bar",
           "x": [
            "10 - 19",
            "10 - 19"
           ],
           "xaxis": "x",
           "y": [
            21111,
            19824
           ],
           "yaxis": "y"
          },
          {
           "alignmentgroup": "True",
           "hovertemplate": "Age group=%{x}<br>Canton=LU<br>Population=%{y}<extra></extra>",
           "ids": [
            "20 - 29",
            "20 - 29"
           ],
           "legendgroup": "20 - 29",
           "marker": {
            "color": "#00cc96",
            "pattern": {
             "shape": ""
            }
           },
           "name": "20 - 29",
           "offsetgroup": "20 - 29",
           "orientation": "v",
           "showlegend": true,
           "textposition": "auto",
           "type": "bar",
           "x": [
            "20 - 29",
            "20 - 29"
           ],
           "xaxis": "x",
           "y": [
            27130,
            26048
           ],
           "yaxis": "y"
          },
          {
           "alignmentgroup": "True",
           "hovertemplate": "Age group=%{x}<br>Canton=LU<br>Population=%{y}<extra></extra>",
           "ids": [
            "30 - 39",
            "30 - 39"
           ],
           "legendgroup": "30 - 39",
           "marker": {
            "color": "#ab63fa",
            "pattern": {
             "shape": ""
            }
           },
           "name": "30 - 39",
           "offsetgroup": "30 - 39",
           "orientation": "v",
           "showlegend": true,
           "textposition": "auto",
           "type": "bar",
           "x": [
            "30 - 39",
            "30 - 39"
           ],
           "xaxis": "x",
           "y": [
            30382,
            29597
           ],
           "yaxis": "y"
          },
          {
           "alignmentgroup": "True",
           "hovertemplate": "Age group=%{x}<br>Canton=LU<br>Population=%{y}<extra></extra>",
           "ids": [
            "40 - 49",
            "40 - 49"
           ],
           "legendgroup": "40 - 49",
           "marker": {
            "color": "#FFA15A",
            "pattern": {
             "shape": ""
            }
           },
           "name": "40 - 49",
           "offsetgroup": "40 - 49",
           "orientation": "v",
           "showlegend": true,
           "textposition": "auto",
           "type": "bar",
           "x": [
            "40 - 49",
            "40 - 49"
           ],
           "xaxis": "x",
           "y": [
            28016,
            27558
           ],
           "yaxis": "y"
          },
          {
           "alignmentgroup": "True",
           "hovertemplate": "Age group=%{x}<br>Canton=LU<br>Population=%{y}<extra></extra>",
           "ids": [
            "50 - 59",
            "50 - 59"
           ],
           "legendgroup": "50 - 59",
           "marker": {
            "color": "#19d3f3",
            "pattern": {
             "shape": ""
            }
           },
           "name": "50 - 59",
           "offsetgroup": "50 - 59",
           "orientation": "v",
           "showlegend": true,
           "textposition": "auto",
           "type": "bar",
           "x": [
            "50 - 59",
            "50 - 59"
           ],
           "xaxis": "x",
           "y": [
            31266,
            30856
           ],
           "yaxis": "y"
          },
          {
           "alignmentgroup": "True",
           "hovertemplate": "Age group=%{x}<br>Canton=LU<br>Population=%{y}<extra></extra>",
           "ids": [
            "60 - 69",
            "60 - 69"
           ],
           "legendgroup": "60 - 69",
           "marker": {
            "color": "#FF6692",
            "pattern": {
             "shape": ""
            }
           },
           "name": "60 - 69",
           "offsetgroup": "60 - 69",
           "orientation": "v",
           "showlegend": true,
           "textposition": "auto",
           "type": "bar",
           "x": [
            "60 - 69",
            "60 - 69"
           ],
           "xaxis": "x",
           "y": [
            23240,
            23369
           ],
           "yaxis": "y"
          },
          {
           "alignmentgroup": "True",
           "hovertemplate": "Age group=%{x}<br>Canton=LU<br>Population=%{y}<extra></extra>",
           "ids": [
            "70 - 79",
            "70 - 79"
           ],
           "legendgroup": "70 - 79",
           "marker": {
            "color": "#B6E880",
            "pattern": {
             "shape": ""
            }
           },
           "name": "70 - 79",
           "offsetgroup": "70 - 79",
           "orientation": "v",
           "showlegend": true,
           "textposition": "auto",
           "type": "bar",
           "x": [
            "70 - 79",
            "70 - 79"
           ],
           "xaxis": "x",
           "y": [
            15710,
            17392
           ],
           "yaxis": "y"
          },
          {
           "alignmentgroup": "True",
           "hovertemplate": "Age group=%{x}<br>Canton=LU<br>Population=%{y}<extra></extra>",
           "ids": [
            "80+",
            "80+"
           ],
           "legendgroup": "80+",
           "marker": {
            "color": "#FF97FF",
            "pattern": {
             "shape": ""
            }
           },
           "name": "80+",
           "offsetgroup": "80+",
           "orientation": "v",
           "showlegend": true,
           "textposition": "auto",
           "type": "bar",
           "x": [
            "80+",
            "80+"
           ],
           "xaxis": "x",
           "y": [
            8342,
            13174
           ],
           "yaxis": "y"
          }
         ],
         "name": "LU"
        },
        {
         "data": [
          {
           "alignmentgroup": "True",
           "hovertemplate": "Age group=%{x}<br>Canton=NE<br>Population=%{y}<extra></extra>",
           "ids": [
            "0 - 9",
            "0 - 9"
           ],
           "legendgroup": "0 - 9",
           "marker": {
            "color": "#636efa",
            "pattern": {
             "shape": ""
            }
           },
           "name": "0 - 9",
           "offsetgroup": "0 - 9",
           "orientation": "v",
           "showlegend": true,
           "textposition": "auto",
           "type": "bar",
           "x": [
            "0 - 9",
            "0 - 9"
           ],
           "xaxis": "x",
           "y": [
            8954,
            8428
           ],
           "yaxis": "y"
          },
          {
           "alignmentgroup": "True",
           "hovertemplate": "Age group=%{x}<br>Canton=NE<br>Population=%{y}<extra></extra>",
           "ids": [
            "10 - 19",
            "10 - 19"
           ],
           "legendgroup": "10 - 19",
           "marker": {
            "color": "#EF553B",
            "pattern": {
             "shape": ""
            }
           },
           "name": "10 - 19",
           "offsetgroup": "10 - 19",
           "orientation": "v",
           "showlegend": true,
           "textposition": "auto",
           "type": "bar",
           "x": [
            "10 - 19",
            "10 - 19"
           ],
           "xaxis": "x",
           "y": [
            9788,
            9311
           ],
           "yaxis": "y"
          },
          {
           "alignmentgroup": "True",
           "hovertemplate": "Age group=%{x}<br>Canton=NE<br>Population=%{y}<extra></extra>",
           "ids": [
            "20 - 29",
            "20 - 29"
           ],
           "legendgroup": "20 - 29",
           "marker": {
            "color": "#00cc96",
            "pattern": {
             "shape": ""
            }
           },
           "name": "20 - 29",
           "offsetgroup": "20 - 29",
           "orientation": "v",
           "showlegend": true,
           "textposition": "auto",
           "type": "bar",
           "x": [
            "20 - 29",
            "20 - 29"
           ],
           "xaxis": "x",
           "y": [
            11273,
            10542
           ],
           "yaxis": "y"
          },
          {
           "alignmentgroup": "True",
           "hovertemplate": "Age group=%{x}<br>Canton=NE<br>Population=%{y}<extra></extra>",
           "ids": [
            "30 - 39",
            "30 - 39"
           ],
           "legendgroup": "30 - 39",
           "marker": {
            "color": "#ab63fa",
            "pattern": {
             "shape": ""
            }
           },
           "name": "30 - 39",
           "offsetgroup": "30 - 39",
           "orientation": "v",
           "showlegend": true,
           "textposition": "auto",
           "type": "bar",
           "x": [
            "30 - 39",
            "30 - 39"
           ],
           "xaxis": "x",
           "y": [
            11510,
            11522
           ],
           "yaxis": "y"
          },
          {
           "alignmentgroup": "True",
           "hovertemplate": "Age group=%{x}<br>Canton=NE<br>Population=%{y}<extra></extra>",
           "ids": [
            "40 - 49",
            "40 - 49"
           ],
           "legendgroup": "40 - 49",
           "marker": {
            "color": "#FFA15A",
            "pattern": {
             "shape": ""
            }
           },
           "name": "40 - 49",
           "offsetgroup": "40 - 49",
           "orientation": "v",
           "showlegend": true,
           "textposition": "auto",
           "type": "bar",
           "x": [
            "40 - 49",
            "40 - 49"
           ],
           "xaxis": "x",
           "y": [
            12086,
            12402
           ],
           "yaxis": "y"
          },
          {
           "alignmentgroup": "True",
           "hovertemplate": "Age group=%{x}<br>Canton=NE<br>Population=%{y}<extra></extra>",
           "ids": [
            "50 - 59",
            "50 - 59"
           ],
           "legendgroup": "50 - 59",
           "marker": {
            "color": "#19d3f3",
            "pattern": {
             "shape": ""
            }
           },
           "name": "50 - 59",
           "offsetgroup": "50 - 59",
           "orientation": "v",
           "showlegend": true,
           "textposition": "auto",
           "type": "bar",
           "x": [
            "50 - 59",
            "50 - 59"
           ],
           "xaxis": "x",
           "y": [
            12759,
            12751
           ],
           "yaxis": "y"
          },
          {
           "alignmentgroup": "True",
           "hovertemplate": "Age group=%{x}<br>Canton=NE<br>Population=%{y}<extra></extra>",
           "ids": [
            "60 - 69",
            "60 - 69"
           ],
           "legendgroup": "60 - 69",
           "marker": {
            "color": "#FF6692",
            "pattern": {
             "shape": ""
            }
           },
           "name": "60 - 69",
           "offsetgroup": "60 - 69",
           "orientation": "v",
           "showlegend": true,
           "textposition": "auto",
           "type": "bar",
           "x": [
            "60 - 69",
            "60 - 69"
           ],
           "xaxis": "x",
           "y": [
            9208,
            9779
           ],
           "yaxis": "y"
          },
          {
           "alignmentgroup": "True",
           "hovertemplate": "Age group=%{x}<br>Canton=NE<br>Population=%{y}<extra></extra>",
           "ids": [
            "70 - 79",
            "70 - 79"
           ],
           "legendgroup": "70 - 79",
           "marker": {
            "color": "#B6E880",
            "pattern": {
             "shape": ""
            }
           },
           "name": "70 - 79",
           "offsetgroup": "70 - 79",
           "orientation": "v",
           "showlegend": true,
           "textposition": "auto",
           "type": "bar",
           "x": [
            "70 - 79",
            "70 - 79"
           ],
           "xaxis": "x",
           "y": [
            7026,
            8409
           ],
           "yaxis": "y"
          },
          {
           "alignmentgroup": "True",
           "hovertemplate": "Age group=%{x}<br>Canton=NE<br>Population=%{y}<extra></extra>",
           "ids": [
            "80+",
            "80+"
           ],
           "legendgroup": "80+",
           "marker": {
            "color": "#FF97FF",
            "pattern": {
             "shape": ""
            }
           },
           "name": "80+",
           "offsetgroup": "80+",
           "orientation": "v",
           "showlegend": true,
           "textposition": "auto",
           "type": "bar",
           "x": [
            "80+",
            "80+"
           ],
           "xaxis": "x",
           "y": [
            3580,
            6566
           ],
           "yaxis": "y"
          }
         ],
         "name": "NE"
        },
        {
         "data": [
          {
           "alignmentgroup": "True",
           "hovertemplate": "Age group=%{x}<br>Canton=NW<br>Population=%{y}<extra></extra>",
           "ids": [
            "0 - 9",
            "0 - 9"
           ],
           "legendgroup": "0 - 9",
           "marker": {
            "color": "#636efa",
            "pattern": {
             "shape": ""
            }
           },
           "name": "0 - 9",
           "offsetgroup": "0 - 9",
           "orientation": "v",
           "showlegend": true,
           "textposition": "auto",
           "type": "bar",
           "x": [
            "0 - 9",
            "0 - 9"
           ],
           "xaxis": "x",
           "y": [
            2072,
            1855
           ],
           "yaxis": "y"
          },
          {
           "alignmentgroup": "True",
           "hovertemplate": "Age group=%{x}<br>Canton=NW<br>Population=%{y}<extra></extra>",
           "ids": [
            "10 - 19",
            "10 - 19"
           ],
           "legendgroup": "10 - 19",
           "marker": {
            "color": "#EF553B",
            "pattern": {
             "shape": ""
            }
           },
           "name": "10 - 19",
           "offsetgroup": "10 - 19",
           "orientation": "v",
           "showlegend": true,
           "textposition": "auto",
           "type": "bar",
           "x": [
            "10 - 19",
            "10 - 19"
           ],
           "xaxis": "x",
           "y": [
            2053,
            1883
           ],
           "yaxis": "y"
          },
          {
           "alignmentgroup": "True",
           "hovertemplate": "Age group=%{x}<br>Canton=NW<br>Population=%{y}<extra></extra>",
           "ids": [
            "20 - 29",
            "20 - 29"
           ],
           "legendgroup": "20 - 29",
           "marker": {
            "color": "#00cc96",
            "pattern": {
             "shape": ""
            }
           },
           "name": "20 - 29",
           "offsetgroup": "20 - 29",
           "orientation": "v",
           "showlegend": true,
           "textposition": "auto",
           "type": "bar",
           "x": [
            "20 - 29",
            "20 - 29"
           ],
           "xaxis": "x",
           "y": [
            2545,
            2237
           ],
           "yaxis": "y"
          },
          {
           "alignmentgroup": "True",
           "hovertemplate": "Age group=%{x}<br>Canton=NW<br>Population=%{y}<extra></extra>",
           "ids": [
            "30 - 39",
            "30 - 39"
           ],
           "legendgroup": "30 - 39",
           "marker": {
            "color": "#ab63fa",
            "pattern": {
             "shape": ""
            }
           },
           "name": "30 - 39",
           "offsetgroup": "30 - 39",
           "orientation": "v",
           "showlegend": true,
           "textposition": "auto",
           "type": "bar",
           "x": [
            "30 - 39",
            "30 - 39"
           ],
           "xaxis": "x",
           "y": [
            2870,
            2646
           ],
           "yaxis": "y"
          },
          {
           "alignmentgroup": "True",
           "hovertemplate": "Age group=%{x}<br>Canton=NW<br>Population=%{y}<extra></extra>",
           "ids": [
            "40 - 49",
            "40 - 49"
           ],
           "legendgroup": "40 - 49",
           "marker": {
            "color": "#FFA15A",
            "pattern": {
             "shape": ""
            }
           },
           "name": "40 - 49",
           "offsetgroup": "40 - 49",
           "orientation": "v",
           "showlegend": true,
           "textposition": "auto",
           "type": "bar",
           "x": [
            "40 - 49",
            "40 - 49"
           ],
           "xaxis": "x",
           "y": [
            2821,
            2800
           ],
           "yaxis": "y"
          },
          {
           "alignmentgroup": "True",
           "hovertemplate": "Age group=%{x}<br>Canton=NW<br>Population=%{y}<extra></extra>",
           "ids": [
            "50 - 59",
            "50 - 59"
           ],
           "legendgroup": "50 - 59",
           "marker": {
            "color": "#19d3f3",
            "pattern": {
             "shape": ""
            }
           },
           "name": "50 - 59",
           "offsetgroup": "50 - 59",
           "orientation": "v",
           "showlegend": true,
           "textposition": "auto",
           "type": "bar",
           "x": [
            "50 - 59",
            "50 - 59"
           ],
           "xaxis": "x",
           "y": [
            3719,
            3524
           ],
           "yaxis": "y"
          },
          {
           "alignmentgroup": "True",
           "hovertemplate": "Age group=%{x}<br>Canton=NW<br>Population=%{y}<extra></extra>",
           "ids": [
            "60 - 69",
            "60 - 69"
           ],
           "legendgroup": "60 - 69",
           "marker": {
            "color": "#FF6692",
            "pattern": {
             "shape": ""
            }
           },
           "name": "60 - 69",
           "offsetgroup": "60 - 69",
           "orientation": "v",
           "showlegend": true,
           "textposition": "auto",
           "type": "bar",
           "x": [
            "60 - 69",
            "60 - 69"
           ],
           "xaxis": "x",
           "y": [
            3039,
            2781
           ],
           "yaxis": "y"
          },
          {
           "alignmentgroup": "True",
           "hovertemplate": "Age group=%{x}<br>Canton=NW<br>Population=%{y}<extra></extra>",
           "ids": [
            "70 - 79",
            "70 - 79"
           ],
           "legendgroup": "70 - 79",
           "marker": {
            "color": "#B6E880",
            "pattern": {
             "shape": ""
            }
           },
           "name": "70 - 79",
           "offsetgroup": "70 - 79",
           "orientation": "v",
           "showlegend": true,
           "textposition": "auto",
           "type": "bar",
           "x": [
            "70 - 79",
            "70 - 79"
           ],
           "xaxis": "x",
           "y": [
            2216,
            2190
           ],
           "yaxis": "y"
          },
          {
           "alignmentgroup": "True",
           "hovertemplate": "Age group=%{x}<br>Canton=NW<br>Population=%{y}<extra></extra>",
           "ids": [
            "80+",
            "80+"
           ],
           "legendgroup": "80+",
           "marker": {
            "color": "#FF97FF",
            "pattern": {
             "shape": ""
            }
           },
           "name": "80+",
           "offsetgroup": "80+",
           "orientation": "v",
           "showlegend": true,
           "textposition": "auto",
           "type": "bar",
           "x": [
            "80+",
            "80+"
           ],
           "xaxis": "x",
           "y": [
            963,
            1306
           ],
           "yaxis": "y"
          }
         ],
         "name": "NW"
        },
        {
         "data": [
          {
           "alignmentgroup": "True",
           "hovertemplate": "Age group=%{x}<br>Canton=OW<br>Population=%{y}<extra></extra>",
           "ids": [
            "0 - 9",
            "0 - 9"
           ],
           "legendgroup": "0 - 9",
           "marker": {
            "color": "#636efa",
            "pattern": {
             "shape": ""
            }
           },
           "name": "0 - 9",
           "offsetgroup": "0 - 9",
           "orientation": "v",
           "showlegend": true,
           "textposition": "auto",
           "type": "bar",
           "x": [
            "0 - 9",
            "0 - 9"
           ],
           "xaxis": "x",
           "y": [
            1965,
            1880
           ],
           "yaxis": "y"
          },
          {
           "alignmentgroup": "True",
           "hovertemplate": "Age group=%{x}<br>Canton=OW<br>Population=%{y}<extra></extra>",
           "ids": [
            "10 - 19",
            "10 - 19"
           ],
           "legendgroup": "10 - 19",
           "marker": {
            "color": "#EF553B",
            "pattern": {
             "shape": ""
            }
           },
           "name": "10 - 19",
           "offsetgroup": "10 - 19",
           "orientation": "v",
           "showlegend": true,
           "textposition": "auto",
           "type": "bar",
           "x": [
            "10 - 19",
            "10 - 19"
           ],
           "xaxis": "x",
           "y": [
            1885,
            1859
           ],
           "yaxis": "y"
          },
          {
           "alignmentgroup": "True",
           "hovertemplate": "Age group=%{x}<br>Canton=OW<br>Population=%{y}<extra></extra>",
           "ids": [
            "20 - 29",
            "20 - 29"
           ],
           "legendgroup": "20 - 29",
           "marker": {
            "color": "#00cc96",
            "pattern": {
             "shape": ""
            }
           },
           "name": "20 - 29",
           "offsetgroup": "20 - 29",
           "orientation": "v",
           "showlegend": true,
           "textposition": "auto",
           "type": "bar",
           "x": [
            "20 - 29",
            "20 - 29"
           ],
           "xaxis": "x",
           "y": [
            2226,
            2033
           ],
           "yaxis": "y"
          },
          {
           "alignmentgroup": "True",
           "hovertemplate": "Age group=%{x}<br>Canton=OW<br>Population=%{y}<extra></extra>",
           "ids": [
            "30 - 39",
            "30 - 39"
           ],
           "legendgroup": "30 - 39",
           "marker": {
            "color": "#ab63fa",
            "pattern": {
             "shape": ""
            }
           },
           "name": "30 - 39",
           "offsetgroup": "30 - 39",
           "orientation": "v",
           "showlegend": true,
           "textposition": "auto",
           "type": "bar",
           "x": [
            "30 - 39",
            "30 - 39"
           ],
           "xaxis": "x",
           "y": [
            2505,
            2463
           ],
           "yaxis": "y"
          },
          {
           "alignmentgroup": "True",
           "hovertemplate": "Age group=%{x}<br>Canton=OW<br>Population=%{y}<extra></extra>",
           "ids": [
            "40 - 49",
            "40 - 49"
           ],
           "legendgroup": "40 - 49",
           "marker": {
            "color": "#FFA15A",
            "pattern": {
             "shape": ""
            }
           },
           "name": "40 - 49",
           "offsetgroup": "40 - 49",
           "orientation": "v",
           "showlegend": true,
           "textposition": "auto",
           "type": "bar",
           "x": [
            "40 - 49",
            "40 - 49"
           ],
           "xaxis": "x",
           "y": [
            2594,
            2452
           ],
           "yaxis": "y"
          },
          {
           "alignmentgroup": "True",
           "hovertemplate": "Age group=%{x}<br>Canton=OW<br>Population=%{y}<extra></extra>",
           "ids": [
            "50 - 59",
            "50 - 59"
           ],
           "legendgroup": "50 - 59",
           "marker": {
            "color": "#19d3f3",
            "pattern": {
             "shape": ""
            }
           },
           "name": "50 - 59",
           "offsetgroup": "50 - 59",
           "orientation": "v",
           "showlegend": true,
           "textposition": "auto",
           "type": "bar",
           "x": [
            "50 - 59",
            "50 - 59"
           ],
           "xaxis": "x",
           "y": [
            3117,
            2987
           ],
           "yaxis": "y"
          },
          {
           "alignmentgroup": "True",
           "hovertemplate": "Age group=%{x}<br>Canton=OW<br>Population=%{y}<extra></extra>",
           "ids": [
            "60 - 69",
            "60 - 69"
           ],
           "legendgroup": "60 - 69",
           "marker": {
            "color": "#FF6692",
            "pattern": {
             "shape": ""
            }
           },
           "name": "60 - 69",
           "offsetgroup": "60 - 69",
           "orientation": "v",
           "showlegend": true,
           "textposition": "auto",
           "type": "bar",
           "x": [
            "60 - 69",
            "60 - 69"
           ],
           "xaxis": "x",
           "y": [
            2472,
            2362
           ],
           "yaxis": "y"
          },
          {
           "alignmentgroup": "True",
           "hovertemplate": "Age group=%{x}<br>Canton=OW<br>Population=%{y}<extra></extra>",
           "ids": [
            "70 - 79",
            "70 - 79"
           ],
           "legendgroup": "70 - 79",
           "marker": {
            "color": "#B6E880",
            "pattern": {
             "shape": ""
            }
           },
           "name": "70 - 79",
           "offsetgroup": "70 - 79",
           "orientation": "v",
           "showlegend": true,
           "textposition": "auto",
           "type": "bar",
           "x": [
            "70 - 79",
            "70 - 79"
           ],
           "xaxis": "x",
           "y": [
            1700,
            1677
           ],
           "yaxis": "y"
          },
          {
           "alignmentgroup": "True",
           "hovertemplate": "Age group=%{x}<br>Canton=OW<br>Population=%{y}<extra></extra>",
           "ids": [
            "80+",
            "80+"
           ],
           "legendgroup": "80+",
           "marker": {
            "color": "#FF97FF",
            "pattern": {
             "shape": ""
            }
           },
           "name": "80+",
           "offsetgroup": "80+",
           "orientation": "v",
           "showlegend": true,
           "textposition": "auto",
           "type": "bar",
           "x": [
            "80+",
            "80+"
           ],
           "xaxis": "x",
           "y": [
            804,
            1127
           ],
           "yaxis": "y"
          }
         ],
         "name": "OW"
        },
        {
         "data": [
          {
           "alignmentgroup": "True",
           "hovertemplate": "Age group=%{x}<br>Canton=SG<br>Population=%{y}<extra></extra>",
           "ids": [
            "0 - 9",
            "0 - 9"
           ],
           "legendgroup": "0 - 9",
           "marker": {
            "color": "#636efa",
            "pattern": {
             "shape": ""
            }
           },
           "name": "0 - 9",
           "offsetgroup": "0 - 9",
           "orientation": "v",
           "showlegend": true,
           "textposition": "auto",
           "type": "bar",
           "x": [
            "0 - 9",
            "0 - 9"
           ],
           "xaxis": "x",
           "y": [
            27524,
            25864
           ],
           "yaxis": "y"
          },
          {
           "alignmentgroup": "True",
           "hovertemplate": "Age group=%{x}<br>Canton=SG<br>Population=%{y}<extra></extra>",
           "ids": [
            "10 - 19",
            "10 - 19"
           ],
           "legendgroup": "10 - 19",
           "marker": {
            "color": "#EF553B",
            "pattern": {
             "shape": ""
            }
           },
           "name": "10 - 19",
           "offsetgroup": "10 - 19",
           "orientation": "v",
           "showlegend": true,
           "textposition": "auto",
           "type": "bar",
           "x": [
            "10 - 19",
            "10 - 19"
           ],
           "xaxis": "x",
           "y": [
            26517,
            25278
           ],
           "yaxis": "y"
          },
          {
           "alignmentgroup": "True",
           "hovertemplate": "Age group=%{x}<br>Canton=SG<br>Population=%{y}<extra></extra>",
           "ids": [
            "20 - 29",
            "20 - 29"
           ],
           "legendgroup": "20 - 29",
           "marker": {
            "color": "#00cc96",
            "pattern": {
             "shape": ""
            }
           },
           "name": "20 - 29",
           "offsetgroup": "20 - 29",
           "orientation": "v",
           "showlegend": true,
           "textposition": "auto",
           "type": "bar",
           "x": [
            "20 - 29",
            "20 - 29"
           ],
           "xaxis": "x",
           "y": [
            34263,
            31518
           ],
           "yaxis": "y"
          },
          {
           "alignmentgroup": "True",
           "hovertemplate": "Age group=%{x}<br>Canton=SG<br>Population=%{y}<extra></extra>",
           "ids": [
            "30 - 39",
            "30 - 39"
           ],
           "legendgroup": "30 - 39",
           "marker": {
            "color": "#ab63fa",
            "pattern": {
             "shape": ""
            }
           },
           "name": "30 - 39",
           "offsetgroup": "30 - 39",
           "orientation": "v",
           "showlegend": true,
           "textposition": "auto",
           "type": "bar",
           "x": [
            "30 - 39",
            "30 - 39"
           ],
           "xaxis": "x",
           "y": [
            37354,
            34794
           ],
           "yaxis": "y"
          },
          {
           "alignmentgroup": "True",
           "hovertemplate": "Age group=%{x}<br>Canton=SG<br>Population=%{y}<extra></extra>",
           "ids": [
            "40 - 49",
            "40 - 49"
           ],
           "legendgroup": "40 - 49",
           "marker": {
            "color": "#FFA15A",
            "pattern": {
             "shape": ""
            }
           },
           "name": "40 - 49",
           "offsetgroup": "40 - 49",
           "orientation": "v",
           "showlegend": true,
           "textposition": "auto",
           "type": "bar",
           "x": [
            "40 - 49",
            "40 - 49"
           ],
           "xaxis": "x",
           "y": [
            33889,
            32580
           ],
           "yaxis": "y"
          },
          {
           "alignmentgroup": "True",
           "hovertemplate": "Age group=%{x}<br>Canton=SG<br>Population=%{y}<extra></extra>",
           "ids": [
            "50 - 59",
            "50 - 59"
           ],
           "legendgroup": "50 - 59",
           "marker": {
            "color": "#19d3f3",
            "pattern": {
             "shape": ""
            }
           },
           "name": "50 - 59",
           "offsetgroup": "50 - 59",
           "orientation": "v",
           "showlegend": true,
           "textposition": "auto",
           "type": "bar",
           "x": [
            "50 - 59",
            "50 - 59"
           ],
           "xaxis": "x",
           "y": [
            38664,
            37973
           ],
           "yaxis": "y"
          },
          {
           "alignmentgroup": "True",
           "hovertemplate": "Age group=%{x}<br>Canton=SG<br>Population=%{y}<extra></extra>",
           "ids": [
            "60 - 69",
            "60 - 69"
           ],
           "legendgroup": "60 - 69",
           "marker": {
            "color": "#FF6692",
            "pattern": {
             "shape": ""
            }
           },
           "name": "60 - 69",
           "offsetgroup": "60 - 69",
           "orientation": "v",
           "showlegend": true,
           "textposition": "auto",
           "type": "bar",
           "x": [
            "60 - 69",
            "60 - 69"
           ],
           "xaxis": "x",
           "y": [
            29056,
            29670
           ],
           "yaxis": "y"
          },
          {
           "alignmentgroup": "True",
           "hovertemplate": "Age group=%{x}<br>Canton=SG<br>Population=%{y}<extra></extra>",
           "ids": [
            "70 - 79",
            "70 - 79"
           ],
           "legendgroup": "70 - 79",
           "marker": {
            "color": "#B6E880",
            "pattern": {
             "shape": ""
            }
           },
           "name": "70 - 79",
           "offsetgroup": "70 - 79",
           "orientation": "v",
           "showlegend": true,
           "textposition": "auto",
           "type": "bar",
           "x": [
            "70 - 79",
            "70 - 79"
           ],
           "xaxis": "x",
           "y": [
            20744,
            22750
           ],
           "yaxis": "y"
          },
          {
           "alignmentgroup": "True",
           "hovertemplate": "Age group=%{x}<br>Canton=SG<br>Population=%{y}<extra></extra>",
           "ids": [
            "80+",
            "80+"
           ],
           "legendgroup": "80+",
           "marker": {
            "color": "#FF97FF",
            "pattern": {
             "shape": ""
            }
           },
           "name": "80+",
           "offsetgroup": "80+",
           "orientation": "v",
           "showlegend": true,
           "textposition": "auto",
           "type": "bar",
           "x": [
            "80+",
            "80+"
           ],
           "xaxis": "x",
           "y": [
            10097,
            15969
           ],
           "yaxis": "y"
          }
         ],
         "name": "SG"
        },
        {
         "data": [
          {
           "alignmentgroup": "True",
           "hovertemplate": "Age group=%{x}<br>Canton=SH<br>Population=%{y}<extra></extra>",
           "ids": [
            "0 - 9",
            "0 - 9"
           ],
           "legendgroup": "0 - 9",
           "marker": {
            "color": "#636efa",
            "pattern": {
             "shape": ""
            }
           },
           "name": "0 - 9",
           "offsetgroup": "0 - 9",
           "orientation": "v",
           "showlegend": true,
           "textposition": "auto",
           "type": "bar",
           "x": [
            "0 - 9",
            "0 - 9"
           ],
           "xaxis": "x",
           "y": [
            4051,
            3811
           ],
           "yaxis": "y"
          },
          {
           "alignmentgroup": "True",
           "hovertemplate": "Age group=%{x}<br>Canton=SH<br>Population=%{y}<extra></extra>",
           "ids": [
            "10 - 19",
            "10 - 19"
           ],
           "legendgroup": "10 - 19",
           "marker": {
            "color": "#EF553B",
            "pattern": {
             "shape": ""
            }
           },
           "name": "10 - 19",
           "offsetgroup": "10 - 19",
           "orientation": "v",
           "showlegend": true,
           "textposition": "auto",
           "type": "bar",
           "x": [
            "10 - 19",
            "10 - 19"
           ],
           "xaxis": "x",
           "y": [
            3932,
            3721
           ],
           "yaxis": "y"
          },
          {
           "alignmentgroup": "True",
           "hovertemplate": "Age group=%{x}<br>Canton=SH<br>Population=%{y}<extra></extra>",
           "ids": [
            "20 - 29",
            "20 - 29"
           ],
           "legendgroup": "20 - 29",
           "marker": {
            "color": "#00cc96",
            "pattern": {
             "shape": ""
            }
           },
           "name": "20 - 29",
           "offsetgroup": "20 - 29",
           "orientation": "v",
           "showlegend": true,
           "textposition": "auto",
           "type": "bar",
           "x": [
            "20 - 29",
            "20 - 29"
           ],
           "xaxis": "x",
           "y": [
            4934,
            4498
           ],
           "yaxis": "y"
          },
          {
           "alignmentgroup": "True",
           "hovertemplate": "Age group=%{x}<br>Canton=SH<br>Population=%{y}<extra></extra>",
           "ids": [
            "30 - 39",
            "30 - 39"
           ],
           "legendgroup": "30 - 39",
           "marker": {
            "color": "#ab63fa",
            "pattern": {
             "shape": ""
            }
           },
           "name": "30 - 39",
           "offsetgroup": "30 - 39",
           "orientation": "v",
           "showlegend": true,
           "textposition": "auto",
           "type": "bar",
           "x": [
            "30 - 39",
            "30 - 39"
           ],
           "xaxis": "x",
           "y": [
            5730,
            5407
           ],
           "yaxis": "y"
          },
          {
           "alignmentgroup": "True",
           "hovertemplate": "Age group=%{x}<br>Canton=SH<br>Population=%{y}<extra></extra>",
           "ids": [
            "40 - 49",
            "40 - 49"
           ],
           "legendgroup": "40 - 49",
           "marker": {
            "color": "#FFA15A",
            "pattern": {
             "shape": ""
            }
           },
           "name": "40 - 49",
           "offsetgroup": "40 - 49",
           "orientation": "v",
           "showlegend": true,
           "textposition": "auto",
           "type": "bar",
           "x": [
            "40 - 49",
            "40 - 49"
           ],
           "xaxis": "x",
           "y": [
            5366,
            5203
           ],
           "yaxis": "y"
          },
          {
           "alignmentgroup": "True",
           "hovertemplate": "Age group=%{x}<br>Canton=SH<br>Population=%{y}<extra></extra>",
           "ids": [
            "50 - 59",
            "50 - 59"
           ],
           "legendgroup": "50 - 59",
           "marker": {
            "color": "#19d3f3",
            "pattern": {
             "shape": ""
            }
           },
           "name": "50 - 59",
           "offsetgroup": "50 - 59",
           "orientation": "v",
           "showlegend": true,
           "textposition": "auto",
           "type": "bar",
           "x": [
            "50 - 59",
            "50 - 59"
           ],
           "xaxis": "x",
           "y": [
            6247,
            6433
           ],
           "yaxis": "y"
          },
          {
           "alignmentgroup": "True",
           "hovertemplate": "Age group=%{x}<br>Canton=SH<br>Population=%{y}<extra></extra>",
           "ids": [
            "60 - 69",
            "60 - 69"
           ],
           "legendgroup": "60 - 69",
           "marker": {
            "color": "#FF6692",
            "pattern": {
             "shape": ""
            }
           },
           "name": "60 - 69",
           "offsetgroup": "60 - 69",
           "orientation": "v",
           "showlegend": true,
           "textposition": "auto",
           "type": "bar",
           "x": [
            "60 - 69",
            "60 - 69"
           ],
           "xaxis": "x",
           "y": [
            5197,
            5352
           ],
           "yaxis": "y"
          },
          {
           "alignmentgroup": "True",
           "hovertemplate": "Age group=%{x}<br>Canton=SH<br>Population=%{y}<extra></extra>",
           "ids": [
            "70 - 79",
            "70 - 79"
           ],
           "legendgroup": "70 - 79",
           "marker": {
            "color": "#B6E880",
            "pattern": {
             "shape": ""
            }
           },
           "name": "70 - 79",
           "offsetgroup": "70 - 79",
           "orientation": "v",
           "showlegend": true,
           "textposition": "auto",
           "type": "bar",
           "x": [
            "70 - 79",
            "70 - 79"
           ],
           "xaxis": "x",
           "y": [
            3716,
            4263
           ],
           "yaxis": "y"
          },
          {
           "alignmentgroup": "True",
           "hovertemplate": "Age group=%{x}<br>Canton=SH<br>Population=%{y}<extra></extra>",
           "ids": [
            "80+",
            "80+"
           ],
           "legendgroup": "80+",
           "marker": {
            "color": "#FF97FF",
            "pattern": {
             "shape": ""
            }
           },
           "name": "80+",
           "offsetgroup": "80+",
           "orientation": "v",
           "showlegend": true,
           "textposition": "auto",
           "type": "bar",
           "x": [
            "80+",
            "80+"
           ],
           "xaxis": "x",
           "y": [
            1989,
            3257
           ],
           "yaxis": "y"
          }
         ],
         "name": "SH"
        },
        {
         "data": [
          {
           "alignmentgroup": "True",
           "hovertemplate": "Age group=%{x}<br>Canton=SO<br>Population=%{y}<extra></extra>",
           "ids": [
            "0 - 9",
            "0 - 9"
           ],
           "legendgroup": "0 - 9",
           "marker": {
            "color": "#636efa",
            "pattern": {
             "shape": ""
            }
           },
           "name": "0 - 9",
           "offsetgroup": "0 - 9",
           "orientation": "v",
           "showlegend": true,
           "textposition": "auto",
           "type": "bar",
           "x": [
            "0 - 9",
            "0 - 9"
           ],
           "xaxis": "x",
           "y": [
            13867,
            13242
           ],
           "yaxis": "y"
          },
          {
           "alignmentgroup": "True",
           "hovertemplate": "Age group=%{x}<br>Canton=SO<br>Population=%{y}<extra></extra>",
           "ids": [
            "10 - 19",
            "10 - 19"
           ],
           "legendgroup": "10 - 19",
           "marker": {
            "color": "#EF553B",
            "pattern": {
             "shape": ""
            }
           },
           "name": "10 - 19",
           "offsetgroup": "10 - 19",
           "orientation": "v",
           "showlegend": true,
           "textposition": "auto",
           "type": "bar",
           "x": [
            "10 - 19",
            "10 - 19"
           ],
           "xaxis": "x",
           "y": [
            13331,
            12411
           ],
           "yaxis": "y"
          },
          {
           "alignmentgroup": "True",
           "hovertemplate": "Age group=%{x}<br>Canton=SO<br>Population=%{y}<extra></extra>",
           "ids": [
            "20 - 29",
            "20 - 29"
           ],
           "legendgroup": "20 - 29",
           "marker": {
            "color": "#00cc96",
            "pattern": {
             "shape": ""
            }
           },
           "name": "20 - 29",
           "offsetgroup": "20 - 29",
           "orientation": "v",
           "showlegend": true,
           "textposition": "auto",
           "type": "bar",
           "x": [
            "20 - 29",
            "20 - 29"
           ],
           "xaxis": "x",
           "y": [
            16464,
            15596
           ],
           "yaxis": "y"
          },
          {
           "alignmentgroup": "True",
           "hovertemplate": "Age group=%{x}<br>Canton=SO<br>Population=%{y}<extra></extra>",
           "ids": [
            "30 - 39",
            "30 - 39"
           ],
           "legendgroup": "30 - 39",
           "marker": {
            "color": "#ab63fa",
            "pattern": {
             "shape": ""
            }
           },
           "name": "30 - 39",
           "offsetgroup": "30 - 39",
           "orientation": "v",
           "showlegend": true,
           "textposition": "auto",
           "type": "bar",
           "x": [
            "30 - 39",
            "30 - 39"
           ],
           "xaxis": "x",
           "y": [
            19304,
            18630
           ],
           "yaxis": "y"
          },
          {
           "alignmentgroup": "True",
           "hovertemplate": "Age group=%{x}<br>Canton=SO<br>Population=%{y}<extra></extra>",
           "ids": [
            "40 - 49",
            "40 - 49"
           ],
           "legendgroup": "40 - 49",
           "marker": {
            "color": "#FFA15A",
            "pattern": {
             "shape": ""
            }
           },
           "name": "40 - 49",
           "offsetgroup": "40 - 49",
           "orientation": "v",
           "showlegend": true,
           "textposition": "auto",
           "type": "bar",
           "x": [
            "40 - 49",
            "40 - 49"
           ],
           "xaxis": "x",
           "y": [
            18044,
            17675
           ],
           "yaxis": "y"
          },
          {
           "alignmentgroup": "True",
           "hovertemplate": "Age group=%{x}<br>Canton=SO<br>Population=%{y}<extra></extra>",
           "ids": [
            "50 - 59",
            "50 - 59"
           ],
           "legendgroup": "50 - 59",
           "marker": {
            "color": "#19d3f3",
            "pattern": {
             "shape": ""
            }
           },
           "name": "50 - 59",
           "offsetgroup": "50 - 59",
           "orientation": "v",
           "showlegend": true,
           "textposition": "auto",
           "type": "bar",
           "x": [
            "50 - 59",
            "50 - 59"
           ],
           "xaxis": "x",
           "y": [
            22112,
            21711
           ],
           "yaxis": "y"
          },
          {
           "alignmentgroup": "True",
           "hovertemplate": "Age group=%{x}<br>Canton=SO<br>Population=%{y}<extra></extra>",
           "ids": [
            "60 - 69",
            "60 - 69"
           ],
           "legendgroup": "60 - 69",
           "marker": {
            "color": "#FF6692",
            "pattern": {
             "shape": ""
            }
           },
           "name": "60 - 69",
           "offsetgroup": "60 - 69",
           "orientation": "v",
           "showlegend": true,
           "textposition": "auto",
           "type": "bar",
           "x": [
            "60 - 69",
            "60 - 69"
           ],
           "xaxis": "x",
           "y": [
            17619,
            17482
           ],
           "yaxis": "y"
          },
          {
           "alignmentgroup": "True",
           "hovertemplate": "Age group=%{x}<br>Canton=SO<br>Population=%{y}<extra></extra>",
           "ids": [
            "70 - 79",
            "70 - 79"
           ],
           "legendgroup": "70 - 79",
           "marker": {
            "color": "#B6E880",
            "pattern": {
             "shape": ""
            }
           },
           "name": "70 - 79",
           "offsetgroup": "70 - 79",
           "orientation": "v",
           "showlegend": true,
           "textposition": "auto",
           "type": "bar",
           "x": [
            "70 - 79",
            "70 - 79"
           ],
           "xaxis": "x",
           "y": [
            11972,
            12809
           ],
           "yaxis": "y"
          },
          {
           "alignmentgroup": "True",
           "hovertemplate": "Age group=%{x}<br>Canton=SO<br>Population=%{y}<extra></extra>",
           "ids": [
            "80+",
            "80+"
           ],
           "legendgroup": "80+",
           "marker": {
            "color": "#FF97FF",
            "pattern": {
             "shape": ""
            }
           },
           "name": "80+",
           "offsetgroup": "80+",
           "orientation": "v",
           "showlegend": true,
           "textposition": "auto",
           "type": "bar",
           "x": [
            "80+",
            "80+"
           ],
           "xaxis": "x",
           "y": [
            5913,
            9280
           ],
           "yaxis": "y"
          }
         ],
         "name": "SO"
        },
        {
         "data": [
          {
           "alignmentgroup": "True",
           "hovertemplate": "Age group=%{x}<br>Canton=SZ<br>Population=%{y}<extra></extra>",
           "ids": [
            "0 - 9",
            "0 - 9"
           ],
           "legendgroup": "0 - 9",
           "marker": {
            "color": "#636efa",
            "pattern": {
             "shape": ""
            }
           },
           "name": "0 - 9",
           "offsetgroup": "0 - 9",
           "orientation": "v",
           "showlegend": true,
           "textposition": "auto",
           "type": "bar",
           "x": [
            "0 - 9",
            "0 - 9"
           ],
           "xaxis": "x",
           "y": [
            8165,
            7681
           ],
           "yaxis": "y"
          },
          {
           "alignmentgroup": "True",
           "hovertemplate": "Age group=%{x}<br>Canton=SZ<br>Population=%{y}<extra></extra>",
           "ids": [
            "10 - 19",
            "10 - 19"
           ],
           "legendgroup": "10 - 19",
           "marker": {
            "color": "#EF553B",
            "pattern": {
             "shape": ""
            }
           },
           "name": "10 - 19",
           "offsetgroup": "10 - 19",
           "orientation": "v",
           "showlegend": true,
           "textposition": "auto",
           "type": "bar",
           "x": [
            "10 - 19",
            "10 - 19"
           ],
           "xaxis": "x",
           "y": [
            7857,
            7396
           ],
           "yaxis": "y"
          },
          {
           "alignmentgroup": "True",
           "hovertemplate": "Age group=%{x}<br>Canton=SZ<br>Population=%{y}<extra></extra>",
           "ids": [
            "20 - 29",
            "20 - 29"
           ],
           "legendgroup": "20 - 29",
           "marker": {
            "color": "#00cc96",
            "pattern": {
             "shape": ""
            }
           },
           "name": "20 - 29",
           "offsetgroup": "20 - 29",
           "orientation": "v",
           "showlegend": true,
           "textposition": "auto",
           "type": "bar",
           "x": [
            "20 - 29",
            "20 - 29"
           ],
           "xaxis": "x",
           "y": [
            9561,
            8844
           ],
           "yaxis": "y"
          },
          {
           "alignmentgroup": "True",
           "hovertemplate": "Age group=%{x}<br>Canton=SZ<br>Population=%{y}<extra></extra>",
           "ids": [
            "30 - 39",
            "30 - 39"
           ],
           "legendgroup": "30 - 39",
           "marker": {
            "color": "#ab63fa",
            "pattern": {
             "shape": ""
            }
           },
           "name": "30 - 39",
           "offsetgroup": "30 - 39",
           "orientation": "v",
           "showlegend": true,
           "textposition": "auto",
           "type": "bar",
           "x": [
            "30 - 39",
            "30 - 39"
           ],
           "xaxis": "x",
           "y": [
            11274,
            10590
           ],
           "yaxis": "y"
          },
          {
           "alignmentgroup": "True",
           "hovertemplate": "Age group=%{x}<br>Canton=SZ<br>Population=%{y}<extra></extra>",
           "ids": [
            "40 - 49",
            "40 - 49"
           ],
           "legendgroup": "40 - 49",
           "marker": {
            "color": "#FFA15A",
            "pattern": {
             "shape": ""
            }
           },
           "name": "40 - 49",
           "offsetgroup": "40 - 49",
           "orientation": "v",
           "showlegend": true,
           "textposition": "auto",
           "type": "bar",
           "x": [
            "40 - 49",
            "40 - 49"
           ],
           "xaxis": "x",
           "y": [
            11761,
            11059
           ],
           "yaxis": "y"
          },
          {
           "alignmentgroup": "True",
           "hovertemplate": "Age group=%{x}<br>Canton=SZ<br>Population=%{y}<extra></extra>",
           "ids": [
            "50 - 59",
            "50 - 59"
           ],
           "legendgroup": "50 - 59",
           "marker": {
            "color": "#19d3f3",
            "pattern": {
             "shape": ""
            }
           },
           "name": "50 - 59",
           "offsetgroup": "50 - 59",
           "orientation": "v",
           "showlegend": true,
           "textposition": "auto",
           "type": "bar",
           "x": [
            "50 - 59",
            "50 - 59"
           ],
           "xaxis": "x",
           "y": [
            14264,
            12798
           ],
           "yaxis": "y"
          },
          {
           "alignmentgroup": "True",
           "hovertemplate": "Age group=%{x}<br>Canton=SZ<br>Population=%{y}<extra></extra>",
           "ids": [
            "60 - 69",
            "60 - 69"
           ],
           "legendgroup": "60 - 69",
           "marker": {
            "color": "#FF6692",
            "pattern": {
             "shape": ""
            }
           },
           "name": "60 - 69",
           "offsetgroup": "60 - 69",
           "orientation": "v",
           "showlegend": true,
           "textposition": "auto",
           "type": "bar",
           "x": [
            "60 - 69",
            "60 - 69"
           ],
           "xaxis": "x",
           "y": [
            10306,
            9389
           ],
           "yaxis": "y"
          },
          {
           "alignmentgroup": "True",
           "hovertemplate": "Age group=%{x}<br>Canton=SZ<br>Population=%{y}<extra></extra>",
           "ids": [
            "70 - 79",
            "70 - 79"
           ],
           "legendgroup": "70 - 79",
           "marker": {
            "color": "#B6E880",
            "pattern": {
             "shape": ""
            }
           },
           "name": "70 - 79",
           "offsetgroup": "70 - 79",
           "orientation": "v",
           "showlegend": true,
           "textposition": "auto",
           "type": "bar",
           "x": [
            "70 - 79",
            "70 - 79"
           ],
           "xaxis": "x",
           "y": [
            6723,
            6761
           ],
           "yaxis": "y"
          },
          {
           "alignmentgroup": "True",
           "hovertemplate": "Age group=%{x}<br>Canton=SZ<br>Population=%{y}<extra></extra>",
           "ids": [
            "80+",
            "80+"
           ],
           "legendgroup": "80+",
           "marker": {
            "color": "#FF97FF",
            "pattern": {
             "shape": ""
            }
           },
           "name": "80+",
           "offsetgroup": "80+",
           "orientation": "v",
           "showlegend": true,
           "textposition": "auto",
           "type": "bar",
           "x": [
            "80+",
            "80+"
           ],
           "xaxis": "x",
           "y": [
            3198,
            4530
           ],
           "yaxis": "y"
          }
         ],
         "name": "SZ"
        },
        {
         "data": [
          {
           "alignmentgroup": "True",
           "hovertemplate": "Age group=%{x}<br>Canton=TG<br>Population=%{y}<extra></extra>",
           "ids": [
            "0 - 9",
            "0 - 9"
           ],
           "legendgroup": "0 - 9",
           "marker": {
            "color": "#636efa",
            "pattern": {
             "shape": ""
            }
           },
           "name": "0 - 9",
           "offsetgroup": "0 - 9",
           "orientation": "v",
           "showlegend": true,
           "textposition": "auto",
           "type": "bar",
           "x": [
            "0 - 9",
            "0 - 9"
           ],
           "xaxis": "x",
           "y": [
            15333,
            14340
           ],
           "yaxis": "y"
          },
          {
           "alignmentgroup": "True",
           "hovertemplate": "Age group=%{x}<br>Canton=TG<br>Population=%{y}<extra></extra>",
           "ids": [
            "10 - 19",
            "10 - 19"
           ],
           "legendgroup": "10 - 19",
           "marker": {
            "color": "#EF553B",
            "pattern": {
             "shape": ""
            }
           },
           "name": "10 - 19",
           "offsetgroup": "10 - 19",
           "orientation": "v",
           "showlegend": true,
           "textposition": "auto",
           "type": "bar",
           "x": [
            "10 - 19",
            "10 - 19"
           ],
           "xaxis": "x",
           "y": [
            14161,
            13334
           ],
           "yaxis": "y"
          },
          {
           "alignmentgroup": "True",
           "hovertemplate": "Age group=%{x}<br>Canton=TG<br>Population=%{y}<extra></extra>",
           "ids": [
            "20 - 29",
            "20 - 29"
           ],
           "legendgroup": "20 - 29",
           "marker": {
            "color": "#00cc96",
            "pattern": {
             "shape": ""
            }
           },
           "name": "20 - 29",
           "offsetgroup": "20 - 29",
           "orientation": "v",
           "showlegend": true,
           "textposition": "auto",
           "type": "bar",
           "x": [
            "20 - 29",
            "20 - 29"
           ],
           "xaxis": "x",
           "y": [
            17295,
            16219
           ],
           "yaxis": "y"
          },
          {
           "alignmentgroup": "True",
           "hovertemplate": "Age group=%{x}<br>Canton=TG<br>Population=%{y}<extra></extra>",
           "ids": [
            "30 - 39",
            "30 - 39"
           ],
           "legendgroup": "30 - 39",
           "marker": {
            "color": "#ab63fa",
            "pattern": {
             "shape": ""
            }
           },
           "name": "30 - 39",
           "offsetgroup": "30 - 39",
           "orientation": "v",
           "showlegend": true,
           "textposition": "auto",
           "type": "bar",
           "x": [
            "30 - 39",
            "30 - 39"
           ],
           "xaxis": "x",
           "y": [
            20686,
            19305
           ],
           "yaxis": "y"
          },
          {
           "alignmentgroup": "True",
           "hovertemplate": "Age group=%{x}<br>Canton=TG<br>Population=%{y}<extra></extra>",
           "ids": [
            "40 - 49",
            "40 - 49"
           ],
           "legendgroup": "40 - 49",
           "marker": {
            "color": "#FFA15A",
            "pattern": {
             "shape": ""
            }
           },
           "name": "40 - 49",
           "offsetgroup": "40 - 49",
           "orientation": "v",
           "showlegend": true,
           "textposition": "auto",
           "type": "bar",
           "x": [
            "40 - 49",
            "40 - 49"
           ],
           "xaxis": "x",
           "y": [
            18763,
            18045
           ],
           "yaxis": "y"
          },
          {
           "alignmentgroup": "True",
           "hovertemplate": "Age group=%{x}<br>Canton=TG<br>Population=%{y}<extra></extra>",
           "ids": [
            "50 - 59",
            "50 - 59"
           ],
           "legendgroup": "50 - 59",
           "marker": {
            "color": "#19d3f3",
            "pattern": {
             "shape": ""
            }
           },
           "name": "50 - 59",
           "offsetgroup": "50 - 59",
           "orientation": "v",
           "showlegend": true,
           "textposition": "auto",
           "type": "bar",
           "x": [
            "50 - 59",
            "50 - 59"
           ],
           "xaxis": "x",
           "y": [
            22586,
            22256
           ],
           "yaxis": "y"
          },
          {
           "alignmentgroup": "True",
           "hovertemplate": "Age group=%{x}<br>Canton=TG<br>Population=%{y}<extra></extra>",
           "ids": [
            "60 - 69",
            "60 - 69"
           ],
           "legendgroup": "60 - 69",
           "marker": {
            "color": "#FF6692",
            "pattern": {
             "shape": ""
            }
           },
           "name": "60 - 69",
           "offsetgroup": "60 - 69",
           "orientation": "v",
           "showlegend": true,
           "textposition": "auto",
           "type": "bar",
           "x": [
            "60 - 69",
            "60 - 69"
           ],
           "xaxis": "x",
           "y": [
            17171,
            16901
           ],
           "yaxis": "y"
          },
          {
           "alignmentgroup": "True",
           "hovertemplate": "Age group=%{x}<br>Canton=TG<br>Population=%{y}<extra></extra>",
           "ids": [
            "70 - 79",
            "70 - 79"
           ],
           "legendgroup": "70 - 79",
           "marker": {
            "color": "#B6E880",
            "pattern": {
             "shape": ""
            }
           },
           "name": "70 - 79",
           "offsetgroup": "70 - 79",
           "orientation": "v",
           "showlegend": true,
           "textposition": "auto",
           "type": "bar",
           "x": [
            "70 - 79",
            "70 - 79"
           ],
           "xaxis": "x",
           "y": [
            11185,
            11910
           ],
           "yaxis": "y"
          },
          {
           "alignmentgroup": "True",
           "hovertemplate": "Age group=%{x}<br>Canton=TG<br>Population=%{y}<extra></extra>",
           "ids": [
            "80+",
            "80+"
           ],
           "legendgroup": "80+",
           "marker": {
            "color": "#FF97FF",
            "pattern": {
             "shape": ""
            }
           },
           "name": "80+",
           "offsetgroup": "80+",
           "orientation": "v",
           "showlegend": true,
           "textposition": "auto",
           "type": "bar",
           "x": [
            "80+",
            "80+"
           ],
           "xaxis": "x",
           "y": [
            5347,
            8072
           ],
           "yaxis": "y"
          }
         ],
         "name": "TG"
        },
        {
         "data": [
          {
           "alignmentgroup": "True",
           "hovertemplate": "Age group=%{x}<br>Canton=TI<br>Population=%{y}<extra></extra>",
           "ids": [
            "0 - 9",
            "0 - 9"
           ],
           "legendgroup": "0 - 9",
           "marker": {
            "color": "#636efa",
            "pattern": {
             "shape": ""
            }
           },
           "name": "0 - 9",
           "offsetgroup": "0 - 9",
           "orientation": "v",
           "showlegend": true,
           "textposition": "auto",
           "type": "bar",
           "x": [
            "0 - 9",
            "0 - 9"
           ],
           "xaxis": "x",
           "y": [
            14794,
            14099
           ],
           "yaxis": "y"
          },
          {
           "alignmentgroup": "True",
           "hovertemplate": "Age group=%{x}<br>Canton=TI<br>Population=%{y}<extra></extra>",
           "ids": [
            "10 - 19",
            "10 - 19"
           ],
           "legendgroup": "10 - 19",
           "marker": {
            "color": "#EF553B",
            "pattern": {
             "shape": ""
            }
           },
           "name": "10 - 19",
           "offsetgroup": "10 - 19",
           "orientation": "v",
           "showlegend": true,
           "textposition": "auto",
           "type": "bar",
           "x": [
            "10 - 19",
            "10 - 19"
           ],
           "xaxis": "x",
           "y": [
            17235,
            16409
           ],
           "yaxis": "y"
          },
          {
           "alignmentgroup": "True",
           "hovertemplate": "Age group=%{x}<br>Canton=TI<br>Population=%{y}<extra></extra>",
           "ids": [
            "20 - 29",
            "20 - 29"
           ],
           "legendgroup": "20 - 29",
           "marker": {
            "color": "#00cc96",
            "pattern": {
             "shape": ""
            }
           },
           "name": "20 - 29",
           "offsetgroup": "20 - 29",
           "orientation": "v",
           "showlegend": true,
           "textposition": "auto",
           "type": "bar",
           "x": [
            "20 - 29",
            "20 - 29"
           ],
           "xaxis": "x",
           "y": [
            19222,
            18068
           ],
           "yaxis": "y"
          },
          {
           "alignmentgroup": "True",
           "hovertemplate": "Age group=%{x}<br>Canton=TI<br>Population=%{y}<extra></extra>",
           "ids": [
            "30 - 39",
            "30 - 39"
           ],
           "legendgroup": "30 - 39",
           "marker": {
            "color": "#ab63fa",
            "pattern": {
             "shape": ""
            }
           },
           "name": "30 - 39",
           "offsetgroup": "30 - 39",
           "orientation": "v",
           "showlegend": true,
           "textposition": "auto",
           "type": "bar",
           "x": [
            "30 - 39",
            "30 - 39"
           ],
           "xaxis": "x",
           "y": [
            19942,
            19943
           ],
           "yaxis": "y"
          },
          {
           "alignmentgroup": "True",
           "hovertemplate": "Age group=%{x}<br>Canton=TI<br>Population=%{y}<extra></extra>",
           "ids": [
            "40 - 49",
            "40 - 49"
           ],
           "legendgroup": "40 - 49",
           "marker": {
            "color": "#FFA15A",
            "pattern": {
             "shape": ""
            }
           },
           "name": "40 - 49",
           "offsetgroup": "40 - 49",
           "orientation": "v",
           "showlegend": true,
           "textposition": "auto",
           "type": "bar",
           "x": [
            "40 - 49",
            "40 - 49"
           ],
           "xaxis": "x",
           "y": [
            24075,
            25308
           ],
           "yaxis": "y"
          },
          {
           "alignmentgroup": "True",
           "hovertemplate": "Age group=%{x}<br>Canton=TI<br>Population=%{y}<extra></extra>",
           "ids": [
            "50 - 59",
            "50 - 59"
           ],
           "legendgroup": "50 - 59",
           "marker": {
            "color": "#19d3f3",
            "pattern": {
             "shape": ""
            }
           },
           "name": "50 - 59",
           "offsetgroup": "50 - 59",
           "orientation": "v",
           "showlegend": true,
           "textposition": "auto",
           "type": "bar",
           "x": [
            "50 - 59",
            "50 - 59"
           ],
           "xaxis": "x",
           "y": [
            28915,
            29111
           ],
           "yaxis": "y"
          },
          {
           "alignmentgroup": "True",
           "hovertemplate": "Age group=%{x}<br>Canton=TI<br>Population=%{y}<extra></extra>",
           "ids": [
            "60 - 69",
            "60 - 69"
           ],
           "legendgroup": "60 - 69",
           "marker": {
            "color": "#FF6692",
            "pattern": {
             "shape": ""
            }
           },
           "name": "60 - 69",
           "offsetgroup": "60 - 69",
           "orientation": "v",
           "showlegend": true,
           "textposition": "auto",
           "type": "bar",
           "x": [
            "60 - 69",
            "60 - 69"
           ],
           "xaxis": "x",
           "y": [
            20629,
            21893
           ],
           "yaxis": "y"
          },
          {
           "alignmentgroup": "True",
           "hovertemplate": "Age group=%{x}<br>Canton=TI<br>Population=%{y}<extra></extra>",
           "ids": [
            "70 - 79",
            "70 - 79"
           ],
           "legendgroup": "70 - 79",
           "marker": {
            "color": "#B6E880",
            "pattern": {
             "shape": ""
            }
           },
           "name": "70 - 79",
           "offsetgroup": "70 - 79",
           "orientation": "v",
           "showlegend": true,
           "textposition": "auto",
           "type": "bar",
           "x": [
            "70 - 79",
            "70 - 79"
           ],
           "xaxis": "x",
           "y": [
            16474,
            19613
           ],
           "yaxis": "y"
          },
          {
           "alignmentgroup": "True",
           "hovertemplate": "Age group=%{x}<br>Canton=TI<br>Population=%{y}<extra></extra>",
           "ids": [
            "80+",
            "80+"
           ],
           "legendgroup": "80+",
           "marker": {
            "color": "#FF97FF",
            "pattern": {
             "shape": ""
            }
           },
           "name": "80+",
           "offsetgroup": "80+",
           "orientation": "v",
           "showlegend": true,
           "textposition": "auto",
           "type": "bar",
           "x": [
            "80+",
            "80+"
           ],
           "xaxis": "x",
           "y": [
            9544,
            15712
           ],
           "yaxis": "y"
          }
         ],
         "name": "TI"
        },
        {
         "data": [
          {
           "alignmentgroup": "True",
           "hovertemplate": "Age group=%{x}<br>Canton=UR<br>Population=%{y}<extra></extra>",
           "ids": [
            "0 - 9",
            "0 - 9"
           ],
           "legendgroup": "0 - 9",
           "marker": {
            "color": "#636efa",
            "pattern": {
             "shape": ""
            }
           },
           "name": "0 - 9",
           "offsetgroup": "0 - 9",
           "orientation": "v",
           "showlegend": true,
           "textposition": "auto",
           "type": "bar",
           "x": [
            "0 - 9",
            "0 - 9"
           ],
           "xaxis": "x",
           "y": [
            1788,
            1743
           ],
           "yaxis": "y"
          },
          {
           "alignmentgroup": "True",
           "hovertemplate": "Age group=%{x}<br>Canton=UR<br>Population=%{y}<extra></extra>",
           "ids": [
            "10 - 19",
            "10 - 19"
           ],
           "legendgroup": "10 - 19",
           "marker": {
            "color": "#EF553B",
            "pattern": {
             "shape": ""
            }
           },
           "name": "10 - 19",
           "offsetgroup": "10 - 19",
           "orientation": "v",
           "showlegend": true,
           "textposition": "auto",
           "type": "bar",
           "x": [
            "10 - 19",
            "10 - 19"
           ],
           "xaxis": "x",
           "y": [
            2002,
            1782
           ],
           "yaxis": "y"
          },
          {
           "alignmentgroup": "True",
           "hovertemplate": "Age group=%{x}<br>Canton=UR<br>Population=%{y}<extra></extra>",
           "ids": [
            "20 - 29",
            "20 - 29"
           ],
           "legendgroup": "20 - 29",
           "marker": {
            "color": "#00cc96",
            "pattern": {
             "shape": ""
            }
           },
           "name": "20 - 29",
           "offsetgroup": "20 - 29",
           "orientation": "v",
           "showlegend": true,
           "textposition": "auto",
           "type": "bar",
           "x": [
            "20 - 29",
            "20 - 29"
           ],
           "xaxis": "x",
           "y": [
            2308,
            2118
           ],
           "yaxis": "y"
          },
          {
           "alignmentgroup": "True",
           "hovertemplate": "Age group=%{x}<br>Canton=UR<br>Population=%{y}<extra></extra>",
           "ids": [
            "30 - 39",
            "30 - 39"
           ],
           "legendgroup": "30 - 39",
           "marker": {
            "color": "#ab63fa",
            "pattern": {
             "shape": ""
            }
           },
           "name": "30 - 39",
           "offsetgroup": "30 - 39",
           "orientation": "v",
           "showlegend": true,
           "textposition": "auto",
           "type": "bar",
           "x": [
            "30 - 39",
            "30 - 39"
           ],
           "xaxis": "x",
           "y": [
            2365,
            2162
           ],
           "yaxis": "y"
          },
          {
           "alignmentgroup": "True",
           "hovertemplate": "Age group=%{x}<br>Canton=UR<br>Population=%{y}<extra></extra>",
           "ids": [
            "40 - 49",
            "40 - 49"
           ],
           "legendgroup": "40 - 49",
           "marker": {
            "color": "#FFA15A",
            "pattern": {
             "shape": ""
            }
           },
           "name": "40 - 49",
           "offsetgroup": "40 - 49",
           "orientation": "v",
           "showlegend": true,
           "textposition": "auto",
           "type": "bar",
           "x": [
            "40 - 49",
            "40 - 49"
           ],
           "xaxis": "x",
           "y": [
            2408,
            2316
           ],
           "yaxis": "y"
          },
          {
           "alignmentgroup": "True",
           "hovertemplate": "Age group=%{x}<br>Canton=UR<br>Population=%{y}<extra></extra>",
           "ids": [
            "50 - 59",
            "50 - 59"
           ],
           "legendgroup": "50 - 59",
           "marker": {
            "color": "#19d3f3",
            "pattern": {
             "shape": ""
            }
           },
           "name": "50 - 59",
           "offsetgroup": "50 - 59",
           "orientation": "v",
           "showlegend": true,
           "textposition": "auto",
           "type": "bar",
           "x": [
            "50 - 59",
            "50 - 59"
           ],
           "xaxis": "x",
           "y": [
            2854,
            2660
           ],
           "yaxis": "y"
          },
          {
           "alignmentgroup": "True",
           "hovertemplate": "Age group=%{x}<br>Canton=UR<br>Population=%{y}<extra></extra>",
           "ids": [
            "60 - 69",
            "60 - 69"
           ],
           "legendgroup": "60 - 69",
           "marker": {
            "color": "#FF6692",
            "pattern": {
             "shape": ""
            }
           },
           "name": "60 - 69",
           "offsetgroup": "60 - 69",
           "orientation": "v",
           "showlegend": true,
           "textposition": "auto",
           "type": "bar",
           "x": [
            "60 - 69",
            "60 - 69"
           ],
           "xaxis": "x",
           "y": [
            2440,
            2285
           ],
           "yaxis": "y"
          },
          {
           "alignmentgroup": "True",
           "hovertemplate": "Age group=%{x}<br>Canton=UR<br>Population=%{y}<extra></extra>",
           "ids": [
            "70 - 79",
            "70 - 79"
           ],
           "legendgroup": "70 - 79",
           "marker": {
            "color": "#B6E880",
            "pattern": {
             "shape": ""
            }
           },
           "name": "70 - 79",
           "offsetgroup": "70 - 79",
           "orientation": "v",
           "showlegend": true,
           "textposition": "auto",
           "type": "bar",
           "x": [
            "70 - 79",
            "70 - 79"
           ],
           "xaxis": "x",
           "y": [
            1743,
            1769
           ],
           "yaxis": "y"
          },
          {
           "alignmentgroup": "True",
           "hovertemplate": "Age group=%{x}<br>Canton=UR<br>Population=%{y}<extra></extra>",
           "ids": [
            "80+",
            "80+"
           ],
           "legendgroup": "80+",
           "marker": {
            "color": "#FF97FF",
            "pattern": {
             "shape": ""
            }
           },
           "name": "80+",
           "offsetgroup": "80+",
           "orientation": "v",
           "showlegend": true,
           "textposition": "auto",
           "type": "bar",
           "x": [
            "80+",
            "80+"
           ],
           "xaxis": "x",
           "y": [
            860,
            1216
           ],
           "yaxis": "y"
          }
         ],
         "name": "UR"
        },
        {
         "data": [
          {
           "alignmentgroup": "True",
           "hovertemplate": "Age group=%{x}<br>Canton=VD<br>Population=%{y}<extra></extra>",
           "ids": [
            "0 - 9",
            "0 - 9"
           ],
           "legendgroup": "0 - 9",
           "marker": {
            "color": "#636efa",
            "pattern": {
             "shape": ""
            }
           },
           "name": "0 - 9",
           "offsetgroup": "0 - 9",
           "orientation": "v",
           "showlegend": true,
           "textposition": "auto",
           "type": "bar",
           "x": [
            "0 - 9",
            "0 - 9"
           ],
           "xaxis": "x",
           "y": [
            44493,
            42603
           ],
           "yaxis": "y"
          },
          {
           "alignmentgroup": "True",
           "hovertemplate": "Age group=%{x}<br>Canton=VD<br>Population=%{y}<extra></extra>",
           "ids": [
            "10 - 19",
            "10 - 19"
           ],
           "legendgroup": "10 - 19",
           "marker": {
            "color": "#EF553B",
            "pattern": {
             "shape": ""
            }
           },
           "name": "10 - 19",
           "offsetgroup": "10 - 19",
           "orientation": "v",
           "showlegend": true,
           "textposition": "auto",
           "type": "bar",
           "x": [
            "10 - 19",
            "10 - 19"
           ],
           "xaxis": "x",
           "y": [
            46963,
            44142
           ],
           "yaxis": "y"
          },
          {
           "alignmentgroup": "True",
           "hovertemplate": "Age group=%{x}<br>Canton=VD<br>Population=%{y}<extra></extra>",
           "ids": [
            "20 - 29",
            "20 - 29"
           ],
           "legendgroup": "20 - 29",
           "marker": {
            "color": "#00cc96",
            "pattern": {
             "shape": ""
            }
           },
           "name": "20 - 29",
           "offsetgroup": "20 - 29",
           "orientation": "v",
           "showlegend": true,
           "textposition": "auto",
           "type": "bar",
           "x": [
            "20 - 29",
            "20 - 29"
           ],
           "xaxis": "x",
           "y": [
            54520,
            52102
           ],
           "yaxis": "y"
          },
          {
           "alignmentgroup": "True",
           "hovertemplate": "Age group=%{x}<br>Canton=VD<br>Population=%{y}<extra></extra>",
           "ids": [
            "30 - 39",
            "30 - 39"
           ],
           "legendgroup": "30 - 39",
           "marker": {
            "color": "#ab63fa",
            "pattern": {
             "shape": ""
            }
           },
           "name": "30 - 39",
           "offsetgroup": "30 - 39",
           "orientation": "v",
           "showlegend": true,
           "textposition": "auto",
           "type": "bar",
           "x": [
            "30 - 39",
            "30 - 39"
           ],
           "xaxis": "x",
           "y": [
            59253,
            59225
           ],
           "yaxis": "y"
          },
          {
           "alignmentgroup": "True",
           "hovertemplate": "Age group=%{x}<br>Canton=VD<br>Population=%{y}<extra></extra>",
           "ids": [
            "40 - 49",
            "40 - 49"
           ],
           "legendgroup": "40 - 49",
           "marker": {
            "color": "#FFA15A",
            "pattern": {
             "shape": ""
            }
           },
           "name": "40 - 49",
           "offsetgroup": "40 - 49",
           "orientation": "v",
           "showlegend": true,
           "textposition": "auto",
           "type": "bar",
           "x": [
            "40 - 49",
            "40 - 49"
           ],
           "xaxis": "x",
           "y": [
            58141,
            59818
           ],
           "yaxis": "y"
          },
          {
           "alignmentgroup": "True",
           "hovertemplate": "Age group=%{x}<br>Canton=VD<br>Population=%{y}<extra></extra>",
           "ids": [
            "50 - 59",
            "50 - 59"
           ],
           "legendgroup": "50 - 59",
           "marker": {
            "color": "#19d3f3",
            "pattern": {
             "shape": ""
            }
           },
           "name": "50 - 59",
           "offsetgroup": "50 - 59",
           "orientation": "v",
           "showlegend": true,
           "textposition": "auto",
           "type": "bar",
           "x": [
            "50 - 59",
            "50 - 59"
           ],
           "xaxis": "x",
           "y": [
            56976,
            57674
           ],
           "yaxis": "y"
          },
          {
           "alignmentgroup": "True",
           "hovertemplate": "Age group=%{x}<br>Canton=VD<br>Population=%{y}<extra></extra>",
           "ids": [
            "60 - 69",
            "60 - 69"
           ],
           "legendgroup": "60 - 69",
           "marker": {
            "color": "#FF6692",
            "pattern": {
             "shape": ""
            }
           },
           "name": "60 - 69",
           "offsetgroup": "60 - 69",
           "orientation": "v",
           "showlegend": true,
           "textposition": "auto",
           "type": "bar",
           "x": [
            "60 - 69",
            "60 - 69"
           ],
           "xaxis": "x",
           "y": [
            38235,
            40740
           ],
           "yaxis": "y"
          },
          {
           "alignmentgroup": "True",
           "hovertemplate": "Age group=%{x}<br>Canton=VD<br>Population=%{y}<extra></extra>",
           "ids": [
            "70 - 79",
            "70 - 79"
           ],
           "legendgroup": "70 - 79",
           "marker": {
            "color": "#B6E880",
            "pattern": {
             "shape": ""
            }
           },
           "name": "70 - 79",
           "offsetgroup": "70 - 79",
           "orientation": "v",
           "showlegend": true,
           "textposition": "auto",
           "type": "bar",
           "x": [
            "70 - 79",
            "70 - 79"
           ],
           "xaxis": "x",
           "y": [
            27461,
            34046
           ],
           "yaxis": "y"
          },
          {
           "alignmentgroup": "True",
           "hovertemplate": "Age group=%{x}<br>Canton=VD<br>Population=%{y}<extra></extra>",
           "ids": [
            "80+",
            "80+"
           ],
           "legendgroup": "80+",
           "marker": {
            "color": "#FF97FF",
            "pattern": {
             "shape": ""
            }
           },
           "name": "80+",
           "offsetgroup": "80+",
           "orientation": "v",
           "showlegend": true,
           "textposition": "auto",
           "type": "bar",
           "x": [
            "80+",
            "80+"
           ],
           "xaxis": "x",
           "y": [
            14175,
            24195
           ],
           "yaxis": "y"
          }
         ],
         "name": "VD"
        },
        {
         "data": [
          {
           "alignmentgroup": "True",
           "hovertemplate": "Age group=%{x}<br>Canton=VS<br>Population=%{y}<extra></extra>",
           "ids": [
            "0 - 9",
            "0 - 9"
           ],
           "legendgroup": "0 - 9",
           "marker": {
            "color": "#636efa",
            "pattern": {
             "shape": ""
            }
           },
           "name": "0 - 9",
           "offsetgroup": "0 - 9",
           "orientation": "v",
           "showlegend": true,
           "textposition": "auto",
           "type": "bar",
           "x": [
            "0 - 9",
            "0 - 9"
           ],
           "xaxis": "x",
           "y": [
            17035,
            16431
           ],
           "yaxis": "y"
          },
          {
           "alignmentgroup": "True",
           "hovertemplate": "Age group=%{x}<br>Canton=VS<br>Population=%{y}<extra></extra>",
           "ids": [
            "10 - 19",
            "10 - 19"
           ],
           "legendgroup": "10 - 19",
           "marker": {
            "color": "#EF553B",
            "pattern": {
             "shape": ""
            }
           },
           "name": "10 - 19",
           "offsetgroup": "10 - 19",
           "orientation": "v",
           "showlegend": true,
           "textposition": "auto",
           "type": "bar",
           "x": [
            "10 - 19",
            "10 - 19"
           ],
           "xaxis": "x",
           "y": [
            17654,
            16648
           ],
           "yaxis": "y"
          },
          {
           "alignmentgroup": "True",
           "hovertemplate": "Age group=%{x}<br>Canton=VS<br>Population=%{y}<extra></extra>",
           "ids": [
            "20 - 29",
            "20 - 29"
           ],
           "legendgroup": "20 - 29",
           "marker": {
            "color": "#00cc96",
            "pattern": {
             "shape": ""
            }
           },
           "name": "20 - 29",
           "offsetgroup": "20 - 29",
           "orientation": "v",
           "showlegend": true,
           "textposition": "auto",
           "type": "bar",
           "x": [
            "20 - 29",
            "20 - 29"
           ],
           "xaxis": "x",
           "y": [
            21795,
            20743
           ],
           "yaxis": "y"
          },
          {
           "alignmentgroup": "True",
           "hovertemplate": "Age group=%{x}<br>Canton=VS<br>Population=%{y}<extra></extra>",
           "ids": [
            "30 - 39",
            "30 - 39"
           ],
           "legendgroup": "30 - 39",
           "marker": {
            "color": "#ab63fa",
            "pattern": {
             "shape": ""
            }
           },
           "name": "30 - 39",
           "offsetgroup": "30 - 39",
           "orientation": "v",
           "showlegend": true,
           "textposition": "auto",
           "type": "bar",
           "x": [
            "30 - 39",
            "30 - 39"
           ],
           "xaxis": "x",
           "y": [
            23884,
            22985
           ],
           "yaxis": "y"
          },
          {
           "alignmentgroup": "True",
           "hovertemplate": "Age group=%{x}<br>Canton=VS<br>Population=%{y}<extra></extra>",
           "ids": [
            "40 - 49",
            "40 - 49"
           ],
           "legendgroup": "40 - 49",
           "marker": {
            "color": "#FFA15A",
            "pattern": {
             "shape": ""
            }
           },
           "name": "40 - 49",
           "offsetgroup": "40 - 49",
           "orientation": "v",
           "showlegend": true,
           "textposition": "auto",
           "type": "bar",
           "x": [
            "40 - 49",
            "40 - 49"
           ],
           "xaxis": "x",
           "y": [
            23203,
            22640
           ],
           "yaxis": "y"
          },
          {
           "alignmentgroup": "True",
           "hovertemplate": "Age group=%{x}<br>Canton=VS<br>Population=%{y}<extra></extra>",
           "ids": [
            "50 - 59",
            "50 - 59"
           ],
           "legendgroup": "50 - 59",
           "marker": {
            "color": "#19d3f3",
            "pattern": {
             "shape": ""
            }
           },
           "name": "50 - 59",
           "offsetgroup": "50 - 59",
           "orientation": "v",
           "showlegend": true,
           "textposition": "auto",
           "type": "bar",
           "x": [
            "50 - 59",
            "50 - 59"
           ],
           "xaxis": "x",
           "y": [
            26434,
            26386
           ],
           "yaxis": "y"
          },
          {
           "alignmentgroup": "True",
           "hovertemplate": "Age group=%{x}<br>Canton=VS<br>Population=%{y}<extra></extra>",
           "ids": [
            "60 - 69",
            "60 - 69"
           ],
           "legendgroup": "60 - 69",
           "marker": {
            "color": "#FF6692",
            "pattern": {
             "shape": ""
            }
           },
           "name": "60 - 69",
           "offsetgroup": "60 - 69",
           "orientation": "v",
           "showlegend": true,
           "textposition": "auto",
           "type": "bar",
           "x": [
            "60 - 69",
            "60 - 69"
           ],
           "xaxis": "x",
           "y": [
            20392,
            21353
           ],
           "yaxis": "y"
          },
          {
           "alignmentgroup": "True",
           "hovertemplate": "Age group=%{x}<br>Canton=VS<br>Population=%{y}<extra></extra>",
           "ids": [
            "70 - 79",
            "70 - 79"
           ],
           "legendgroup": "70 - 79",
           "marker": {
            "color": "#B6E880",
            "pattern": {
             "shape": ""
            }
           },
           "name": "70 - 79",
           "offsetgroup": "70 - 79",
           "orientation": "v",
           "showlegend": true,
           "textposition": "auto",
           "type": "bar",
           "x": [
            "70 - 79",
            "70 - 79"
           ],
           "xaxis": "x",
           "y": [
            15391,
            17359
           ],
           "yaxis": "y"
          },
          {
           "alignmentgroup": "True",
           "hovertemplate": "Age group=%{x}<br>Canton=VS<br>Population=%{y}<extra></extra>",
           "ids": [
            "80+",
            "80+"
           ],
           "legendgroup": "80+",
           "marker": {
            "color": "#FF97FF",
            "pattern": {
             "shape": ""
            }
           },
           "name": "80+",
           "offsetgroup": "80+",
           "orientation": "v",
           "showlegend": true,
           "textposition": "auto",
           "type": "bar",
           "x": [
            "80+",
            "80+"
           ],
           "xaxis": "x",
           "y": [
            7167,
            11003
           ],
           "yaxis": "y"
          }
         ],
         "name": "VS"
        },
        {
         "data": [
          {
           "alignmentgroup": "True",
           "hovertemplate": "Age group=%{x}<br>Canton=ZG<br>Population=%{y}<extra></extra>",
           "ids": [
            "0 - 9",
            "0 - 9"
           ],
           "legendgroup": "0 - 9",
           "marker": {
            "color": "#636efa",
            "pattern": {
             "shape": ""
            }
           },
           "name": "0 - 9",
           "offsetgroup": "0 - 9",
           "orientation": "v",
           "showlegend": true,
           "textposition": "auto",
           "type": "bar",
           "x": [
            "0 - 9",
            "0 - 9"
           ],
           "xaxis": "x",
           "y": [
            6768,
            6426
           ],
           "yaxis": "y"
          },
          {
           "alignmentgroup": "True",
           "hovertemplate": "Age group=%{x}<br>Canton=ZG<br>Population=%{y}<extra></extra>",
           "ids": [
            "10 - 19",
            "10 - 19"
           ],
           "legendgroup": "10 - 19",
           "marker": {
            "color": "#EF553B",
            "pattern": {
             "shape": ""
            }
           },
           "name": "10 - 19",
           "offsetgroup": "10 - 19",
           "orientation": "v",
           "showlegend": true,
           "textposition": "auto",
           "type": "bar",
           "x": [
            "10 - 19",
            "10 - 19"
           ],
           "xaxis": "x",
           "y": [
            6560,
            6236
           ],
           "yaxis": "y"
          },
          {
           "alignmentgroup": "True",
           "hovertemplate": "Age group=%{x}<br>Canton=ZG<br>Population=%{y}<extra></extra>",
           "ids": [
            "20 - 29",
            "20 - 29"
           ],
           "legendgroup": "20 - 29",
           "marker": {
            "color": "#00cc96",
            "pattern": {
             "shape": ""
            }
           },
           "name": "20 - 29",
           "offsetgroup": "20 - 29",
           "orientation": "v",
           "showlegend": true,
           "textposition": "auto",
           "type": "bar",
           "x": [
            "20 - 29",
            "20 - 29"
           ],
           "xaxis": "x",
           "y": [
            6874,
            6442
           ],
           "yaxis": "y"
          },
          {
           "alignmentgroup": "True",
           "hovertemplate": "Age group=%{x}<br>Canton=ZG<br>Population=%{y}<extra></extra>",
           "ids": [
            "30 - 39",
            "30 - 39"
           ],
           "legendgroup": "30 - 39",
           "marker": {
            "color": "#ab63fa",
            "pattern": {
             "shape": ""
            }
           },
           "name": "30 - 39",
           "offsetgroup": "30 - 39",
           "orientation": "v",
           "showlegend": true,
           "textposition": "auto",
           "type": "bar",
           "x": [
            "30 - 39",
            "30 - 39"
           ],
           "xaxis": "x",
           "y": [
            9389,
            9094
           ],
           "yaxis": "y"
          },
          {
           "alignmentgroup": "True",
           "hovertemplate": "Age group=%{x}<br>Canton=ZG<br>Population=%{y}<extra></extra>",
           "ids": [
            "40 - 49",
            "40 - 49"
           ],
           "legendgroup": "40 - 49",
           "marker": {
            "color": "#FFA15A",
            "pattern": {
             "shape": ""
            }
           },
           "name": "40 - 49",
           "offsetgroup": "40 - 49",
           "orientation": "v",
           "showlegend": true,
           "textposition": "auto",
           "type": "bar",
           "x": [
            "40 - 49",
            "40 - 49"
           ],
           "xaxis": "x",
           "y": [
            9914,
            9549
           ],
           "yaxis": "y"
          },
          {
           "alignmentgroup": "True",
           "hovertemplate": "Age group=%{x}<br>Canton=ZG<br>Population=%{y}<extra></extra>",
           "ids": [
            "50 - 59",
            "50 - 59"
           ],
           "legendgroup": "50 - 59",
           "marker": {
            "color": "#19d3f3",
            "pattern": {
             "shape": ""
            }
           },
           "name": "50 - 59",
           "offsetgroup": "50 - 59",
           "orientation": "v",
           "showlegend": true,
           "textposition": "auto",
           "type": "bar",
           "x": [
            "50 - 59",
            "50 - 59"
           ],
           "xaxis": "x",
           "y": [
            10989,
            9977
           ],
           "yaxis": "y"
          },
          {
           "alignmentgroup": "True",
           "hovertemplate": "Age group=%{x}<br>Canton=ZG<br>Population=%{y}<extra></extra>",
           "ids": [
            "60 - 69",
            "60 - 69"
           ],
           "legendgroup": "60 - 69",
           "marker": {
            "color": "#FF6692",
            "pattern": {
             "shape": ""
            }
           },
           "name": "60 - 69",
           "offsetgroup": "60 - 69",
           "orientation": "v",
           "showlegend": true,
           "textposition": "auto",
           "type": "bar",
           "x": [
            "60 - 69",
            "60 - 69"
           ],
           "xaxis": "x",
           "y": [
            7309,
            6918
           ],
           "yaxis": "y"
          },
          {
           "alignmentgroup": "True",
           "hovertemplate": "Age group=%{x}<br>Canton=ZG<br>Population=%{y}<extra></extra>",
           "ids": [
            "70 - 79",
            "70 - 79"
           ],
           "legendgroup": "70 - 79",
           "marker": {
            "color": "#B6E880",
            "pattern": {
             "shape": ""
            }
           },
           "name": "70 - 79",
           "offsetgroup": "70 - 79",
           "orientation": "v",
           "showlegend": true,
           "textposition": "auto",
           "type": "bar",
           "x": [
            "70 - 79",
            "70 - 79"
           ],
           "xaxis": "x",
           "y": [
            4998,
            5300
           ],
           "yaxis": "y"
          },
          {
           "alignmentgroup": "True",
           "hovertemplate": "Age group=%{x}<br>Canton=ZG<br>Population=%{y}<extra></extra>",
           "ids": [
            "80+",
            "80+"
           ],
           "legendgroup": "80+",
           "marker": {
            "color": "#FF97FF",
            "pattern": {
             "shape": ""
            }
           },
           "name": "80+",
           "offsetgroup": "80+",
           "orientation": "v",
           "showlegend": true,
           "textposition": "auto",
           "type": "bar",
           "x": [
            "80+",
            "80+"
           ],
           "xaxis": "x",
           "y": [
            2426,
            3625
           ],
           "yaxis": "y"
          }
         ],
         "name": "ZG"
        },
        {
         "data": [
          {
           "alignmentgroup": "True",
           "hovertemplate": "Age group=%{x}<br>Canton=ZH<br>Population=%{y}<extra></extra>",
           "ids": [
            "0 - 9",
            "0 - 9"
           ],
           "legendgroup": "0 - 9",
           "marker": {
            "color": "#636efa",
            "pattern": {
             "shape": ""
            }
           },
           "name": "0 - 9",
           "offsetgroup": "0 - 9",
           "orientation": "v",
           "showlegend": true,
           "textposition": "auto",
           "type": "bar",
           "x": [
            "0 - 9",
            "0 - 9"
           ],
           "xaxis": "x",
           "y": [
            83884,
            79562
           ],
           "yaxis": "y"
          },
          {
           "alignmentgroup": "True",
           "hovertemplate": "Age group=%{x}<br>Canton=ZH<br>Population=%{y}<extra></extra>",
           "ids": [
            "10 - 19",
            "10 - 19"
           ],
           "legendgroup": "10 - 19",
           "marker": {
            "color": "#EF553B",
            "pattern": {
             "shape": ""
            }
           },
           "name": "10 - 19",
           "offsetgroup": "10 - 19",
           "orientation": "v",
           "showlegend": true,
           "textposition": "auto",
           "type": "bar",
           "x": [
            "10 - 19",
            "10 - 19"
           ],
           "xaxis": "x",
           "y": [
            74061,
            69562
           ],
           "yaxis": "y"
          },
          {
           "alignmentgroup": "True",
           "hovertemplate": "Age group=%{x}<br>Canton=ZH<br>Population=%{y}<extra></extra>",
           "ids": [
            "20 - 29",
            "20 - 29"
           ],
           "legendgroup": "20 - 29",
           "marker": {
            "color": "#00cc96",
            "pattern": {
             "shape": ""
            }
           },
           "name": "20 - 29",
           "offsetgroup": "20 - 29",
           "orientation": "v",
           "showlegend": true,
           "textposition": "auto",
           "type": "bar",
           "x": [
            "20 - 29",
            "20 - 29"
           ],
           "xaxis": "x",
           "y": [
            95413,
            90891
           ],
           "yaxis": "y"
          },
          {
           "alignmentgroup": "True",
           "hovertemplate": "Age group=%{x}<br>Canton=ZH<br>Population=%{y}<extra></extra>",
           "ids": [
            "30 - 39",
            "30 - 39"
           ],
           "legendgroup": "30 - 39",
           "marker": {
            "color": "#ab63fa",
            "pattern": {
             "shape": ""
            }
           },
           "name": "30 - 39",
           "offsetgroup": "30 - 39",
           "orientation": "v",
           "showlegend": true,
           "textposition": "auto",
           "type": "bar",
           "x": [
            "30 - 39",
            "30 - 39"
           ],
           "xaxis": "x",
           "y": [
            129509,
            126244
           ],
           "yaxis": "y"
          },
          {
           "alignmentgroup": "True",
           "hovertemplate": "Age group=%{x}<br>Canton=ZH<br>Population=%{y}<extra></extra>",
           "ids": [
            "40 - 49",
            "40 - 49"
           ],
           "legendgroup": "40 - 49",
           "marker": {
            "color": "#FFA15A",
            "pattern": {
             "shape": ""
            }
           },
           "name": "40 - 49",
           "offsetgroup": "40 - 49",
           "orientation": "v",
           "showlegend": true,
           "textposition": "auto",
           "type": "bar",
           "x": [
            "40 - 49",
            "40 - 49"
           ],
           "xaxis": "x",
           "y": [
            117497,
            113149
           ],
           "yaxis": "y"
          },
          {
           "alignmentgroup": "True",
           "hovertemplate": "Age group=%{x}<br>Canton=ZH<br>Population=%{y}<extra></extra>",
           "ids": [
            "50 - 59",
            "50 - 59"
           ],
           "legendgroup": "50 - 59",
           "marker": {
            "color": "#19d3f3",
            "pattern": {
             "shape": ""
            }
           },
           "name": "50 - 59",
           "offsetgroup": "50 - 59",
           "orientation": "v",
           "showlegend": true,
           "textposition": "auto",
           "type": "bar",
           "x": [
            "50 - 59",
            "50 - 59"
           ],
           "xaxis": "x",
           "y": [
            114265,
            108798
           ],
           "yaxis": "y"
          },
          {
           "alignmentgroup": "True",
           "hovertemplate": "Age group=%{x}<br>Canton=ZH<br>Population=%{y}<extra></extra>",
           "ids": [
            "60 - 69",
            "60 - 69"
           ],
           "legendgroup": "60 - 69",
           "marker": {
            "color": "#FF6692",
            "pattern": {
             "shape": ""
            }
           },
           "name": "60 - 69",
           "offsetgroup": "60 - 69",
           "orientation": "v",
           "showlegend": true,
           "textposition": "auto",
           "type": "bar",
           "x": [
            "60 - 69",
            "60 - 69"
           ],
           "xaxis": "x",
           "y": [
            74674,
            79288
           ],
           "yaxis": "y"
          },
          {
           "alignmentgroup": "True",
           "hovertemplate": "Age group=%{x}<br>Canton=ZH<br>Population=%{y}<extra></extra>",
           "ids": [
            "70 - 79",
            "70 - 79"
           ],
           "legendgroup": "70 - 79",
           "marker": {
            "color": "#B6E880",
            "pattern": {
             "shape": ""
            }
           },
           "name": "70 - 79",
           "offsetgroup": "70 - 79",
           "orientation": "v",
           "showlegend": true,
           "textposition": "auto",
           "type": "bar",
           "x": [
            "70 - 79",
            "70 - 79"
           ],
           "xaxis": "x",
           "y": [
            55346,
            64572
           ],
           "yaxis": "y"
          },
          {
           "alignmentgroup": "True",
           "hovertemplate": "Age group=%{x}<br>Canton=ZH<br>Population=%{y}<extra></extra>",
           "ids": [
            "80+",
            "80+"
           ],
           "legendgroup": "80+",
           "marker": {
            "color": "#FF97FF",
            "pattern": {
             "shape": ""
            }
           },
           "name": "80+",
           "offsetgroup": "80+",
           "orientation": "v",
           "showlegend": true,
           "textposition": "auto",
           "type": "bar",
           "x": [
            "80+",
            "80+"
           ],
           "xaxis": "x",
           "y": [
            29650,
            47058
           ],
           "yaxis": "y"
          }
         ],
         "name": "ZH"
        }
       ],
       "layout": {
        "barmode": "relative",
        "legend": {
         "title": {
          "text": "Age group"
         },
         "tracegroupgap": 0
        },
        "sliders": [
         {
          "active": 0,
          "currentvalue": {
           "prefix": "Canton="
          },
          "len": 0.9,
          "pad": {
           "b": 10,
           "t": 60
          },
          "steps": [
           {
            "args": [
             [
              "AG"
             ],
             {
              "frame": {
               "duration": 0,
               "redraw": true
              },
              "fromcurrent": true,
              "mode": "immediate",
              "transition": {
               "duration": 0,
               "easing": "linear"
              }
             }
            ],
            "label": "AG",
            "method": "animate"
           },
           {
            "args": [
             [
              "AI"
             ],
             {
              "frame": {
               "duration": 0,
               "redraw": true
              },
              "fromcurrent": true,
              "mode": "immediate",
              "transition": {
               "duration": 0,
               "easing": "linear"
              }
             }
            ],
            "label": "AI",
            "method": "animate"
           },
           {
            "args": [
             [
              "AR"
             ],
             {
              "frame": {
               "duration": 0,
               "redraw": true
              },
              "fromcurrent": true,
              "mode": "immediate",
              "transition": {
               "duration": 0,
               "easing": "linear"
              }
             }
            ],
            "label": "AR",
            "method": "animate"
           },
           {
            "args": [
             [
              "BE"
             ],
             {
              "frame": {
               "duration": 0,
               "redraw": true
              },
              "fromcurrent": true,
              "mode": "immediate",
              "transition": {
               "duration": 0,
               "easing": "linear"
              }
             }
            ],
            "label": "BE",
            "method": "animate"
           },
           {
            "args": [
             [
              "BL"
             ],
             {
              "frame": {
               "duration": 0,
               "redraw": true
              },
              "fromcurrent": true,
              "mode": "immediate",
              "transition": {
               "duration": 0,
               "easing": "linear"
              }
             }
            ],
            "label": "BL",
            "method": "animate"
           },
           {
            "args": [
             [
              "BS"
             ],
             {
              "frame": {
               "duration": 0,
               "redraw": true
              },
              "fromcurrent": true,
              "mode": "immediate",
              "transition": {
               "duration": 0,
               "easing": "linear"
              }
             }
            ],
            "label": "BS",
            "method": "animate"
           },
           {
            "args": [
             [
              "FR"
             ],
             {
              "frame": {
               "duration": 0,
               "redraw": true
              },
              "fromcurrent": true,
              "mode": "immediate",
              "transition": {
               "duration": 0,
               "easing": "linear"
              }
             }
            ],
            "label": "FR",
            "method": "animate"
           },
           {
            "args": [
             [
              "GE"
             ],
             {
              "frame": {
               "duration": 0,
               "redraw": true
              },
              "fromcurrent": true,
              "mode": "immediate",
              "transition": {
               "duration": 0,
               "easing": "linear"
              }
             }
            ],
            "label": "GE",
            "method": "animate"
           },
           {
            "args": [
             [
              "GL"
             ],
             {
              "frame": {
               "duration": 0,
               "redraw": true
              },
              "fromcurrent": true,
              "mode": "immediate",
              "transition": {
               "duration": 0,
               "easing": "linear"
              }
             }
            ],
            "label": "GL",
            "method": "animate"
           },
           {
            "args": [
             [
              "GR"
             ],
             {
              "frame": {
               "duration": 0,
               "redraw": true
              },
              "fromcurrent": true,
              "mode": "immediate",
              "transition": {
               "duration": 0,
               "easing": "linear"
              }
             }
            ],
            "label": "GR",
            "method": "animate"
           },
           {
            "args": [
             [
              "JU"
             ],
             {
              "frame": {
               "duration": 0,
               "redraw": true
              },
              "fromcurrent": true,
              "mode": "immediate",
              "transition": {
               "duration": 0,
               "easing": "linear"
              }
             }
            ],
            "label": "JU",
            "method": "animate"
           },
           {
            "args": [
             [
              "LU"
             ],
             {
              "frame": {
               "duration": 0,
               "redraw": true
              },
              "fromcurrent": true,
              "mode": "immediate",
              "transition": {
               "duration": 0,
               "easing": "linear"
              }
             }
            ],
            "label": "LU",
            "method": "animate"
           },
           {
            "args": [
             [
              "NE"
             ],
             {
              "frame": {
               "duration": 0,
               "redraw": true
              },
              "fromcurrent": true,
              "mode": "immediate",
              "transition": {
               "duration": 0,
               "easing": "linear"
              }
             }
            ],
            "label": "NE",
            "method": "animate"
           },
           {
            "args": [
             [
              "NW"
             ],
             {
              "frame": {
               "duration": 0,
               "redraw": true
              },
              "fromcurrent": true,
              "mode": "immediate",
              "transition": {
               "duration": 0,
               "easing": "linear"
              }
             }
            ],
            "label": "NW",
            "method": "animate"
           },
           {
            "args": [
             [
              "OW"
             ],
             {
              "frame": {
               "duration": 0,
               "redraw": true
              },
              "fromcurrent": true,
              "mode": "immediate",
              "transition": {
               "duration": 0,
               "easing": "linear"
              }
             }
            ],
            "label": "OW",
            "method": "animate"
           },
           {
            "args": [
             [
              "SG"
             ],
             {
              "frame": {
               "duration": 0,
               "redraw": true
              },
              "fromcurrent": true,
              "mode": "immediate",
              "transition": {
               "duration": 0,
               "easing": "linear"
              }
             }
            ],
            "label": "SG",
            "method": "animate"
           },
           {
            "args": [
             [
              "SH"
             ],
             {
              "frame": {
               "duration": 0,
               "redraw": true
              },
              "fromcurrent": true,
              "mode": "immediate",
              "transition": {
               "duration": 0,
               "easing": "linear"
              }
             }
            ],
            "label": "SH",
            "method": "animate"
           },
           {
            "args": [
             [
              "SO"
             ],
             {
              "frame": {
               "duration": 0,
               "redraw": true
              },
              "fromcurrent": true,
              "mode": "immediate",
              "transition": {
               "duration": 0,
               "easing": "linear"
              }
             }
            ],
            "label": "SO",
            "method": "animate"
           },
           {
            "args": [
             [
              "SZ"
             ],
             {
              "frame": {
               "duration": 0,
               "redraw": true
              },
              "fromcurrent": true,
              "mode": "immediate",
              "transition": {
               "duration": 0,
               "easing": "linear"
              }
             }
            ],
            "label": "SZ",
            "method": "animate"
           },
           {
            "args": [
             [
              "TG"
             ],
             {
              "frame": {
               "duration": 0,
               "redraw": true
              },
              "fromcurrent": true,
              "mode": "immediate",
              "transition": {
               "duration": 0,
               "easing": "linear"
              }
             }
            ],
            "label": "TG",
            "method": "animate"
           },
           {
            "args": [
             [
              "TI"
             ],
             {
              "frame": {
               "duration": 0,
               "redraw": true
              },
              "fromcurrent": true,
              "mode": "immediate",
              "transition": {
               "duration": 0,
               "easing": "linear"
              }
             }
            ],
            "label": "TI",
            "method": "animate"
           },
           {
            "args": [
             [
              "UR"
             ],
             {
              "frame": {
               "duration": 0,
               "redraw": true
              },
              "fromcurrent": true,
              "mode": "immediate",
              "transition": {
               "duration": 0,
               "easing": "linear"
              }
             }
            ],
            "label": "UR",
            "method": "animate"
           },
           {
            "args": [
             [
              "VD"
             ],
             {
              "frame": {
               "duration": 0,
               "redraw": true
              },
              "fromcurrent": true,
              "mode": "immediate",
              "transition": {
               "duration": 0,
               "easing": "linear"
              }
             }
            ],
            "label": "VD",
            "method": "animate"
           },
           {
            "args": [
             [
              "VS"
             ],
             {
              "frame": {
               "duration": 0,
               "redraw": true
              },
              "fromcurrent": true,
              "mode": "immediate",
              "transition": {
               "duration": 0,
               "easing": "linear"
              }
             }
            ],
            "label": "VS",
            "method": "animate"
           },
           {
            "args": [
             [
              "ZG"
             ],
             {
              "frame": {
               "duration": 0,
               "redraw": true
              },
              "fromcurrent": true,
              "mode": "immediate",
              "transition": {
               "duration": 0,
               "easing": "linear"
              }
             }
            ],
            "label": "ZG",
            "method": "animate"
           },
           {
            "args": [
             [
              "ZH"
             ],
             {
              "frame": {
               "duration": 0,
               "redraw": true
              },
              "fromcurrent": true,
              "mode": "immediate",
              "transition": {
               "duration": 0,
               "easing": "linear"
              }
             }
            ],
            "label": "ZH",
            "method": "animate"
           }
          ],
          "x": 0.1,
          "xanchor": "left",
          "y": 0,
          "yanchor": "top"
         }
        ],
        "template": {
         "data": {
          "bar": [
           {
            "error_x": {
             "color": "#2a3f5f"
            },
            "error_y": {
             "color": "#2a3f5f"
            },
            "marker": {
             "line": {
              "color": "#E5ECF6",
              "width": 0.5
             },
             "pattern": {
              "fillmode": "overlay",
              "size": 10,
              "solidity": 0.2
             }
            },
            "type": "bar"
           }
          ],
          "barpolar": [
           {
            "marker": {
             "line": {
              "color": "#E5ECF6",
              "width": 0.5
             },
             "pattern": {
              "fillmode": "overlay",
              "size": 10,
              "solidity": 0.2
             }
            },
            "type": "barpolar"
           }
          ],
          "carpet": [
           {
            "aaxis": {
             "endlinecolor": "#2a3f5f",
             "gridcolor": "white",
             "linecolor": "white",
             "minorgridcolor": "white",
             "startlinecolor": "#2a3f5f"
            },
            "baxis": {
             "endlinecolor": "#2a3f5f",
             "gridcolor": "white",
             "linecolor": "white",
             "minorgridcolor": "white",
             "startlinecolor": "#2a3f5f"
            },
            "type": "carpet"
           }
          ],
          "choropleth": [
           {
            "colorbar": {
             "outlinewidth": 0,
             "ticks": ""
            },
            "type": "choropleth"
           }
          ],
          "contour": [
           {
            "colorbar": {
             "outlinewidth": 0,
             "ticks": ""
            },
            "colorscale": [
             [
              0,
              "#0d0887"
             ],
             [
              0.1111111111111111,
              "#46039f"
             ],
             [
              0.2222222222222222,
              "#7201a8"
             ],
             [
              0.3333333333333333,
              "#9c179e"
             ],
             [
              0.4444444444444444,
              "#bd3786"
             ],
             [
              0.5555555555555556,
              "#d8576b"
             ],
             [
              0.6666666666666666,
              "#ed7953"
             ],
             [
              0.7777777777777778,
              "#fb9f3a"
             ],
             [
              0.8888888888888888,
              "#fdca26"
             ],
             [
              1,
              "#f0f921"
             ]
            ],
            "type": "contour"
           }
          ],
          "contourcarpet": [
           {
            "colorbar": {
             "outlinewidth": 0,
             "ticks": ""
            },
            "type": "contourcarpet"
           }
          ],
          "heatmap": [
           {
            "colorbar": {
             "outlinewidth": 0,
             "ticks": ""
            },
            "colorscale": [
             [
              0,
              "#0d0887"
             ],
             [
              0.1111111111111111,
              "#46039f"
             ],
             [
              0.2222222222222222,
              "#7201a8"
             ],
             [
              0.3333333333333333,
              "#9c179e"
             ],
             [
              0.4444444444444444,
              "#bd3786"
             ],
             [
              0.5555555555555556,
              "#d8576b"
             ],
             [
              0.6666666666666666,
              "#ed7953"
             ],
             [
              0.7777777777777778,
              "#fb9f3a"
             ],
             [
              0.8888888888888888,
              "#fdca26"
             ],
             [
              1,
              "#f0f921"
             ]
            ],
            "type": "heatmap"
           }
          ],
          "heatmapgl": [
           {
            "colorbar": {
             "outlinewidth": 0,
             "ticks": ""
            },
            "colorscale": [
             [
              0,
              "#0d0887"
             ],
             [
              0.1111111111111111,
              "#46039f"
             ],
             [
              0.2222222222222222,
              "#7201a8"
             ],
             [
              0.3333333333333333,
              "#9c179e"
             ],
             [
              0.4444444444444444,
              "#bd3786"
             ],
             [
              0.5555555555555556,
              "#d8576b"
             ],
             [
              0.6666666666666666,
              "#ed7953"
             ],
             [
              0.7777777777777778,
              "#fb9f3a"
             ],
             [
              0.8888888888888888,
              "#fdca26"
             ],
             [
              1,
              "#f0f921"
             ]
            ],
            "type": "heatmapgl"
           }
          ],
          "histogram": [
           {
            "marker": {
             "pattern": {
              "fillmode": "overlay",
              "size": 10,
              "solidity": 0.2
             }
            },
            "type": "histogram"
           }
          ],
          "histogram2d": [
           {
            "colorbar": {
             "outlinewidth": 0,
             "ticks": ""
            },
            "colorscale": [
             [
              0,
              "#0d0887"
             ],
             [
              0.1111111111111111,
              "#46039f"
             ],
             [
              0.2222222222222222,
              "#7201a8"
             ],
             [
              0.3333333333333333,
              "#9c179e"
             ],
             [
              0.4444444444444444,
              "#bd3786"
             ],
             [
              0.5555555555555556,
              "#d8576b"
             ],
             [
              0.6666666666666666,
              "#ed7953"
             ],
             [
              0.7777777777777778,
              "#fb9f3a"
             ],
             [
              0.8888888888888888,
              "#fdca26"
             ],
             [
              1,
              "#f0f921"
             ]
            ],
            "type": "histogram2d"
           }
          ],
          "histogram2dcontour": [
           {
            "colorbar": {
             "outlinewidth": 0,
             "ticks": ""
            },
            "colorscale": [
             [
              0,
              "#0d0887"
             ],
             [
              0.1111111111111111,
              "#46039f"
             ],
             [
              0.2222222222222222,
              "#7201a8"
             ],
             [
              0.3333333333333333,
              "#9c179e"
             ],
             [
              0.4444444444444444,
              "#bd3786"
             ],
             [
              0.5555555555555556,
              "#d8576b"
             ],
             [
              0.6666666666666666,
              "#ed7953"
             ],
             [
              0.7777777777777778,
              "#fb9f3a"
             ],
             [
              0.8888888888888888,
              "#fdca26"
             ],
             [
              1,
              "#f0f921"
             ]
            ],
            "type": "histogram2dcontour"
           }
          ],
          "mesh3d": [
           {
            "colorbar": {
             "outlinewidth": 0,
             "ticks": ""
            },
            "type": "mesh3d"
           }
          ],
          "parcoords": [
           {
            "line": {
             "colorbar": {
              "outlinewidth": 0,
              "ticks": ""
             }
            },
            "type": "parcoords"
           }
          ],
          "pie": [
           {
            "automargin": true,
            "type": "pie"
           }
          ],
          "scatter": [
           {
            "fillpattern": {
             "fillmode": "overlay",
             "size": 10,
             "solidity": 0.2
            },
            "type": "scatter"
           }
          ],
          "scatter3d": [
           {
            "line": {
             "colorbar": {
              "outlinewidth": 0,
              "ticks": ""
             }
            },
            "marker": {
             "colorbar": {
              "outlinewidth": 0,
              "ticks": ""
             }
            },
            "type": "scatter3d"
           }
          ],
          "scattercarpet": [
           {
            "marker": {
             "colorbar": {
              "outlinewidth": 0,
              "ticks": ""
             }
            },
            "type": "scattercarpet"
           }
          ],
          "scattergeo": [
           {
            "marker": {
             "colorbar": {
              "outlinewidth": 0,
              "ticks": ""
             }
            },
            "type": "scattergeo"
           }
          ],
          "scattergl": [
           {
            "marker": {
             "colorbar": {
              "outlinewidth": 0,
              "ticks": ""
             }
            },
            "type": "scattergl"
           }
          ],
          "scattermapbox": [
           {
            "marker": {
             "colorbar": {
              "outlinewidth": 0,
              "ticks": ""
             }
            },
            "type": "scattermapbox"
           }
          ],
          "scatterpolar": [
           {
            "marker": {
             "colorbar": {
              "outlinewidth": 0,
              "ticks": ""
             }
            },
            "type": "scatterpolar"
           }
          ],
          "scatterpolargl": [
           {
            "marker": {
             "colorbar": {
              "outlinewidth": 0,
              "ticks": ""
             }
            },
            "type": "scatterpolargl"
           }
          ],
          "scatterternary": [
           {
            "marker": {
             "colorbar": {
              "outlinewidth": 0,
              "ticks": ""
             }
            },
            "type": "scatterternary"
           }
          ],
          "surface": [
           {
            "colorbar": {
             "outlinewidth": 0,
             "ticks": ""
            },
            "colorscale": [
             [
              0,
              "#0d0887"
             ],
             [
              0.1111111111111111,
              "#46039f"
             ],
             [
              0.2222222222222222,
              "#7201a8"
             ],
             [
              0.3333333333333333,
              "#9c179e"
             ],
             [
              0.4444444444444444,
              "#bd3786"
             ],
             [
              0.5555555555555556,
              "#d8576b"
             ],
             [
              0.6666666666666666,
              "#ed7953"
             ],
             [
              0.7777777777777778,
              "#fb9f3a"
             ],
             [
              0.8888888888888888,
              "#fdca26"
             ],
             [
              1,
              "#f0f921"
             ]
            ],
            "type": "surface"
           }
          ],
          "table": [
           {
            "cells": {
             "fill": {
              "color": "#EBF0F8"
             },
             "line": {
              "color": "white"
             }
            },
            "header": {
             "fill": {
              "color": "#C8D4E3"
             },
             "line": {
              "color": "white"
             }
            },
            "type": "table"
           }
          ]
         },
         "layout": {
          "annotationdefaults": {
           "arrowcolor": "#2a3f5f",
           "arrowhead": 0,
           "arrowwidth": 1
          },
          "autotypenumbers": "strict",
          "coloraxis": {
           "colorbar": {
            "outlinewidth": 0,
            "ticks": ""
           }
          },
          "colorscale": {
           "diverging": [
            [
             0,
             "#8e0152"
            ],
            [
             0.1,
             "#c51b7d"
            ],
            [
             0.2,
             "#de77ae"
            ],
            [
             0.3,
             "#f1b6da"
            ],
            [
             0.4,
             "#fde0ef"
            ],
            [
             0.5,
             "#f7f7f7"
            ],
            [
             0.6,
             "#e6f5d0"
            ],
            [
             0.7,
             "#b8e186"
            ],
            [
             0.8,
             "#7fbc41"
            ],
            [
             0.9,
             "#4d9221"
            ],
            [
             1,
             "#276419"
            ]
           ],
           "sequential": [
            [
             0,
             "#0d0887"
            ],
            [
             0.1111111111111111,
             "#46039f"
            ],
            [
             0.2222222222222222,
             "#7201a8"
            ],
            [
             0.3333333333333333,
             "#9c179e"
            ],
            [
             0.4444444444444444,
             "#bd3786"
            ],
            [
             0.5555555555555556,
             "#d8576b"
            ],
            [
             0.6666666666666666,
             "#ed7953"
            ],
            [
             0.7777777777777778,
             "#fb9f3a"
            ],
            [
             0.8888888888888888,
             "#fdca26"
            ],
            [
             1,
             "#f0f921"
            ]
           ],
           "sequentialminus": [
            [
             0,
             "#0d0887"
            ],
            [
             0.1111111111111111,
             "#46039f"
            ],
            [
             0.2222222222222222,
             "#7201a8"
            ],
            [
             0.3333333333333333,
             "#9c179e"
            ],
            [
             0.4444444444444444,
             "#bd3786"
            ],
            [
             0.5555555555555556,
             "#d8576b"
            ],
            [
             0.6666666666666666,
             "#ed7953"
            ],
            [
             0.7777777777777778,
             "#fb9f3a"
            ],
            [
             0.8888888888888888,
             "#fdca26"
            ],
            [
             1,
             "#f0f921"
            ]
           ]
          },
          "colorway": [
           "#636efa",
           "#EF553B",
           "#00cc96",
           "#ab63fa",
           "#FFA15A",
           "#19d3f3",
           "#FF6692",
           "#B6E880",
           "#FF97FF",
           "#FECB52"
          ],
          "font": {
           "color": "#2a3f5f"
          },
          "geo": {
           "bgcolor": "white",
           "lakecolor": "white",
           "landcolor": "#E5ECF6",
           "showlakes": true,
           "showland": true,
           "subunitcolor": "white"
          },
          "hoverlabel": {
           "align": "left"
          },
          "hovermode": "closest",
          "mapbox": {
           "style": "light"
          },
          "paper_bgcolor": "white",
          "plot_bgcolor": "#E5ECF6",
          "polar": {
           "angularaxis": {
            "gridcolor": "white",
            "linecolor": "white",
            "ticks": ""
           },
           "bgcolor": "#E5ECF6",
           "radialaxis": {
            "gridcolor": "white",
            "linecolor": "white",
            "ticks": ""
           }
          },
          "scene": {
           "xaxis": {
            "backgroundcolor": "#E5ECF6",
            "gridcolor": "white",
            "gridwidth": 2,
            "linecolor": "white",
            "showbackground": true,
            "ticks": "",
            "zerolinecolor": "white"
           },
           "yaxis": {
            "backgroundcolor": "#E5ECF6",
            "gridcolor": "white",
            "gridwidth": 2,
            "linecolor": "white",
            "showbackground": true,
            "ticks": "",
            "zerolinecolor": "white"
           },
           "zaxis": {
            "backgroundcolor": "#E5ECF6",
            "gridcolor": "white",
            "gridwidth": 2,
            "linecolor": "white",
            "showbackground": true,
            "ticks": "",
            "zerolinecolor": "white"
           }
          },
          "shapedefaults": {
           "line": {
            "color": "#2a3f5f"
           }
          },
          "ternary": {
           "aaxis": {
            "gridcolor": "white",
            "linecolor": "white",
            "ticks": ""
           },
           "baxis": {
            "gridcolor": "white",
            "linecolor": "white",
            "ticks": ""
           },
           "bgcolor": "#E5ECF6",
           "caxis": {
            "gridcolor": "white",
            "linecolor": "white",
            "ticks": ""
           }
          },
          "title": {
           "x": 0.05
          },
          "xaxis": {
           "automargin": true,
           "gridcolor": "white",
           "linecolor": "white",
           "ticks": "",
           "title": {
            "standoff": 15
           },
           "zerolinecolor": "white",
           "zerolinewidth": 2
          },
          "yaxis": {
           "automargin": true,
           "gridcolor": "white",
           "linecolor": "white",
           "ticks": "",
           "title": {
            "standoff": 15
           },
           "zerolinecolor": "white",
           "zerolinewidth": 2
          }
         }
        },
        "title": {
         "text": "Population per canton divided by age groups"
        },
        "updatemenus": [
         {
          "buttons": [
           {
            "args": [
             null,
             {
              "frame": {
               "duration": 500,
               "redraw": true
              },
              "fromcurrent": true,
              "mode": "immediate",
              "transition": {
               "duration": 500,
               "easing": "linear"
              }
             }
            ],
            "label": "&#9654;",
            "method": "animate"
           },
           {
            "args": [
             [
              null
             ],
             {
              "frame": {
               "duration": 0,
               "redraw": true
              },
              "fromcurrent": true,
              "mode": "immediate",
              "transition": {
               "duration": 0,
               "easing": "linear"
              }
             }
            ],
            "label": "&#9724;",
            "method": "animate"
           }
          ],
          "direction": "left",
          "pad": {
           "r": 10,
           "t": 70
          },
          "showactive": false,
          "type": "buttons",
          "x": 0.1,
          "xanchor": "right",
          "y": 0,
          "yanchor": "top"
         }
        ],
        "xaxis": {
         "anchor": "y",
         "categoryarray": [
          "0 - 9",
          "10 - 19",
          "20 - 29",
          "30 - 39",
          "40 - 49",
          "50 - 59",
          "60 - 69",
          "70 - 79",
          "80+"
         ],
         "categoryorder": "array",
         "domain": [
          0,
          1
         ],
         "title": {
          "text": "Age group"
         }
        },
        "yaxis": {
         "anchor": "x",
         "domain": [
          0,
          1
         ],
         "range": [
          3,
          130000
         ],
         "title": {
          "text": "Population"
         }
        }
       }
      }
     },
     "metadata": {},
     "output_type": "display_data"
    }
   ],
   "source": [
    "# Grafik erstellen\n",
    "fig = px.bar(data2, x='ageRange', y=\"pop\", color=\"ageRange\",\n",
    "  animation_frame=\"geoRegion\", animation_group=\"ageRange\", range_y=[3, 130000],\n",
    "             labels={\"pop\":\"Population\",\n",
    "            \"ageRange\":\"Age group\",\n",
    "            \"geoRegion\": \"Canton\"},\n",
    "             title='Population per canton divided by age groups')\n",
    "\n",
    "fig.show()"
   ]
  }
 ],
 "metadata": {
  "kernelspec": {
   "display_name": "Python 3.11.0 64-bit",
   "language": "python",
   "name": "python3"
  },
  "language_info": {
   "codemirror_mode": {
    "name": "ipython",
    "version": 3
   },
   "file_extension": ".py",
   "mimetype": "text/x-python",
   "name": "python",
   "nbconvert_exporter": "python",
   "pygments_lexer": "ipython3",
   "version": "3.11.0"
  },
  "vscode": {
   "interpreter": {
    "hash": "aee8b7b246df8f9039afb4144a1f6fd8d2ca17a180786b69acc140d282b71a49"
   }
  }
 },
 "nbformat": 4,
 "nbformat_minor": 4
}
